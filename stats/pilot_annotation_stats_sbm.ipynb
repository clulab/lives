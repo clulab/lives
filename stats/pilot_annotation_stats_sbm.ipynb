{
 "cells": [
  {
   "cell_type": "markdown",
   "id": "dfa5e8f0",
   "metadata": {},
   "source": [
    "# Pilot annotation stats notebook"
   ]
  },
  {
   "cell_type": "markdown",
   "id": "958f26f1",
   "metadata": {},
   "source": [
    "**Objective**\n",
    "\n",
    "- Create descriptive stats for LabelStudeio `pilot` annotations.\n",
    "\n",
    "\n",
    "**Data**\n",
    "\n",
    "The Pilot data was extracted from the following files:\n",
    "- box/Annotation_Pilot_(English)_completed_bckp.json\n",
    "- box/Annotation_Pilot_(Spanish)_completed_bckp.json\n",
    "\n",
    "How to prepare the data:\n",
    "- All the data was extracted using `..exports.json_parser` outputs\n",
    "- 1: cd to `../data_wrangling/exports/`\n",
    "- 2: open `json_parser.py` and change the `LS_EXPORTED_FILE_NAME` to the name of your `*_bckp` file\n",
    "- 3: run `python json_parser.py -diarisation -turn -interview`\n",
    "- 4: copy the csv output files from `../data_wrangling/exports/output` to `./data/`\n",
    "\n",
    "There are three types of data. Here is what we'd like to extract from them at this stage:\n",
    "- pilot_interview_annotation_\\[lang\\].csv\n",
    "  - Get descriptive stats for MITI global ratings per MITI construct\n",
    "  - Calculate MITI spirit rating\n",
    "  - Calculate correlations between MITI interview and turn constructs\n",
    "  - Calculate correlations between MITI interview constructs and participant/coach turn length ratio\n",
    "- pilot_turn_annotation_\\[lang\\].csv\n",
    "  - Get descriptive stats for MITI turn constructs\n",
    "  - Calculate correlations between MITI interview and turn constructs\n",
    "  - Get descriptive stats for MITI turn techniques\n",
    "- pilot_turn_diarisation_\\[lang\\].csv\n",
    "  - Calculate turn lengths\n",
    "  - Get descriptive stats for turn lengths (coach vs participant)\n",
    "  - Calculate correlations between MITI interview constructs and participant/coach turn length ratio\n",
    "\n",
    "We decided to have one designated annotator per language to use their annotations as ground truth\n",
    "- English: Sarah: Interviews 2\\*, 3, 4, 5, and 6\\*\n",
    "  - There are not 5 fully annotated interviews\n",
    "  - \\*Interview 2 does not have turn annotations\n",
    "  - \\*Interview 6 does not have interview global rating annotations\n",
    "- Spanish: Damian: Interviews 8, 9, and 10\n",
    "\n",
    "**Notes**\n",
    "\n",
    "- Version 1.0. Numbers for SBM conference abstract.\n",
    "- Should run with Python==3.0+\n",
    "- Created by Damian Romero, Fall 2021"
   ]
  },
  {
   "cell_type": "markdown",
   "id": "1dc3996f",
   "metadata": {},
   "source": [
    "--------------------------------------------\n",
    "\n",
    "## Imports, global variables, etc"
   ]
  },
  {
   "cell_type": "code",
   "execution_count": 1,
   "id": "4a96c09b",
   "metadata": {},
   "outputs": [],
   "source": [
    "import csv\n",
    "import json\n",
    "import pandas as pd\n",
    "import numpy as np\n",
    "import matplotlib.pyplot as plt\n",
    "\n",
    "from IPython.display import display, Markdown"
   ]
  },
  {
   "cell_type": "code",
   "execution_count": 2,
   "id": "dd138fed",
   "metadata": {},
   "outputs": [],
   "source": [
    "%matplotlib inline"
   ]
  },
  {
   "cell_type": "code",
   "execution_count": 3,
   "id": "b3d19297",
   "metadata": {},
   "outputs": [
    {
     "name": "stdout",
     "output_type": "stream",
     "text": [
      "Select language: English or Spanish:... en\n"
     ]
    }
   ],
   "source": [
    "# Type the language and press `Enter`, then run the rest of the notebook\n",
    "language = input(\"Select language: English or Spanish:... \")"
   ]
  },
  {
   "cell_type": "code",
   "execution_count": 4,
   "id": "33d24482",
   "metadata": {},
   "outputs": [
    {
     "name": "stdout",
     "output_type": "stream",
     "text": [
      "You are running this notebook for `English` pilot annotations.\n",
      "The annotator on record is `sarahjwright`\n"
     ]
    }
   ],
   "source": [
    "# input/output prefixes\n",
    "INPUT_PREFIX = \"./data/\"\n",
    "OUTPUT_PREFIX = \"./output/pilot_\"\n",
    "\n",
    "# Create global variables based on language\n",
    "if language.lower().startswith(\"e\"):\n",
    "    ANNOTATOR = 'sarahjwright'\n",
    "    LANGUAGE = \"English\"\n",
    "    LANGUAGE_SUFFIX = '_en'\n",
    "else:\n",
    "    ANNOTATOR = 'damianiji'\n",
    "    LANGUAGE = \"Spanish\"\n",
    "    LANGUAGE_SUFFIX = '_es'\n",
    "\n",
    "print(f\"You are running this notebook for `{LANGUAGE}` pilot annotations.\\nThe annotator on record is `{ANNOTATOR}`\")"
   ]
  },
  {
   "cell_type": "code",
   "execution_count": 5,
   "id": "f3ba90ed",
   "metadata": {},
   "outputs": [],
   "source": [
    "# Create dictionaries from annotation codebook for later output\n",
    "\n",
    "miti_constructs_dict = {}\n",
    "miti_techniques_dict = {}\n",
    "\n",
    "with open(INPUT_PREFIX + \"pilot_annotation_codebook.csv\") as csv_file:\n",
    "    csv_reader = csv.reader(csv_file, delimiter=',')\n",
    "    line_count = 0\n",
    "    for row in csv_reader:\n",
    "        if line_count == 0:  # Skip column names\n",
    "            line_count += 1\n",
    "            continue\n",
    "        elif row[1] == \"coach_constructs_bad\" or row[1] == \"coach_constructs_good\":\n",
    "            miti_constructs_dict[row[2]] = 0\n",
    "            # print(row[1])\n",
    "            line_count += 1\n",
    "        elif row[1] == \"coach_techniques_adherence\" or row[1] == \"coach_techniques_other\":\n",
    "            miti_techniques_dict[row[2]] = 0\n",
    "            # print(row[1])\n",
    "            line_count += 1"
   ]
  },
  {
   "cell_type": "code",
   "execution_count": 6,
   "id": "16e589c3",
   "metadata": {},
   "outputs": [],
   "source": [
    "# Input-output\n",
    "\n",
    "def csv_file_to_df(partial_file_name:str, drop_interview:int = None):\n",
    "    \"\"\"Reads in csv files and turns them into pandas dataframes\n",
    "    \n",
    "    There were a couple of issues with Sarah's annotations\n",
    "      So we need to drop certain interviews.\n",
    "      - Turn annotation: Did not annotate interview #2\n",
    "      - Interviw annotation: Did not annotate interview #6\n",
    "    \"\"\"\n",
    "\n",
    "    csv_to_read = INPUT_PREFIX + partial_file_name + LANGUAGE_SUFFIX + \".csv\"\n",
    "    df = pd.read_csv(csv_to_read)\n",
    "\n",
    "    if drop_interview:\n",
    "        return df[df.interview_id != drop_interview]\n",
    "    else:\n",
    "        return df\n",
    "\n",
    "def out_csv_from_dict(out_dict:dict, partial_file_name:str, fieldnames:list):\n",
    "    \"\"\"Create csv files from a dictionary by language. Takes two fieldnames only.\n",
    "    usage: out_csv_from_dict(miti_techniques_dict, \"miti_techniques\", fieldnames = [\"annotation\", \"count\"])\"\"\"\n",
    "    with open(OUTPUT_PREFIX + partial_file_name + LANGUAGE_SUFFIX + \".csv\", \"w\") as csv_file:\n",
    "        writer = csv.DictWriter(csv_file, fieldnames=fieldnames)\n",
    "        writer.writeheader()\n",
    "        for key, value in out_dict.items():\n",
    "            writer.writerow({fieldnames[0]: key, fieldnames[1]: value})"
   ]
  },
  {
   "cell_type": "code",
   "execution_count": 7,
   "id": "f4ca768c",
   "metadata": {},
   "outputs": [],
   "source": [
    "# Calculate correlations\n",
    "# NOTE: in the end these were not used\n",
    "\n",
    "def corr_interview_turn_constructs(interview_constructs, turn_constructs):\n",
    "    \"\"\"Calculate correlations between MITI interview and turn constructs\"\"\"\n",
    "    corr_mat = np.corrcoef(interview_constructs, turn_constructs)\n",
    "    return corr_mat[0,1]\n",
    "\n",
    "def corr_interview_constructs_turn_ratio(interview_constructs, turn_length_ratio):\n",
    "    \"\"\"Calculate correlations between MITI interview and turn constructs\"\"\"\n",
    "    corr_mat = np.corrcoef(interview_constructs, turn_length_ratio)\n",
    "    return corr_mat[0,1]"
   ]
  },
  {
   "cell_type": "markdown",
   "id": "ffefd477",
   "metadata": {},
   "source": [
    "--------------------------------------------\n",
    "\n",
    "## MITI interview annotation\n",
    "\n",
    "- Dataset: pilot_interview_annotation_[lang].csv\n",
    "- Contents: Sarah's and Damian's MITI Global Ratings"
   ]
  },
  {
   "cell_type": "code",
   "execution_count": 8,
   "id": "49050988",
   "metadata": {},
   "outputs": [
    {
     "name": "stdout",
     "output_type": "stream",
     "text": [
      " *****************\n",
      " interview_df info\n",
      " *****************\n",
      "\n",
      "<class 'pandas.core.frame.DataFrame'>\n",
      "Int64Index: 40 entries, 0 to 44\n",
      "Data columns (total 8 columns):\n",
      " #   Column            Non-Null Count  Dtype \n",
      "---  ------            --------------  ----- \n",
      " 0   task_id           40 non-null     int64 \n",
      " 1   wav_file_name     40 non-null     object\n",
      " 2   interview_id      40 non-null     int64 \n",
      " 3   annotator_id      40 non-null     object\n",
      " 4   annotation_id     40 non-null     object\n",
      " 5   variable_type     40 non-null     object\n",
      " 6   variable_subtype  40 non-null     object\n",
      " 7   rating            40 non-null     int64 \n",
      "dtypes: int64(3), object(5)\n",
      "memory usage: 2.8+ KB\n",
      "None\n",
      "\n",
      " *****************\n",
      " interview_df head\n",
      " *****************\n",
      "\n"
     ]
    },
    {
     "data": {
      "text/markdown": [
       "|    |   task_id | wav_file_name                          |   interview_id | annotator_id   | annotation_id   | variable_type   | variable_subtype           |   rating |\n",
       "|---:|----------:|:---------------------------------------|---------------:|:---------------|:----------------|:----------------|:---------------------------|---------:|\n",
       "|  0 |         3 | RE1f175cf47d8bc64eba9b21aaec028e44.wav |              3 | sarahjwright   | d_TPr9pjS_      | rating          | interview_autonomy_support |        2 |\n",
       "|  1 |         3 | RE1f175cf47d8bc64eba9b21aaec028e44.wav |              3 | sarahjwright   | 1n3ZdR-4hs      | rating          | interview_direction        |        4 |\n",
       "|  2 |         3 | RE1f175cf47d8bc64eba9b21aaec028e44.wav |              3 | sarahjwright   | DYsrqsO0cm      | rating          | interview_collaboration    |        2 |\n",
       "|  3 |         3 | RE1f175cf47d8bc64eba9b21aaec028e44.wav |              3 | sarahjwright   | Rh5OugSOv7      | rating          | interview_empathy          |        2 |\n",
       "|  4 |         3 | RE1f175cf47d8bc64eba9b21aaec028e44.wav |              3 | sarahjwright   | sdynNSpyvz      | rating          | interview_evocation        |        2 |"
      ],
      "text/plain": [
       "<IPython.core.display.Markdown object>"
      ]
     },
     "metadata": {},
     "output_type": "display_data"
    }
   ],
   "source": [
    "# Import data into pandas and query the dataframe\n",
    "\n",
    "# Drop interview #6 due to no English annotations\n",
    "if LANGUAGE == \"English\":\n",
    "    interview_df = csv_file_to_df('pilot_interview_annotation', 6)\n",
    "else:\n",
    "    interview_df = csv_file_to_df('pilot_interview_annotation')\n",
    "\n",
    "print(\" *****************\\n\",\n",
    "      \"interview_df info\\n\",\n",
    "      \"*****************\\n\",)\n",
    "print(interview_df.info())\n",
    "\n",
    "print(\"\\n *****************\\n\",\n",
    "      \"interview_df head\\n\",\n",
    "      \"*****************\\n\",)\n",
    "\n",
    "display(Markdown(interview_df.head().to_markdown()))"
   ]
  },
  {
   "cell_type": "code",
   "execution_count": 9,
   "id": "ba8d8d1d",
   "metadata": {},
   "outputs": [
    {
     "data": {
      "text/plain": [
       "sarahjwright    20\n",
       "damianiji       20\n",
       "Name: annotator_id, dtype: int64"
      ]
     },
     "execution_count": 9,
     "metadata": {},
     "output_type": "execute_result"
    }
   ],
   "source": [
    "# Show annotations per annotator\n",
    "\n",
    "interview_df[\"annotator_id\"].value_counts()"
   ]
  },
  {
   "cell_type": "code",
   "execution_count": 10,
   "id": "cbbd2836",
   "metadata": {},
   "outputs": [
    {
     "data": {
      "text/html": [
       "<div>\n",
       "<style scoped>\n",
       "    .dataframe tbody tr th:only-of-type {\n",
       "        vertical-align: middle;\n",
       "    }\n",
       "\n",
       "    .dataframe tbody tr th {\n",
       "        vertical-align: top;\n",
       "    }\n",
       "\n",
       "    .dataframe thead th {\n",
       "        text-align: right;\n",
       "    }\n",
       "</style>\n",
       "<table border=\"1\" class=\"dataframe\">\n",
       "  <thead>\n",
       "    <tr style=\"text-align: right;\">\n",
       "      <th></th>\n",
       "      <th>wav_file_name</th>\n",
       "      <th>annotator_id</th>\n",
       "      <th>annotation_id</th>\n",
       "      <th>variable_type</th>\n",
       "      <th>variable_subtype</th>\n",
       "    </tr>\n",
       "  </thead>\n",
       "  <tbody>\n",
       "    <tr>\n",
       "      <th>count</th>\n",
       "      <td>20</td>\n",
       "      <td>20</td>\n",
       "      <td>20</td>\n",
       "      <td>20</td>\n",
       "      <td>20</td>\n",
       "    </tr>\n",
       "    <tr>\n",
       "      <th>unique</th>\n",
       "      <td>4</td>\n",
       "      <td>1</td>\n",
       "      <td>20</td>\n",
       "      <td>1</td>\n",
       "      <td>5</td>\n",
       "    </tr>\n",
       "    <tr>\n",
       "      <th>top</th>\n",
       "      <td>RE1f175cf47d8bc64eba9b21aaec028e44.wav</td>\n",
       "      <td>sarahjwright</td>\n",
       "      <td>d_TPr9pjS_</td>\n",
       "      <td>rating</td>\n",
       "      <td>interview_autonomy_support</td>\n",
       "    </tr>\n",
       "    <tr>\n",
       "      <th>freq</th>\n",
       "      <td>5</td>\n",
       "      <td>20</td>\n",
       "      <td>1</td>\n",
       "      <td>20</td>\n",
       "      <td>4</td>\n",
       "    </tr>\n",
       "  </tbody>\n",
       "</table>\n",
       "</div>"
      ],
      "text/plain": [
       "                                 wav_file_name  annotator_id annotation_id  \\\n",
       "count                                       20            20            20   \n",
       "unique                                       4             1            20   \n",
       "top     RE1f175cf47d8bc64eba9b21aaec028e44.wav  sarahjwright    d_TPr9pjS_   \n",
       "freq                                         5            20             1   \n",
       "\n",
       "       variable_type            variable_subtype  \n",
       "count             20                          20  \n",
       "unique             1                           5  \n",
       "top           rating  interview_autonomy_support  \n",
       "freq              20                           4  "
      ]
     },
     "execution_count": 10,
     "metadata": {},
     "output_type": "execute_result"
    }
   ],
   "source": [
    "# Create dataframe with the language designated annotator's annotations\n",
    "\n",
    "interview_df_annotator = interview_df[interview_df[\"annotator_id\"] == ANNOTATOR]\n",
    "interview_df_annotator.describe(include=object)"
   ]
  },
  {
   "cell_type": "code",
   "execution_count": 11,
   "id": "99e62e55",
   "metadata": {},
   "outputs": [
    {
     "data": {
      "text/plain": [
       "variable_subtype\n",
       "interview_autonomy_support    4.25\n",
       "interview_direction           4.25\n",
       "interview_collaboration       3.75\n",
       "interview_empathy             4.25\n",
       "interview_evocation           3.25\n",
       "Name: rating, dtype: float64"
      ]
     },
     "execution_count": 11,
     "metadata": {},
     "output_type": "execute_result"
    }
   ],
   "source": [
    "# Get descriptive stats for MITI global ratings per MITI construct: Means accross all annotator's interviews\n",
    "\n",
    "miti_interview_means = interview_df_annotator.groupby(\"variable_subtype\", sort=False)[\"rating\"].mean()\n",
    "miti_interview_means"
   ]
  },
  {
   "cell_type": "code",
   "execution_count": 12,
   "id": "a2349e84",
   "metadata": {},
   "outputs": [],
   "source": [
    "# Calculate MITI global spirit rating:\n",
    "\n",
    "def global_spirit_rating(evocation:float, collaboration:float, autonomy_support:float):\n",
    "    \"\"\"Calculate Global MI Rating. Defined in MITI 3.0 as follows:\n",
    "    Global Spirit Rating = (Evocation + Collaboration + Autonomy/Support) / 3\"\"\"\n",
    "    return (evocation + collaboration + autonomy_support) / 3\n",
    "\n",
    "global_rating = global_spirit_rating(miti_interview_means[\"interview_evocation\"],\n",
    "                                     miti_interview_means[\"interview_collaboration\"],\n",
    "                                     miti_interview_means[\"interview_autonomy_support\"])"
   ]
  },
  {
   "cell_type": "code",
   "execution_count": 13,
   "id": "d6fc412b",
   "metadata": {},
   "outputs": [],
   "source": [
    "# Add global rating to data and send to output file\n",
    "\n",
    "miti_interview_means_dict = miti_interview_means.to_dict()\n",
    "miti_interview_means_dict[\"global_rating\"] = global_rating\n",
    "\n",
    "out_csv_from_dict(miti_interview_means_dict,\n",
    "                   \"miti_interview_constructs_means\",\n",
    "                   [\"annotation\", \"score\"])"
   ]
  },
  {
   "cell_type": "code",
   "execution_count": 14,
   "id": "163c1d7b",
   "metadata": {},
   "outputs": [
    {
     "name": "stdout",
     "output_type": "stream",
     "text": [
      "2 {'interview_autonomy_support': 5.0, 'interview_collaboration': 4.0, 'interview_direction': 5.0, 'interview_empathy': 5.0, 'interview_evocation': 4.0}\n",
      "3 {'interview_autonomy_support': 2.0, 'interview_direction': 4.0, 'interview_collaboration': 2.0, 'interview_empathy': 2.0, 'interview_evocation': 2.0}\n",
      "4 {'interview_autonomy_support': 5.0, 'interview_collaboration': 5.0, 'interview_direction': 5.0, 'interview_empathy': 5.0, 'interview_evocation': 4.0}\n",
      "5 {'interview_autonomy_support': 5.0, 'interview_direction': 3.0, 'interview_collaboration': 4.0, 'interview_empathy': 5.0, 'interview_evocation': 3.0}\n"
     ]
    },
    {
     "data": {
      "text/plain": [
       "{2: 4.333333333333333, 3: 2.0, 4: 4.666666666666667, 5: 4.0}"
      ]
     },
     "execution_count": 14,
     "metadata": {},
     "output_type": "execute_result"
    }
   ],
   "source": [
    "# Calculate MITI global spirit rating for each interview\n",
    "\n",
    "# miti_interview_means = interview_df_annotator.groupby([\"interview_id\",\"variable_subtype\"], sort=True)[\"rating\"].mean()\n",
    "# miti_interview_means\n",
    "\n",
    "interview_df_annotator_byint = interview_df_annotator[[\"interview_id\",\"variable_subtype\",\"rating\"]]\n",
    "\n",
    "interview_df_annotator_dict = interview_df_annotator_byint.groupby([\"interview_id\",\"variable_subtype\"], sort=False)[\"rating\"].mean().to_dict()\n",
    "\n",
    "# interview_df_annotator_dict[\"interview_evocation\"]\n",
    "# interview_df_annotator_dict.to_dict()\n",
    "\n",
    "from collections import defaultdict\n",
    "\n",
    "interviews_global_ratings_dict = {}\n",
    "evocation_collaboration_support_byint = defaultdict(dict)\n",
    "\n",
    "for k,v in interview_df_annotator_dict.items():\n",
    "    evocation_collaboration_support_byint[k[0]][k[1]] = v\n",
    "evocation_collaboration_support_byint_list = sorted(evocation_collaboration_support_byint.items())\n",
    "\n",
    "for k, v in evocation_collaboration_support_byint_list:\n",
    "    print(k,v)\n",
    "    global_rating = global_spirit_rating(evocation_collaboration_support_byint[k][\"interview_evocation\"],\n",
    "                                         evocation_collaboration_support_byint[k][\"interview_collaboration\"],\n",
    "                                         evocation_collaboration_support_byint[k][\"interview_autonomy_support\"])\n",
    "    interviews_global_ratings_dict[k] = global_rating\n",
    "\n",
    "interviews_global_ratings_dict\n"
   ]
  },
  {
   "cell_type": "markdown",
   "id": "cfe77e91",
   "metadata": {},
   "source": [
    "--------------------------------------------\n",
    "\n",
    "## Turn annotation\n",
    "\n",
    "Dataset: pilot_turn_annotation_[lang].csv\n",
    "\n",
    "Contents: Sarah's and Damian's turn annotations (fidelity, call content, miti techniques, etc)"
   ]
  },
  {
   "cell_type": "code",
   "execution_count": 15,
   "id": "b20985c5",
   "metadata": {},
   "outputs": [
    {
     "name": "stdout",
     "output_type": "stream",
     "text": [
      " *****************\n",
      " interview_df info\n",
      " *****************\n",
      "\n",
      "<class 'pandas.core.frame.DataFrame'>\n",
      "Int64Index: 280 entries, 0 to 279\n",
      "Data columns (total 8 columns):\n",
      " #   Column            Non-Null Count  Dtype \n",
      "---  ------            --------------  ----- \n",
      " 0   task_id           280 non-null    int64 \n",
      " 1   wav_file_name     280 non-null    object\n",
      " 2   interview_id      280 non-null    int64 \n",
      " 3   annotator_id      280 non-null    object\n",
      " 4   annotation_id     280 non-null    object\n",
      " 5   variable_type     280 non-null    object\n",
      " 6   variable_subtype  280 non-null    object\n",
      " 7   annotation        280 non-null    object\n",
      "dtypes: int64(2), object(6)\n",
      "memory usage: 19.7+ KB\n",
      "None\n",
      "\n",
      " *****************\n",
      " interview_df head\n",
      " *****************\n",
      "\n"
     ]
    },
    {
     "data": {
      "text/markdown": [
       "|    |   task_id | wav_file_name                          |   interview_id | annotator_id   | annotation_id          | variable_type   | variable_subtype       | annotation                              |\n",
       "|---:|----------:|:---------------------------------------|---------------:|:---------------|:-----------------------|:----------------|:-----------------------|:----------------------------------------|\n",
       "|  0 |         3 | RE1f175cf47d8bc64eba9b21aaec028e44.wav |              3 | sarahjwright   | wavesurfer_54igiu7vin8 | choices         | coach_fidelity         | introduce_self_and_study_name           |\n",
       "|  1 |         3 | RE1f175cf47d8bc64eba9b21aaec028e44.wav |              3 | sarahjwright   | wavesurfer_o8hco4chh38 | choices         | coach_fidelity         | check_availability                      |\n",
       "|  2 |         3 | RE1f175cf47d8bc64eba9b21aaec028e44.wav |              3 | sarahjwright   | wavesurfer_91fvg3qq3ug | choices         | coach_fidelity         | past_goal_review                        |\n",
       "|  3 |         3 | RE1f175cf47d8bc64eba9b21aaec028e44.wav |              3 | sarahjwright   | wavesurfer_91fvg3qq3ug | choices         | coach_techniques_other | rfi_open                                |\n",
       "|  4 |         3 | RE1f175cf47d8bc64eba9b21aaec028e44.wav |              3 | sarahjwright   | wavesurfer_o8dtirsfi4o | choices         | participant_mi_related | change_talk_goal_talk_and_opportunities |"
      ],
      "text/plain": [
       "<IPython.core.display.Markdown object>"
      ]
     },
     "metadata": {},
     "output_type": "display_data"
    }
   ],
   "source": [
    "# Import data into pandas and query the dataframe\n",
    "\n",
    "# Drop interview #2 due to no English annotations\n",
    "if LANGUAGE == \"English\":\n",
    "    turn_df = csv_file_to_df('pilot_turn_annotation', 2)\n",
    "else:\n",
    "    turn_df = csv_file_to_df('pilot_turn_annotation')\n",
    "\n",
    "print(\" *****************\\n\",\n",
    "      \"interview_df info\\n\",\n",
    "      \"*****************\\n\",)\n",
    "print(turn_df.info())\n",
    "\n",
    "print(\"\\n *****************\\n\",\n",
    "      \"interview_df head\\n\",\n",
    "      \"*****************\\n\",)\n",
    "\n",
    "display(Markdown(turn_df.head().to_markdown()))"
   ]
  },
  {
   "cell_type": "code",
   "execution_count": 16,
   "id": "75e69317",
   "metadata": {},
   "outputs": [
    {
     "name": "stdout",
     "output_type": "stream",
     "text": [
      "\n",
      " ******************************************\n",
      " N of annotations without annotator's notes\n",
      " ******************************************\n"
     ]
    },
    {
     "data": {
      "text/markdown": [
       "|              |   annotator_id |\n",
       "|:-------------|---------------:|\n",
       "| damianiji    |            153 |\n",
       "| sarahjwright |             99 |"
      ],
      "text/plain": [
       "<IPython.core.display.Markdown object>"
      ]
     },
     "metadata": {},
     "output_type": "display_data"
    },
    {
     "name": "stdout",
     "output_type": "stream",
     "text": [
      "\n",
      " ***********************\n",
      " N of annotator's notes\n",
      " ***********************\n"
     ]
    },
    {
     "data": {
      "text/markdown": [
       "|              |   annotator_id |\n",
       "|:-------------|---------------:|\n",
       "| damianiji    |             19 |\n",
       "| sarahjwright |              9 |"
      ],
      "text/plain": [
       "<IPython.core.display.Markdown object>"
      ]
     },
     "metadata": {},
     "output_type": "display_data"
    }
   ],
   "source": [
    "# Show annotations per annotator\n",
    "\n",
    "turn_annotations_df = turn_df[\"annotator_id\"].value_counts() \n",
    "turn_annotations_without_notes_df = turn_df[turn_df.variable_type != 'textarea'][\"annotator_id\"].value_counts()\n",
    "turn_annotators_notes_df = turn_annotations_df - turn_annotations_without_notes_df\n",
    "\n",
    "print(\"\\n ******************************************\\n\",\n",
    "      \"N of annotations without annotator's notes\\n\",\n",
    "      \"******************************************\",)\n",
    "display(Markdown(turn_annotations_without_notes_df.head().to_markdown()))\n",
    "\n",
    "print(\"\\n ***********************\\n\",\n",
    "      \"N of annotator's notes\\n\",\n",
    "      \"***********************\",)\n",
    "display(Markdown(turn_annotators_notes_df.head().to_markdown()))"
   ]
  },
  {
   "cell_type": "code",
   "execution_count": 17,
   "id": "d8d36b81",
   "metadata": {},
   "outputs": [
    {
     "data": {
      "text/html": [
       "<div>\n",
       "<style scoped>\n",
       "    .dataframe tbody tr th:only-of-type {\n",
       "        vertical-align: middle;\n",
       "    }\n",
       "\n",
       "    .dataframe tbody tr th {\n",
       "        vertical-align: top;\n",
       "    }\n",
       "\n",
       "    .dataframe thead th {\n",
       "        text-align: right;\n",
       "    }\n",
       "</style>\n",
       "<table border=\"1\" class=\"dataframe\">\n",
       "  <thead>\n",
       "    <tr style=\"text-align: right;\">\n",
       "      <th></th>\n",
       "      <th>wav_file_name</th>\n",
       "      <th>annotator_id</th>\n",
       "      <th>annotation_id</th>\n",
       "      <th>variable_type</th>\n",
       "      <th>variable_subtype</th>\n",
       "      <th>annotation</th>\n",
       "    </tr>\n",
       "  </thead>\n",
       "  <tbody>\n",
       "    <tr>\n",
       "      <th>count</th>\n",
       "      <td>108</td>\n",
       "      <td>108</td>\n",
       "      <td>108</td>\n",
       "      <td>108</td>\n",
       "      <td>108</td>\n",
       "      <td>108</td>\n",
       "    </tr>\n",
       "    <tr>\n",
       "      <th>unique</th>\n",
       "      <td>4</td>\n",
       "      <td>1</td>\n",
       "      <td>59</td>\n",
       "      <td>2</td>\n",
       "      <td>12</td>\n",
       "      <td>37</td>\n",
       "    </tr>\n",
       "    <tr>\n",
       "      <th>top</th>\n",
       "      <td>RE1f175cf47d8bc64eba9b21aaec028e44.wav</td>\n",
       "      <td>sarahjwright</td>\n",
       "      <td>wavesurfer_ed7230o3eso</td>\n",
       "      <td>choices</td>\n",
       "      <td>coach_techniques_other</td>\n",
       "      <td>change_talk_goal_talk_and_opportunities</td>\n",
       "    </tr>\n",
       "    <tr>\n",
       "      <th>freq</th>\n",
       "      <td>44</td>\n",
       "      <td>108</td>\n",
       "      <td>6</td>\n",
       "      <td>99</td>\n",
       "      <td>21</td>\n",
       "      <td>12</td>\n",
       "    </tr>\n",
       "  </tbody>\n",
       "</table>\n",
       "</div>"
      ],
      "text/plain": [
       "                                 wav_file_name  annotator_id  \\\n",
       "count                                      108           108   \n",
       "unique                                       4             1   \n",
       "top     RE1f175cf47d8bc64eba9b21aaec028e44.wav  sarahjwright   \n",
       "freq                                        44           108   \n",
       "\n",
       "                 annotation_id variable_type        variable_subtype  \\\n",
       "count                      108           108                     108   \n",
       "unique                      59             2                      12   \n",
       "top     wavesurfer_ed7230o3eso       choices  coach_techniques_other   \n",
       "freq                         6            99                      21   \n",
       "\n",
       "                                     annotation  \n",
       "count                                       108  \n",
       "unique                                       37  \n",
       "top     change_talk_goal_talk_and_opportunities  \n",
       "freq                                         12  "
      ]
     },
     "execution_count": 17,
     "metadata": {},
     "output_type": "execute_result"
    }
   ],
   "source": [
    "# Create dataframe with the language designated annotator's annotations\n",
    "\n",
    "turn_df_annotator = turn_df[turn_df[\"annotator_id\"] == ANNOTATOR]\n",
    "\n",
    "# Suppress warning: https://stackoverflow.com/questions/20625582/how-to-deal-with-settingwithcopywarning-in-pandas\n",
    "pd.options.mode.chained_assignment = None\n",
    "# Add single count per annotation_id to later use it for .count()\n",
    "turn_df_annotator[\"count\"] = [1 for x in turn_df_annotator[\"annotation_id\"]]\n",
    "\n",
    "# Define column names to drop later\n",
    "drop_columns = [\"wav_file_name\", \"interview_id\", \"annotator_id\", \"variable_type\",\n",
    "                \"variable_subtype\", \"task_id\",\"annotation_id\"]\n",
    "\n",
    "turn_df_annotator.describe(include=object)"
   ]
  },
  {
   "cell_type": "markdown",
   "id": "75ce8e2f",
   "metadata": {},
   "source": [
    "**Get descriptive stats for MITI turn techniques. We're interested in:**\n",
    "\n",
    "- Choices,coach_techniques_adherence\n",
    "  - giving_advice_mina\n",
    "  - imposition_mina\n",
    "  - confrontation_mina\n",
    "  - mi_adherent_mia\n",
    "\n",
    "- Choices,coach_techniques_other\n",
    "  - rfi closed\n",
    "  - rfi_open\n",
    "  - reflection_simple\n",
    "  - reflection_complex"
   ]
  },
  {
   "cell_type": "code",
   "execution_count": 18,
   "id": "7a93a2d1",
   "metadata": {},
   "outputs": [
    {
     "name": "stdout",
     "output_type": "stream",
     "text": [
      "<class 'pandas.core.frame.DataFrame'>\n",
      "Int64Index: 32 entries, 12 to 252\n",
      "Data columns (total 2 columns):\n",
      " #   Column      Non-Null Count  Dtype \n",
      "---  ------      --------------  ----- \n",
      " 0   annotation  32 non-null     object\n",
      " 1   count       32 non-null     int64 \n",
      "dtypes: int64(1), object(1)\n",
      "memory usage: 768.0+ bytes\n"
     ]
    }
   ],
   "source": [
    "# Create dataframes for MITI turn techniques (MIA, MINA, Other[rfi,reflections])\n",
    "\n",
    "coach_techniques_adherence = turn_df_annotator[(turn_df_annotator[\"variable_subtype\"] == \"coach_techniques_adherence\")]\n",
    "coach_techniques_other = turn_df_annotator[(turn_df_annotator[\"variable_subtype\"] == \"coach_techniques_other\")]\n",
    "techniques = pd.concat([coach_techniques_adherence,coach_techniques_other])\n",
    "techniques.drop(drop_columns,inplace=True, axis=1)\n",
    "techniques.info()"
   ]
  },
  {
   "cell_type": "code",
   "execution_count": 19,
   "id": "a4b2a2f9",
   "metadata": {},
   "outputs": [
    {
     "name": "stdout",
     "output_type": "stream",
     "text": [
      "\n",
      " ******************************************\n",
      " miti_techniques_dict before adding counts\n",
      " ******************************************\n",
      " {\n",
      "  \"giving_advice_mina\": 0,\n",
      "  \"imposition_mina\": 0,\n",
      "  \"confrontation_mina\": 0,\n",
      "  \"mi_adherent_mia\": 0,\n",
      "  \"rfi closed\": 0,\n",
      "  \"rfi_open\": 0,\n",
      "  \"reflection_simple\": 0,\n",
      "  \"reflection_complex\": 0\n",
      "}\n",
      "\n",
      " ******************************************\n",
      " miti_techniques_dict AFTER adding counts\n",
      " ******************************************\n",
      " {\n",
      "  \"giving_advice_mina\": 2,\n",
      "  \"imposition_mina\": 1,\n",
      "  \"confrontation_mina\": 0,\n",
      "  \"mi_adherent_mia\": 8,\n",
      "  \"rfi closed\": 6,\n",
      "  \"rfi_open\": 11,\n",
      "  \"reflection_simple\": 4,\n",
      "  \"reflection_complex\": 0\n",
      "}\n"
     ]
    }
   ],
   "source": [
    "# Get counts for MITI turn techniques and write results to csv file\n",
    "\n",
    "#TODO: count by interview `constructs_counts = constructs.groupby([\"interview_id\", \"annotation\"]).count()`\n",
    "techniques_counts = techniques.groupby([\"annotation\"]).count()\n",
    "techniques_counts_dict = techniques_counts.to_dict()[\"count\"]\n",
    "\n",
    "print(\"\\n ******************************************\\n\",\n",
    "      \"miti_techniques_dict before adding counts\\n\",\n",
    "      \"******************************************\\n\",\n",
    "      json.dumps(miti_techniques_dict, indent=2))\n",
    "\n",
    "miti_techniques_dict.update(techniques_counts_dict)\n",
    "\n",
    "out_csv_from_dict(miti_techniques_dict,\"miti_turn_techniques\",[\"annotation\",\"count\"])\n",
    "\n",
    "print(\"\\n ******************************************\\n\",\n",
    "      \"miti_techniques_dict AFTER adding counts\\n\",\n",
    "      \"******************************************\\n\",\n",
    "      json.dumps(miti_techniques_dict, indent=2))\n"
   ]
  },
  {
   "cell_type": "markdown",
   "id": "333c18df",
   "metadata": {},
   "source": [
    "**Get descriptive stats for MITI turn constructs**\n",
    "\n",
    "- Choices,coach_constructs_good\n",
    "  - autonomy_support_good\n",
    "  - collaboration_good\n",
    "  - direction_good\n",
    "  - empathy_good\n",
    "  - evocation_good\n",
    "    \n",
    "- Choices,coach_constructs_bad\n",
    "  - autonomy_support_bad\n",
    "  - collaboration_bad\n",
    "  - direction_bad\n",
    "  - empathy_bad\n",
    "  - evocation_bad"
   ]
  },
  {
   "cell_type": "code",
   "execution_count": 20,
   "id": "0861a398",
   "metadata": {},
   "outputs": [
    {
     "name": "stdout",
     "output_type": "stream",
     "text": [
      "<class 'pandas.core.frame.DataFrame'>\n",
      "Int64Index: 19 entries, 165 to 174\n",
      "Data columns (total 2 columns):\n",
      " #   Column      Non-Null Count  Dtype \n",
      "---  ------      --------------  ----- \n",
      " 0   annotation  19 non-null     object\n",
      " 1   count       19 non-null     int64 \n",
      "dtypes: int64(1), object(1)\n",
      "memory usage: 456.0+ bytes\n"
     ]
    }
   ],
   "source": [
    "# Create dataframes for MITI turn constructs (autonomy, collaboration, etc. _good/_bad)\n",
    "\n",
    "good_constructs = turn_df_annotator[(turn_df_annotator[\"variable_subtype\"] == \"coach_constructs_good\")]\n",
    "bad_constructs = turn_df_annotator[(turn_df_annotator[\"variable_subtype\"] == \"coach_constructs_bad\")]\n",
    "constructs = pd.concat([good_constructs, bad_constructs])\n",
    "constructs.drop(drop_columns,inplace=True, axis=1)\n",
    "constructs.info()"
   ]
  },
  {
   "cell_type": "code",
   "execution_count": 21,
   "id": "0acc6fd1",
   "metadata": {},
   "outputs": [
    {
     "name": "stdout",
     "output_type": "stream",
     "text": [
      "\n",
      " ******************************************\n",
      " miti_techniques_dict before adding counts\n",
      " ******************************************\n",
      " {\n",
      "  \"autonomy_support_bad\": 0,\n",
      "  \"collaboration_bad\": 0,\n",
      "  \"direction_bad\": 0,\n",
      "  \"empathy_bad\": 0,\n",
      "  \"evocation_bad\": 0,\n",
      "  \"autonomy_support_good\": 0,\n",
      "  \"collaboration_good\": 0,\n",
      "  \"direction_good\": 0,\n",
      "  \"empathy_good\": 0,\n",
      "  \"evocation_good\": 0\n",
      "}\n",
      "\n",
      " ******************************************\n",
      " miti_techniques_dict AFTER adding counts\n",
      " ******************************************\n",
      " {\n",
      "  \"autonomy_support_bad\": 2,\n",
      "  \"collaboration_bad\": 3,\n",
      "  \"direction_bad\": 0,\n",
      "  \"empathy_bad\": 1,\n",
      "  \"evocation_bad\": 0,\n",
      "  \"autonomy_support_good\": 2,\n",
      "  \"collaboration_good\": 5,\n",
      "  \"direction_good\": 2,\n",
      "  \"empathy_good\": 1,\n",
      "  \"evocation_good\": 3\n",
      "}\n"
     ]
    }
   ],
   "source": [
    "# Get counts for MITI turn constructs and write results to csv file\n",
    "\n",
    "#TODO: count by interview `constructs_counts = constructs.groupby([\"interview_id\", \"annotation\"]).count()`\n",
    "constructs_counts = constructs.groupby([\"annotation\"]).count()\n",
    "constructs_counts_dict = constructs_counts.to_dict()[\"count\"]\n",
    "\n",
    "print(\"\\n ******************************************\\n\",\n",
    "      \"miti_techniques_dict before adding counts\\n\",\n",
    "      \"******************************************\\n\",\n",
    "      json.dumps(miti_constructs_dict, indent=2))\n",
    "\n",
    "miti_constructs_dict.update(constructs_counts_dict)\n",
    "\n",
    "out_csv_from_dict(miti_constructs_dict,\"miti_turn_constructs\",[\"annotation\",\"count\"])\n",
    "\n",
    "print(\"\\n ******************************************\\n\",\n",
    "      \"miti_techniques_dict AFTER adding counts\\n\",\n",
    "      \"******************************************\\n\",\n",
    "      json.dumps(miti_constructs_dict, indent=2))"
   ]
  },
  {
   "cell_type": "markdown",
   "id": "2a511d38",
   "metadata": {},
   "source": [
    "--------------------------------------------\n",
    "\n",
    "## Turn diarisation\n",
    "\n",
    "- Dataset: pilot_turn_diarisation_[lang].csv\n",
    "- Contents: Sarah's and Damian's turn chunks in milliseconds by participants (turn_start, turn_end)\n",
    "- TODO: Add interview length in csv file to plot percentage of turns per minute"
   ]
  },
  {
   "cell_type": "code",
   "execution_count": 22,
   "id": "84c48568",
   "metadata": {},
   "outputs": [
    {
     "name": "stdout",
     "output_type": "stream",
     "text": [
      " *******************\n",
      " diarisation_df info\n",
      " *******************\n",
      "\n",
      "<class 'pandas.core.frame.DataFrame'>\n",
      "Int64Index: 209 entries, 0 to 208\n",
      "Data columns (total 11 columns):\n",
      " #   Column         Non-Null Count  Dtype  \n",
      "---  ------         --------------  -----  \n",
      " 0   task_id        209 non-null    int64  \n",
      " 1   wav_file_name  209 non-null    object \n",
      " 2   interview_id   209 non-null    int64  \n",
      " 3   annotator_id   209 non-null    object \n",
      " 4   annotation_id  209 non-null    object \n",
      " 5   speaker_type   209 non-null    object \n",
      " 6   turn_start     209 non-null    float64\n",
      " 7   turn_end       209 non-null    float64\n",
      " 8   turn_length    0 non-null      float64\n",
      " 9   is_overlapped  0 non-null      float64\n",
      " 10  overlapping    0 non-null      float64\n",
      "dtypes: float64(5), int64(2), object(4)\n",
      "memory usage: 19.6+ KB\n",
      "None\n",
      "\n",
      " *****************\n",
      " diarisation_df head\n",
      " *****************\n",
      "\n"
     ]
    },
    {
     "data": {
      "text/markdown": [
       "|    |   task_id | wav_file_name                          |   interview_id | annotator_id   | annotation_id          | speaker_type   |   turn_start |   turn_end |   turn_length |   is_overlapped |   overlapping |\n",
       "|---:|----------:|:---------------------------------------|---------------:|:---------------|:-----------------------|:---------------|-------------:|-----------:|--------------:|----------------:|--------------:|\n",
       "|  0 |         3 | RE1f175cf47d8bc64eba9b21aaec028e44.wav |              3 | sarahjwright   | wavesurfer_96r19rovu7g | participant    |      0.23333 |   0.733324 |           nan |             nan |           nan |\n",
       "|  1 |         3 | RE1f175cf47d8bc64eba9b21aaec028e44.wav |              3 | sarahjwright   | wavesurfer_54igiu7vin8 | coach          |      1.54998 |   3.79995  |           nan |             nan |           nan |\n",
       "|  2 |         3 | RE1f175cf47d8bc64eba9b21aaec028e44.wav |              3 | sarahjwright   | wavesurfer_iv7cnrlrpho | participant    |      4.32495 |   4.72494  |           nan |             nan |           nan |\n",
       "|  3 |         3 | RE1f175cf47d8bc64eba9b21aaec028e44.wav |              3 | sarahjwright   | wavesurfer_o8hco4chh38 | coach          |      5.62826 |  11.9782   |           nan |             nan |           nan |\n",
       "|  4 |         3 | RE1f175cf47d8bc64eba9b21aaec028e44.wav |              3 | sarahjwright   | wavesurfer_7u582jsq1o  | participant    |     11.7032  |  13.5782   |           nan |             nan |           nan |"
      ],
      "text/plain": [
       "<IPython.core.display.Markdown object>"
      ]
     },
     "metadata": {},
     "output_type": "display_data"
    }
   ],
   "source": [
    "# Import data into pandas and query the dataframe\n",
    "\n",
    "# Drop interview #2 due to no English turn annotations (#2 is diarised, but for consistency...)\n",
    "if LANGUAGE == \"English\":\n",
    "    diarisation_df = csv_file_to_df('pilot_turn_diarisation', 2)\n",
    "else:\n",
    "    diarisation_df = csv_file_to_df('pilot_turn_diarisation')\n",
    "\n",
    "print(\" *******************\\n\",\n",
    "      \"diarisation_df info\\n\",\n",
    "      \"*******************\\n\",)\n",
    "print(diarisation_df.info())\n",
    "\n",
    "print(\"\\n *****************\\n\",\n",
    "      \"diarisation_df head\\n\",\n",
    "      \"*****************\\n\",)\n",
    "\n",
    "display(Markdown(diarisation_df.head().to_markdown()))"
   ]
  },
  {
   "cell_type": "code",
   "execution_count": 23,
   "id": "9a731b89",
   "metadata": {},
   "outputs": [],
   "source": [
    "# Drop the columns that haven't been yet populated by previous script\n",
    "\n",
    "diarisation_df = diarisation_df.dropna(axis=1)"
   ]
  },
  {
   "cell_type": "code",
   "execution_count": 24,
   "id": "bd5eeb30",
   "metadata": {},
   "outputs": [
    {
     "data": {
      "text/html": [
       "<div>\n",
       "<style scoped>\n",
       "    .dataframe tbody tr th:only-of-type {\n",
       "        vertical-align: middle;\n",
       "    }\n",
       "\n",
       "    .dataframe tbody tr th {\n",
       "        vertical-align: top;\n",
       "    }\n",
       "\n",
       "    .dataframe thead th {\n",
       "        text-align: right;\n",
       "    }\n",
       "</style>\n",
       "<table border=\"1\" class=\"dataframe\">\n",
       "  <thead>\n",
       "    <tr style=\"text-align: right;\">\n",
       "      <th></th>\n",
       "      <th>task_id</th>\n",
       "      <th>wav_file_name</th>\n",
       "      <th>interview_id</th>\n",
       "      <th>annotator_id</th>\n",
       "      <th>annotation_id</th>\n",
       "      <th>speaker_type</th>\n",
       "      <th>turn_start</th>\n",
       "      <th>turn_end</th>\n",
       "      <th>turn_length</th>\n",
       "    </tr>\n",
       "  </thead>\n",
       "  <tbody>\n",
       "    <tr>\n",
       "      <th>0</th>\n",
       "      <td>3</td>\n",
       "      <td>RE1f175cf47d8bc64eba9b21aaec028e44.wav</td>\n",
       "      <td>3</td>\n",
       "      <td>sarahjwright</td>\n",
       "      <td>wavesurfer_96r19rovu7g</td>\n",
       "      <td>participant</td>\n",
       "      <td>0.233330</td>\n",
       "      <td>0.733324</td>\n",
       "      <td>0.499994</td>\n",
       "    </tr>\n",
       "    <tr>\n",
       "      <th>1</th>\n",
       "      <td>3</td>\n",
       "      <td>RE1f175cf47d8bc64eba9b21aaec028e44.wav</td>\n",
       "      <td>3</td>\n",
       "      <td>sarahjwright</td>\n",
       "      <td>wavesurfer_54igiu7vin8</td>\n",
       "      <td>coach</td>\n",
       "      <td>1.549981</td>\n",
       "      <td>3.799953</td>\n",
       "      <td>2.249972</td>\n",
       "    </tr>\n",
       "    <tr>\n",
       "      <th>2</th>\n",
       "      <td>3</td>\n",
       "      <td>RE1f175cf47d8bc64eba9b21aaec028e44.wav</td>\n",
       "      <td>3</td>\n",
       "      <td>sarahjwright</td>\n",
       "      <td>wavesurfer_iv7cnrlrpho</td>\n",
       "      <td>participant</td>\n",
       "      <td>4.324947</td>\n",
       "      <td>4.724942</td>\n",
       "      <td>0.399995</td>\n",
       "    </tr>\n",
       "    <tr>\n",
       "      <th>3</th>\n",
       "      <td>3</td>\n",
       "      <td>RE1f175cf47d8bc64eba9b21aaec028e44.wav</td>\n",
       "      <td>3</td>\n",
       "      <td>sarahjwright</td>\n",
       "      <td>wavesurfer_o8hco4chh38</td>\n",
       "      <td>coach</td>\n",
       "      <td>5.628264</td>\n",
       "      <td>11.978186</td>\n",
       "      <td>6.349922</td>\n",
       "    </tr>\n",
       "    <tr>\n",
       "      <th>4</th>\n",
       "      <td>3</td>\n",
       "      <td>RE1f175cf47d8bc64eba9b21aaec028e44.wav</td>\n",
       "      <td>3</td>\n",
       "      <td>sarahjwright</td>\n",
       "      <td>wavesurfer_7u582jsq1o</td>\n",
       "      <td>participant</td>\n",
       "      <td>11.703189</td>\n",
       "      <td>13.578166</td>\n",
       "      <td>1.874977</td>\n",
       "    </tr>\n",
       "  </tbody>\n",
       "</table>\n",
       "</div>"
      ],
      "text/plain": [
       "   task_id                           wav_file_name  interview_id  \\\n",
       "0        3  RE1f175cf47d8bc64eba9b21aaec028e44.wav             3   \n",
       "1        3  RE1f175cf47d8bc64eba9b21aaec028e44.wav             3   \n",
       "2        3  RE1f175cf47d8bc64eba9b21aaec028e44.wav             3   \n",
       "3        3  RE1f175cf47d8bc64eba9b21aaec028e44.wav             3   \n",
       "4        3  RE1f175cf47d8bc64eba9b21aaec028e44.wav             3   \n",
       "\n",
       "   annotator_id           annotation_id speaker_type  turn_start   turn_end  \\\n",
       "0  sarahjwright  wavesurfer_96r19rovu7g  participant    0.233330   0.733324   \n",
       "1  sarahjwright  wavesurfer_54igiu7vin8        coach    1.549981   3.799953   \n",
       "2  sarahjwright  wavesurfer_iv7cnrlrpho  participant    4.324947   4.724942   \n",
       "3  sarahjwright  wavesurfer_o8hco4chh38        coach    5.628264  11.978186   \n",
       "4  sarahjwright   wavesurfer_7u582jsq1o  participant   11.703189  13.578166   \n",
       "\n",
       "   turn_length  \n",
       "0     0.499994  \n",
       "1     2.249972  \n",
       "2     0.399995  \n",
       "3     6.349922  \n",
       "4     1.874977  "
      ]
     },
     "execution_count": 24,
     "metadata": {},
     "output_type": "execute_result"
    }
   ],
   "source": [
    "# Calculate turn length\n",
    "\n",
    "diarisation_df[\"turn_length\"] = diarisation_df.turn_end - diarisation_df.turn_start\n",
    "diarisation_df.head()"
   ]
  },
  {
   "cell_type": "code",
   "execution_count": 25,
   "id": "9f5e921c",
   "metadata": {},
   "outputs": [
    {
     "data": {
      "text/plain": [
       "damianiji       106\n",
       "sarahjwright    103\n",
       "Name: annotator_id, dtype: int64"
      ]
     },
     "execution_count": 25,
     "metadata": {},
     "output_type": "execute_result"
    }
   ],
   "source": [
    "# Number of turns diarised by annotator\n",
    "\n",
    "diarisation_df[\"annotator_id\"].value_counts()"
   ]
  },
  {
   "cell_type": "code",
   "execution_count": 26,
   "id": "ccda5890",
   "metadata": {},
   "outputs": [
    {
     "data": {
      "text/html": [
       "<div>\n",
       "<style scoped>\n",
       "    .dataframe tbody tr th:only-of-type {\n",
       "        vertical-align: middle;\n",
       "    }\n",
       "\n",
       "    .dataframe tbody tr th {\n",
       "        vertical-align: top;\n",
       "    }\n",
       "\n",
       "    .dataframe thead th {\n",
       "        text-align: right;\n",
       "    }\n",
       "</style>\n",
       "<table border=\"1\" class=\"dataframe\">\n",
       "  <thead>\n",
       "    <tr style=\"text-align: right;\">\n",
       "      <th></th>\n",
       "      <th>speaker_type</th>\n",
       "    </tr>\n",
       "  </thead>\n",
       "  <tbody>\n",
       "    <tr>\n",
       "      <th>count</th>\n",
       "      <td>103</td>\n",
       "    </tr>\n",
       "    <tr>\n",
       "      <th>unique</th>\n",
       "      <td>2</td>\n",
       "    </tr>\n",
       "    <tr>\n",
       "      <th>top</th>\n",
       "      <td>participant</td>\n",
       "    </tr>\n",
       "    <tr>\n",
       "      <th>freq</th>\n",
       "      <td>52</td>\n",
       "    </tr>\n",
       "  </tbody>\n",
       "</table>\n",
       "</div>"
      ],
      "text/plain": [
       "       speaker_type\n",
       "count           103\n",
       "unique            2\n",
       "top     participant\n",
       "freq             52"
      ]
     },
     "execution_count": 26,
     "metadata": {},
     "output_type": "execute_result"
    }
   ],
   "source": [
    "# Create dataframe with the language designated annotator's annotations\n",
    "\n",
    "diarisation_df_annotator = diarisation_df[diarisation_df[\"annotator_id\"] == ANNOTATOR]\n",
    "\n",
    "# Drop other columns we're not interested in. Keep interview_id for visualization\n",
    "drop_columns_except_turnlength_interviewid = [\"task_id\", \"wav_file_name\", \"annotator_id\",\n",
    "                \"annotation_id\", \"turn_start\", \"turn_end\"]\n",
    "diarisation_df_annotator.drop(drop_columns_except_turnlength_interviewid, inplace=True, axis=1)\n",
    "\n",
    "diarisation_df_annotator.describe(include=object)"
   ]
  },
  {
   "cell_type": "code",
   "execution_count": 27,
   "id": "9755c137",
   "metadata": {},
   "outputs": [],
   "source": [
    "# TODO: Calculate number of turns per minute (needs interview length from json_parser.py)\n",
    "# diarisation_df_annotator.groupby([\"interview_id\"]).count()"
   ]
  },
  {
   "cell_type": "code",
   "execution_count": 28,
   "id": "6cded1a2",
   "metadata": {},
   "outputs": [
    {
     "name": "stdout",
     "output_type": "stream",
     "text": [
      "<class 'pandas.core.frame.DataFrame'>\n",
      "Int64Index: 103 entries, 1 to 184\n",
      "Data columns (total 3 columns):\n",
      " #   Column        Non-Null Count  Dtype  \n",
      "---  ------        --------------  -----  \n",
      " 0   interview_id  103 non-null    int64  \n",
      " 1   speaker_type  103 non-null    object \n",
      " 2   turn_length   103 non-null    float64\n",
      "dtypes: float64(1), int64(1), object(1)\n",
      "memory usage: 3.2+ KB\n"
     ]
    }
   ],
   "source": [
    "# Create dataframes for turn diarisation\n",
    "\n",
    "coach_turns = diarisation_df_annotator[(diarisation_df_annotator[\"speaker_type\"] == \"coach\")]\n",
    "participant_turns = diarisation_df_annotator[(diarisation_df_annotator[\"speaker_type\"] == \"participant\")]\n",
    "turns = pd.concat([coach_turns, participant_turns])\n",
    "turns.info()"
   ]
  },
  {
   "cell_type": "code",
   "execution_count": 29,
   "id": "be04545f",
   "metadata": {},
   "outputs": [
    {
     "name": "stdout",
     "output_type": "stream",
     "text": [
      "{\n",
      "  \"3\": 1.004331806100567,\n",
      "  \"4\": 0.8080182513377575,\n",
      "  \"5\": 1.2575498537618326,\n",
      "  \"6\": 2.3024823270371835\n",
      "}\n"
     ]
    }
   ],
   "source": [
    "# Get descriptive stats for turn lengths (coach vs participant)\n",
    "\n",
    "# Calculate turn means and ratios by interview\n",
    "turn_means_byint = turns.groupby([\"interview_id\", \"speaker_type\"])[\"turn_length\"].mean()\n",
    "\n",
    "# Calculate turn ratios\n",
    "int_ids = []\n",
    "divisors = []\n",
    "dividends = []\n",
    "for k, v in turn_means_byint.items():\n",
    "    if k[1] == \"coach\":\n",
    "        divisors.append(v)\n",
    "        int_ids.append(k[0])\n",
    "    if k[1] == \"participant\":\n",
    "        dividends.append(v)\n",
    "\n",
    "turn_len_ratio_by_intervew = {int_id:dividend/divisor\n",
    "                              for (int_id,dividend,divisor)\n",
    "                              in zip(int_ids,dividends,divisors)}\n",
    "\n",
    "out_csv_from_dict(turn_len_ratio_by_intervew,\n",
    "                  \"turn_length_ratio_by_intervew\",\n",
    "                  [\"interview_id\", \"turn_length_ratio\"])\n",
    "\n",
    "print(json.dumps(turn_len_ratio_by_intervew, indent=2))"
   ]
  },
  {
   "cell_type": "code",
   "execution_count": 30,
   "id": "8530ee6c",
   "metadata": {},
   "outputs": [
    {
     "name": "stdout",
     "output_type": "stream",
     "text": [
      "{\n",
      "  \"coach\": 10.381237854521931,\n",
      "  \"participant\": 12.535127430430206\n",
      "}\n"
     ]
    }
   ],
   "source": [
    "# Calculate overall turn means\n",
    "turn_means_overall = turns.groupby([\"speaker_type\"]).mean().to_dict()[\"turn_length\"]\n",
    "out_csv_from_dict(turn_means_overall, \"overall_turn_length_means\", [\"participant\", \"mean_turn_length\"])\n",
    "\n",
    "print(json.dumps(turn_means_overall, indent=2))"
   ]
  },
  {
   "cell_type": "markdown",
   "id": "77a836c9",
   "metadata": {},
   "source": [
    "## Plots"
   ]
  },
  {
   "cell_type": "code",
   "execution_count": 31,
   "id": "2faec32d",
   "metadata": {},
   "outputs": [
    {
     "data": {
      "image/png": "[encoded data removed]",
      "text/plain": [
       "<Figure size 864x576 with 1 Axes>"
      ]
     },
     "metadata": {
      "needs_background": "light"
     },
     "output_type": "display_data"
    }
   ],
   "source": [
    "# Plot turn-length ratio by interview and MITI global score\n",
    "\n",
    "# In MI it is important that the participants speak more than the coaches\n",
    "turn_len_ratio_list = turn_len_ratio_by_intervew.items()\n",
    "turn_len_ratio_list = sorted(turn_len_ratio_list)\n",
    "interview_r, ratio = zip(*turn_len_ratio_list) \n",
    "interview_r = [str(item) for item in interview_r]\n",
    "\n",
    "if LANGUAGE == \"Spanish\":\n",
    "    global_ratings_list = interviews_global_ratings_dict.items()\n",
    "    global_ratings_list = sorted(global_ratings_list) \n",
    "    interview_g, rating = zip(*global_ratings_list) \n",
    "    interview_g = [str(item) for item in interview_g]\n",
    "\n",
    "    _ = plt.figure(figsize=(12,8))\n",
    "    _ = plt.bar(interview_r, ratio)\n",
    "    _ = plt.plot(interview_g, rating, color=\"red\")\n",
    "    _ = plt.xlabel(\"interview\")\n",
    "    _ = plt.ylabel(\"turn length ratio / global score\")\n",
    "    _ = plt.title(f\"Turn length ratio by interview and MITI Global score ({LANGUAGE})\")\n",
    "    plt.legend([\"MITI Global Socre\", \"Turn-length ratio\"])\n",
    "    plt.show()\n",
    "else:\n",
    "    _ = plt.figure(figsize=(12,8))\n",
    "    _ = plt.bar(interview_r, ratio)\n",
    "    _ = plt.xlabel(\"interview\")\n",
    "    _ = plt.ylabel(\"turn length ratio\")\n",
    "    _ = plt.title(f\"Turn length ratio by interview ({LANGUAGE})\")\n",
    "    plt.show()"
   ]
  },
  {
   "cell_type": "code",
   "execution_count": 32,
   "id": "d9d4c4e1",
   "metadata": {},
   "outputs": [
    {
     "data": {
      "image/png": "[encoded data removed]",
      "text/plain": [
       "<Figure size 576x432 with 1 Axes>"
      ]
     },
     "metadata": {
      "needs_background": "light"
     },
     "output_type": "display_data"
    }
   ],
   "source": [
    "# Get number of turns by speaker type\n",
    "# turns_by_interview_coach = diarisation_df_annotator.loc[\"speaker_type\"]\n",
    "\n",
    "# turns_by_interview_coach = diarisation_df_annotator.loc[diarisation_df_annotator[\"speaker_type\"] == \"coach\"]\n",
    "# coach_turns_means = turns_by_interview_coach.groupby(\"interview_id\", sort=True)[\"turn_length\"].mean()\n",
    "\n",
    "# turns_by_interview_participant = diarisation_df_annotator.loc[diarisation_df_annotator[\"speaker_type\"] == \"participant\"]\n",
    "# participant_turns_means = turns_by_interview_participant.groupby(\"interview_id\", sort=True)[\"turn_length\"].mean()\n",
    "# turn_means_by_speaker = pd.concat([coach_turns_means, participant_turns_means])\n",
    "# turn_means_by_speaker\n",
    "\n",
    "turns_by_interview_coach = diarisation_df_annotator.groupby([\"interview_id\",\"speaker_type\"])[\"turn_length\"].mean()\n",
    "turns_by_interview_coach\n",
    "\n",
    "\n",
    "turns_by_int_list = turns_by_interview_coach.items()\n",
    "turns_by_int_list = sorted(turns_by_int_list) \n",
    "coach_turn_mean_lengths = [round(y,2) for x, y in turns_by_int_list if x[1] ==\"coach\"]\n",
    "participant_turn_mean_lengths = [round(y,2) for x, y in turns_by_int_list if x[1] ==\"participant\"]\n",
    "interview_labels = [str(x[0]) for x, y in turns_by_int_list if x[1] ==\"participant\"]\n",
    "\n",
    "x = np.arange(len(interview_labels))  # the label locations\n",
    "width = 0.35  # the width of the bars\n",
    "\n",
    "fig, ax = plt.subplots(figsize=(8,6))\n",
    "rects1 = ax.bar(x - width/2, coach_turn_mean_lengths, width, label=\"Coach\")\n",
    "rects2 = ax.bar(x + width/2, participant_turn_mean_lengths, width, label=\"Participant\")\n",
    "\n",
    "# Add some text for labels, title and custom x-axis tick labels, etc.\n",
    "ax.set_ylabel(\"mean turn length (seconds)\")\n",
    "ax.set_xlabel(\"interview ID number\")\n",
    "ax.set_title(f\"Turn length by interview and speaker ({LANGUAGE})\")\n",
    "ax.set_xticks(x)\n",
    "ax.set_xticklabels(interview_labels)\n",
    "ax.legend()\n",
    "\n",
    "ax.bar_label(rects1, padding=3)\n",
    "ax.bar_label(rects2, padding=3)\n",
    "\n",
    "fig.tight_layout()\n",
    "plt.show()"
   ]
  },
  {
   "cell_type": "code",
   "execution_count": null,
   "id": "79804095",
   "metadata": {},
   "outputs": [],
   "source": []
  }
 ],
 "metadata": {
  "kernelspec": {
   "display_name": "Python 3 (ipykernel)",
   "language": "python",
   "name": "python3"
  },
  "language_info": {
   "codemirror_mode": {
    "name": "ipython",
    "version": 3
   },
   "file_extension": ".py",
   "mimetype": "text/x-python",
   "name": "python",
   "nbconvert_exporter": "python",
   "pygments_lexer": "ipython3",
   "version": "3.10.0"
  }
 },
 "nbformat": 4,
 "nbformat_minor": 5
}
