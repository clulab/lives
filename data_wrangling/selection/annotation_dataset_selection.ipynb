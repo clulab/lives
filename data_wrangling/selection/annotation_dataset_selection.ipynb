{
 "cells": [
  {
   "cell_type": "markdown",
   "id": "dca0e215",
   "metadata": {},
   "source": [
    "# Annotation dataset selection\n",
    "\n",
    "**Description**\n",
    "\n",
    "Notebook for the selection of a reduced set of interviews for:\n",
    "  1. IRR Annotation\n",
    "  2. General annotation after IRR\n",
    "\n",
    "We need a small dataset because it is infeasable to annotate all ~24,500 calls, so:\n",
    "  1. We want \"good\" as well as \"bad\" interviews for our ML models.\n",
    "  2. We need a random sample.\n",
    "  3. We have a limited amount of transcribed interviews scored by experts.\n",
    "  4. The resulting set will need manual quality control for quality audio.\n",
    "\n",
    "Data used in this notebook (./data/...)\n",
    "  1. For global ratings, interview IDs and participant IDS: `LIVES_Call-Level_Data_all_fidelity_scored_calls_n=323_trimmed.xls`\n",
    "  2. For background information (English interviews): `LIVES_Outcome_Data_BL-24M_ppts_from_fidelity_list_n=173_trimmed.xlsx`\n",
    "  3. For background information (Spanish interviews): `HIspanic_ppts_tracking_and_outcomes_6.23.21.xlsx_trimmed`\n",
    "  4. For pilot interview data `pilot_interview_annotation_en.csv` and `pilot_interview_annotation_es.csv`\n",
    "  5. All the files are available directly for use in: https://arizona.box.com/s/19qgcvob3m0qr803bswi7ggjrelcj3s2\n",
    "\n",
    "Computing \"good\" and \"bad\" interview distributions\n",
    "  1. Use the Global Spirit Rating from MITI 3.0 Scoring Guide and Rubric\n",
    "  2. Come up with cut-off scores for what is a good or a bad interview\n",
    "  3. Keep labels for `education`, `ethnicity`, `race`, and `age`\n",
    "  4. Conduct exploratory analysis with matplotlib and pandas\n",
    "  5. Come up with a sampling method and apply it to English and Spanish calls\n",
    "  6. Sample calls for full annotation, which includes IRR study\n",
    "    - Perez-Rosales et al.(2016) sampled a total of 284 MI sessions.\n",
    "    - We can sample 40 calls, distributed among 4 annotators, this could take around 10 weeks\n",
    "\n",
    "IRR Sampling (English calls)\n",
    "  1. 10 calls total for IRR.\n",
    "  2. We have 5 calls already from the pilot annotation.\n",
    "  3. From the English portion of the sampled calls...\n",
    "    - Try making the next 5 calls fit our ideal distribution.\n",
    "    - Try making the next 5 calls come from the English-speaking Latina population.\n",
    "    - Try to have the same background as the spanish Latina calls.\n",
    "\n",
    "IRR Sampling (Spanish calls)\n",
    "  1. 10 calls total for IRR.\n",
    "  2. We have 3 calls already from the pilot annotation.\n",
    "  3. From the Spanish portion of the sampled calls...\n",
    "    - Try getting 2 more calls to match the English-speaking latina distribution.\n",
    "    - Try selecting the next 5 calls from the participant we’d like to have as a case study for a publication\n",
    "    - Sample extra calls in case we need to discard some for quality control reasons.\n",
    "\n",
    "    \n",
    "**How to replicate the dataset**\n",
    "\n",
    "Steps taken:\n",
    "1. Copy the `LIVES_Call-Level Data_all fidelity scored calls n=323.xls`\n",
    "  - Delete the following any columns with personally identifyable information\n",
    "  - Delete the rows from the following calls for quality control reasons (see the notes column in the original file): record 378, record 156, record 174, record 186, record 218, record 222, record 227, record 252, record 272, record 273, record 353\n",
    "  - Save the resulting file with 312 calls as `LIVES_Call-Level_Data_all_fidelity_scored_calls_n=323_trimmed.xls`.\n",
    "\n",
    "2. Copy the `LIVES_Outcome_Data_BL-24M_ppts_from_fidelity_list_n=173.xlsx`\n",
    "  - Delete any columns with personal information\n",
    "  - Save the resulting file as `LIVES_Outcome_Data_BL-24M_ppts_from_fidelity_list_n=173_trimmed.xlsx`\n",
    "\n",
    "3. Copy the `HIspanic_ppts_tracking_and_outcomes_6.23.21.xlsx_trimmed`\n",
    "  - Discard all rows where Treatment Arm = 2 (control branch)\n",
    "  - Keep only the following fields: PPT ID, Language, # calls, MITI scored calls, Transcribed? If yes, call #, If transcribed, twilio Recording SID, education, ethnicity, race, age_1\n",
    "  - Delete the last rows with tallies\n",
    "\n",
    "3. From the output of the stats notebook `pilot_annotation_stats_sbm.ipynb`, copy the files:\n",
    "  - `pilot_interview_annotation_en.csv`\n",
    "  - `pilot_interview_annotation_es.csv`\n",
    "  \n",
    "**TODO**\n",
    "- Replace the proxy interview IDs in the Spanish interviews with the actual IDs once Hagan gives us the data and cross check these with the ones in the pilot for repetitions. If the replaced proxys and the pilot interviews are repeated, then just grab other random interviews from the same participants.\n",
    "-  (Nice-to-have): Better visuals (see https://github.com/clulab/lives/blob/master/stats/pilot_annotation_stats_sbm.ipynb)\n",
    "- (Nice-to-have):  Add descriptive stats for ethnicity, race, education, and age for English and Spanish samples\n",
    "- (Nice-to-have): Comparison stats between full LIvES participant dataset's demographics and samples' demographics."
   ]
  },
  {
   "cell_type": "code",
   "execution_count": 1,
   "id": "f81c06a5",
   "metadata": {},
   "outputs": [],
   "source": [
    "import csv\n",
    "import matplotlib.pyplot as plt\n",
    "import numpy as np\n",
    "import pandas as pd\n",
    "import re\n",
    "import seaborn as sns\n",
    "\n",
    "from collections import defaultdict"
   ]
  },
  {
   "cell_type": "code",
   "execution_count": 2,
   "id": "57f956e2",
   "metadata": {},
   "outputs": [],
   "source": [
    "input_suffix = './data/'"
   ]
  },
  {
   "cell_type": "markdown",
   "id": "e90d15a8",
   "metadata": {},
   "source": [
    "## I. Create and analyze participant dataframes\n",
    "\n",
    "The data in the current files is convoluted so we need to inspect it before making any assumptions"
   ]
  },
  {
   "cell_type": "code",
   "execution_count": 3,
   "id": "ef55db97",
   "metadata": {},
   "outputs": [],
   "source": [
    "background_info_file = \"LIVES_Outcome_Data_BL-24M_ppts_from_fidelity_list_n=173_trimmed.xlsx\"\n",
    "background_info_file_lat = \"HIspanic ppts tracking and outcomes 6.23.21_trimmed.xlsx\""
   ]
  },
  {
   "cell_type": "markdown",
   "id": "630f20bd",
   "metadata": {},
   "source": [
    "**Create dataframe for `background_info_file`**\n",
    "\n",
    "- Data for participants from the fidelity list\n",
    "- Does not contain any interview data\n",
    "- Does not contain the language of the participants\n",
    "- Need to cross-check with `background_info_file_lat`\n",
    "\n",
    "Contains:\n",
    "- participant IDs (sid)\n",
    "- education\n",
    "- ethnicity\n",
    "- race\n",
    "- age "
   ]
  },
  {
   "cell_type": "code",
   "execution_count": 4,
   "id": "a4d7c4b0",
   "metadata": {},
   "outputs": [
    {
     "data": {
      "text/html": [
       "<div>\n",
       "<style scoped>\n",
       "    .dataframe tbody tr th:only-of-type {\n",
       "        vertical-align: middle;\n",
       "    }\n",
       "\n",
       "    .dataframe tbody tr th {\n",
       "        vertical-align: top;\n",
       "    }\n",
       "\n",
       "    .dataframe thead th {\n",
       "        text-align: right;\n",
       "    }\n",
       "</style>\n",
       "<table border=\"1\" class=\"dataframe\">\n",
       "  <thead>\n",
       "    <tr style=\"text-align: right;\">\n",
       "      <th></th>\n",
       "      <th>sid</th>\n",
       "      <th>education</th>\n",
       "      <th>marital_status</th>\n",
       "      <th>ethnicity</th>\n",
       "      <th>race</th>\n",
       "      <th>ever_smoked</th>\n",
       "      <th>hyperthyroidism</th>\n",
       "      <th>hypothyroidism</th>\n",
       "      <th>diabetes</th>\n",
       "      <th>hypertension</th>\n",
       "      <th>...</th>\n",
       "      <th>tfat_pcal_3</th>\n",
       "      <th>tfat_pcal_4</th>\n",
       "      <th>fruit_serv_whole_1</th>\n",
       "      <th>fruit_serv_whole_2</th>\n",
       "      <th>fruit_serv_whole_3</th>\n",
       "      <th>fruit_serv_whole_4</th>\n",
       "      <th>veg_serv_whole_1</th>\n",
       "      <th>veg_serv_whole_2</th>\n",
       "      <th>veg_serv_whole_3</th>\n",
       "      <th>veg_serv_whole_4</th>\n",
       "    </tr>\n",
       "  </thead>\n",
       "  <tbody>\n",
       "    <tr>\n",
       "      <th>0</th>\n",
       "      <td>001-0225-014</td>\n",
       "      <td>5.0</td>\n",
       "      <td>1.0</td>\n",
       "      <td>1.0</td>\n",
       "      <td>5.0</td>\n",
       "      <td>1.0</td>\n",
       "      <td>2.0</td>\n",
       "      <td>2.0</td>\n",
       "      <td>2.0</td>\n",
       "      <td>1.0</td>\n",
       "      <td>...</td>\n",
       "      <td>19.583382</td>\n",
       "      <td>NaN</td>\n",
       "      <td>0.996101</td>\n",
       "      <td>3.182799</td>\n",
       "      <td>4.636864</td>\n",
       "      <td>NaN</td>\n",
       "      <td>2.528456</td>\n",
       "      <td>6.806697</td>\n",
       "      <td>5.709825</td>\n",
       "      <td>NaN</td>\n",
       "    </tr>\n",
       "  </tbody>\n",
       "</table>\n",
       "<p>1 rows × 55 columns</p>\n",
       "</div>"
      ],
      "text/plain": [
       "            sid  education  marital_status  ethnicity  race  ever_smoked  \\\n",
       "0  001-0225-014        5.0             1.0        1.0   5.0          1.0   \n",
       "\n",
       "   hyperthyroidism  hypothyroidism  diabetes  hypertension  ...  tfat_pcal_3  \\\n",
       "0              2.0             2.0       2.0           1.0  ...    19.583382   \n",
       "\n",
       "   tfat_pcal_4  fruit_serv_whole_1  fruit_serv_whole_2  fruit_serv_whole_3  \\\n",
       "0          NaN            0.996101            3.182799            4.636864   \n",
       "\n",
       "   fruit_serv_whole_4  veg_serv_whole_1  veg_serv_whole_2  veg_serv_whole_3  \\\n",
       "0                 NaN          2.528456          6.806697          5.709825   \n",
       "\n",
       "   veg_serv_whole_4  \n",
       "0               NaN  \n",
       "\n",
       "[1 rows x 55 columns]"
      ]
     },
     "execution_count": 4,
     "metadata": {},
     "output_type": "execute_result"
    }
   ],
   "source": [
    "# participant IDs, education, ethnicity, race, and age (Latinas and non-Latinas)\n",
    "background_info_df = pd.read_excel(input_suffix + background_info_file, index_col=None, header=0)\n",
    "\n",
    "background_info_df.head(1)"
   ]
  },
  {
   "cell_type": "markdown",
   "id": "b3183dca",
   "metadata": {},
   "source": [
    "**Create dataframe for `background_info_file_lat`**\n",
    "\n",
    "- Data for Latina participants by participant\n",
    "- Does not contain any global scores (aligned by particpant, not by interview)\n",
    "- Contains some interview data, byt only for a few interviews that were transcribed\n",
    "- Specifies language, but is this for all of the interviews for each participant? We'll assume this is the case.\n",
    "- We need to check if the participant IDs are also contained in the `background_info_file`\n",
    "\n",
    "Contains:\n",
    "- participant IDs (sid)\n",
    "- education\n",
    "- ethnicity\n",
    "- race\n",
    "- age \n",
    "- `+` language of the interviews"
   ]
  },
  {
   "cell_type": "code",
   "execution_count": 5,
   "id": "c30d6ef3",
   "metadata": {},
   "outputs": [
    {
     "data": {
      "text/html": [
       "<div>\n",
       "<style scoped>\n",
       "    .dataframe tbody tr th:only-of-type {\n",
       "        vertical-align: middle;\n",
       "    }\n",
       "\n",
       "    .dataframe tbody tr th {\n",
       "        vertical-align: top;\n",
       "    }\n",
       "\n",
       "    .dataframe thead th {\n",
       "        text-align: right;\n",
       "    }\n",
       "</style>\n",
       "<table border=\"1\" class=\"dataframe\">\n",
       "  <thead>\n",
       "    <tr style=\"text-align: right;\">\n",
       "      <th></th>\n",
       "      <th>sid</th>\n",
       "      <th>language</th>\n",
       "      <th># calls</th>\n",
       "      <th>MITI scored calls</th>\n",
       "      <th>Transcribed? If yes, call #</th>\n",
       "      <th>interview_ID</th>\n",
       "      <th>education</th>\n",
       "      <th>ethnicity</th>\n",
       "      <th>race</th>\n",
       "      <th>age</th>\n",
       "    </tr>\n",
       "  </thead>\n",
       "  <tbody>\n",
       "    <tr>\n",
       "      <th>0</th>\n",
       "      <td>002-0225-017</td>\n",
       "      <td>English</td>\n",
       "      <td>28.0</td>\n",
       "      <td>3.0</td>\n",
       "      <td>NaN</td>\n",
       "      <td>NaN</td>\n",
       "      <td>5</td>\n",
       "      <td>2</td>\n",
       "      <td>5.0</td>\n",
       "      <td>49.49213</td>\n",
       "    </tr>\n",
       "  </tbody>\n",
       "</table>\n",
       "</div>"
      ],
      "text/plain": [
       "            sid language  # calls  MITI scored calls  \\\n",
       "0  002-0225-017  English     28.0                3.0   \n",
       "\n",
       "   Transcribed? If yes, call # interview_ID education  ethnicity  race  \\\n",
       "0                          NaN          NaN         5          2   5.0   \n",
       "\n",
       "        age  \n",
       "0  49.49213  "
      ]
     },
     "execution_count": 5,
     "metadata": {},
     "output_type": "execute_result"
    }
   ],
   "source": [
    "background_info_df_lat = pd.read_excel(input_suffix + background_info_file_lat, index_col=None, header=0)\n",
    "\n",
    "rename_columns = [\"sid\", \"language\", \"# calls\", \"MITI scored calls\", \"Transcribed? If yes, call #\",\n",
    "                  \"interview_ID\", \"education\", \"ethnicity\", \"race\", \"age\"]\n",
    "\n",
    "background_info_df_lat.columns = rename_columns\n",
    "\n",
    "# make sure that all are actually latinas (ethnicity == 2)\n",
    "assert all(background_info_df_lat['ethnicity'] == 2)\n",
    "\n",
    "background_info_df_lat.head(1)"
   ]
  },
  {
   "cell_type": "markdown",
   "id": "0c868e51",
   "metadata": {},
   "source": [
    "**Create the non-Latina paticipant pool \"`non_latinas_df`\"**\n",
    "\n",
    "- This one is easy to create by only discarding the rows with Latina IDs"
   ]
  },
  {
   "cell_type": "code",
   "execution_count": 6,
   "id": "cdee800a",
   "metadata": {},
   "outputs": [
    {
     "name": "stdout",
     "output_type": "stream",
     "text": [
      "\n",
      "\n",
      "*** non-Latina participant pool: ***\n",
      "         education  ethnicity        race         age\n",
      "count  148.000000      148.0  148.000000  147.000000\n",
      "mean     5.540541        1.0    4.777027   59.993053\n",
      "std      0.703523        0.0    0.707789   12.335337\n",
      "min      3.000000        1.0    2.000000   33.051334\n",
      "25%      5.000000        1.0    5.000000   52.494181\n",
      "50%      6.000000        1.0    5.000000   60.098564\n",
      "75%      6.000000        1.0    5.000000   65.772758\n",
      "max      6.000000        1.0    5.000000  148.900757\n"
     ]
    }
   ],
   "source": [
    "columns = [\"sid\", \"education\", \"ethnicity\", \"race\", \"age\"]\n",
    "\n",
    "non_latinas_df = background_info_df[background_info_df['ethnicity'] != 2].loc[1:,columns]\n",
    "\n",
    "print(\"\\n\\n*** non-Latina participant pool: ***\\n\",\n",
    "      non_latinas_df.describe())  # count 148\n"
   ]
  },
  {
   "cell_type": "markdown",
   "id": "64b01305",
   "metadata": {},
   "source": [
    "**Create the English-speaking Latina paticipant pool \"`latinas_en_df`\"**\n",
    "\n",
    "- The `background_info_df` may contain English-speaking and Spanish-speaking Latinas\n",
    "- We want to discard the Spanish-speaking ones based on the language info in `background_info_df_lat`"
   ]
  },
  {
   "cell_type": "code",
   "execution_count": 7,
   "id": "d3e75ac3",
   "metadata": {},
   "outputs": [
    {
     "name": "stdout",
     "output_type": "stream",
     "text": [
      "\n",
      "\n",
      "*** English-speaking Latina participant pool: ***\n",
      "        ethnicity       race        age\n",
      "count       20.0  20.000000  20.000000\n",
      "mean         2.0   5.050000  53.863792\n",
      "std          0.0   0.686333  10.362660\n",
      "min          2.0   3.000000  33.152634\n",
      "25%          2.0   5.000000  47.404518\n",
      "50%          2.0   5.000000  50.372349\n",
      "75%          2.0   5.000000  60.915811\n",
      "max          2.0   6.000000  71.381248\n",
      "\n",
      "\n",
      "The following latinas from `background_info_df_lat`did not make the cut to the final pool of English spealing latinas {'866-0225-005', '038-0225-009', '070-0225-008'}\n"
     ]
    }
   ],
   "source": [
    "# Columns we'll need\n",
    "columns = [\"sid\", \"education\", \"ethnicity\", \"race\", \"age\"]\n",
    "\n",
    "# Select only the English-speaking Latina participants\n",
    "en_speak_latinas = background_info_df_lat[background_info_df_lat['language'] == 'English'].loc[1:,columns]\n",
    "\n",
    "# Get only the Latina-participants from the background_info_df\n",
    "latinas_in_background_info_df = background_info_df[background_info_df['ethnicity'] == 2].loc[1:,columns]\n",
    "\n",
    "# Create dataframe by merging to the left\n",
    "latinas_en_df = pd.merge(latinas_in_background_info_df,\n",
    "                         en_speak_latinas, how=\"left\", on=columns)\n",
    "\n",
    "# Make sure that the participant IDs in the `latinas_en_df` are not in the `non_latinas_df`\n",
    "latina_ids = set(latinas_en_df['sid'])\n",
    "non_latina_ids = set(non_latinas_df['sid'])\n",
    "for participant in latina_ids:\n",
    "    assert participant not in non_latina_ids, participant\n",
    "    \n",
    "print(\"\\n\\n*** English-speaking Latina participant pool: ***\\n\",\n",
    "      latinas_en_df.describe())  # count 20\n",
    "\n",
    "print(f\"\\n\\nThe following latinas from `background_info_df_lat`\\\n",
    "did not make the cut to the final pool of English spealing latinas\",\n",
    "set(en_speak_latinas['sid']) - set(latinas_en_df ['sid']))"
   ]
  },
  {
   "cell_type": "markdown",
   "id": "d5d6779b",
   "metadata": {},
   "source": [
    "**Create the Spanish-spealing Latina paticipant pool \"`latinas_es_df`\"**\n",
    "\n",
    "- This one is different to the ones above because there are no MITI Global Ratings for these participants' interviews in  \"LIVES_Call-Level_Data_all_fidelity_scored_calls_n=323_trimmed.xlsx\"\n",
    "- We'll select the participant IDs based on the language column in the `background_info_df_lat`\n",
    "- Some rows in the `background_info_df_lat` are not labelled for language. We won't take these participants' IDs into account\n",
    "- There are a few `interview_ID`s for these participant ids, but they are only some for the interviews with transcriptions"
   ]
  },
  {
   "cell_type": "code",
   "execution_count": 8,
   "id": "25bcaf82",
   "metadata": {},
   "outputs": [
    {
     "name": "stdout",
     "output_type": "stream",
     "text": [
      "\n",
      "\n",
      "*** Spanish-speaking Latina participant pool: ***\n",
      "        ethnicity      race        age    # calls\n",
      "count       10.0  9.000000  10.000000  10.000000\n",
      "mean         2.0  5.333333  54.436140  18.200000\n",
      "std          0.0  0.500000   9.426445  12.299955\n",
      "min          2.0  5.000000  41.040382   3.000000\n",
      "25%          2.0  5.000000  47.988364   6.000000\n",
      "50%          2.0  5.000000  52.391512  18.000000\n",
      "75%          2.0  6.000000  61.250514  30.500000\n",
      "max          2.0  6.000000  68.490074  33.000000\n",
      "\n",
      "\n",
      "There are only 6 interview IDs forall of these participants' IDs\n",
      "\n",
      "\n",
      "There are 182.0 interview calls in totalfor these participants' IDs\n"
     ]
    },
    {
     "data": {
      "text/html": [
       "<div>\n",
       "<style scoped>\n",
       "    .dataframe tbody tr th:only-of-type {\n",
       "        vertical-align: middle;\n",
       "    }\n",
       "\n",
       "    .dataframe tbody tr th {\n",
       "        vertical-align: top;\n",
       "    }\n",
       "\n",
       "    .dataframe thead th {\n",
       "        text-align: right;\n",
       "    }\n",
       "</style>\n",
       "<table border=\"1\" class=\"dataframe\">\n",
       "  <thead>\n",
       "    <tr style=\"text-align: right;\">\n",
       "      <th></th>\n",
       "      <th>sid</th>\n",
       "      <th>education</th>\n",
       "      <th>ethnicity</th>\n",
       "      <th>race</th>\n",
       "      <th>age</th>\n",
       "      <th>interview_ID</th>\n",
       "      <th># calls</th>\n",
       "    </tr>\n",
       "  </thead>\n",
       "  <tbody>\n",
       "    <tr>\n",
       "      <th>1</th>\n",
       "      <td>011-0225-006</td>\n",
       "      <td>4</td>\n",
       "      <td>2</td>\n",
       "      <td>5.0</td>\n",
       "      <td>61.182751</td>\n",
       "      <td>NaN</td>\n",
       "      <td>20.0</td>\n",
       "    </tr>\n",
       "  </tbody>\n",
       "</table>\n",
       "</div>"
      ],
      "text/plain": [
       "            sid education  ethnicity  race        age interview_ID  # calls\n",
       "1  011-0225-006         4          2   5.0  61.182751          NaN     20.0"
      ]
     },
     "execution_count": 8,
     "metadata": {},
     "output_type": "execute_result"
    }
   ],
   "source": [
    "# We include some `interview_ID`s but these appear only when there was a transcribed call\n",
    "columns = [\"sid\", \"education\", \"ethnicity\", \"race\", \"age\", \"interview_ID\", \"# calls\"]\n",
    "latinas_es_df = background_info_df_lat[background_info_df_lat[\"language\"] == \"Spanish\"].loc[1:,columns]\n",
    "\n",
    "print(\"\\n\\n*** Spanish-speaking Latina participant pool: ***\\n\",\n",
    "      latinas_es_df.describe())  # count 20\n",
    "\n",
    "print(f\"\\n\\nThere are only {latinas_es_df['interview_ID'].count()} interview IDs for\\\n",
    "all of these participants' IDs\",)\n",
    "\n",
    "print(f\"\\n\\nThere are {latinas_es_df['# calls'].sum()} interview calls in total\\\n",
    "for these participants' IDs\",)\n",
    "\n",
    "latinas_es_df.head(1)"
   ]
  },
  {
   "cell_type": "markdown",
   "id": "4fa9e8fa",
   "metadata": {},
   "source": [
    "**Resulting dataframes**"
   ]
  },
  {
   "cell_type": "code",
   "execution_count": 9,
   "id": "7c0cf445",
   "metadata": {},
   "outputs": [
    {
     "name": "stdout",
     "output_type": "stream",
     "text": [
      "\n",
      "\n",
      "***Non-Latina participant IDs and backgound information, with corresponding interview_IDs from `call_info_file`:\n",
      "\n",
      "             sid  education  ethnicity  race        age\n",
      "1  001-0225-027        4.0        1.0   5.0  60.125942\n",
      "3  002-0225-022        5.0        1.0   5.0  48.536617\n",
      "4  004-0225-007        5.0        1.0   5.0  66.784393\n",
      "\n",
      "\n",
      "***English-speaking Latina participant IDs and backgoundinformation, with corresponding interview_IDs from `call_info_file`:\n",
      "\n",
      "             sid education  ethnicity  race        age\n",
      "0  002-0225-017       5.0        2.0   5.0  49.492130\n",
      "1  022-0225-002       5.0        2.0   5.0  56.654346\n",
      "2  022-0225-006       6.0        2.0   5.0  59.819302\n",
      "\n",
      "\n",
      "***Spanish-speaking Latina participant IDs and backgoundinformation, with **no** corresponding interview_IDs or any other information:\n",
      "\n",
      "             sid education  ethnicity  race        age  \\\n",
      "1  011-0225-006         4          2   5.0  61.182751   \n",
      "4  022-0225-015         4          2   NaN  68.490074   \n",
      "5  037-0225-003         2          2   5.0  41.040382   \n",
      "\n",
      "                         interview_ID  # calls  \n",
      "1                                 NaN     20.0  \n",
      "4  RE52eab732878d5d9928f284a2e48dbff9      5.0  \n",
      "5                                 NaN     32.0  \n"
     ]
    }
   ],
   "source": [
    "print(\"\\n\\n***Non-Latina participant IDs and backgound information, with \\\n",
    "corresponding interview_IDs from `call_info_file`:\\n\\n\",\n",
    "non_latinas_df.head(3))\n",
    "\n",
    "print(\"\\n\\n***English-speaking Latina participant IDs and backgound\\\n",
    "information, with corresponding interview_IDs from `call_info_file`:\\n\\n\",\n",
    "latinas_en_df.head(3))\n",
    "\n",
    "print(\"\\n\\n***Spanish-speaking Latina participant IDs and backgound\\\n",
    "information, with **no** corresponding interview_IDs or any other information:\\n\\n\",\n",
    "latinas_es_df.head(3))\n"
   ]
  },
  {
   "cell_type": "markdown",
   "id": "3a39f164",
   "metadata": {},
   "source": [
    "## II. Create interview dataframe"
   ]
  },
  {
   "cell_type": "markdown",
   "id": "0a183175",
   "metadata": {},
   "source": [
    "**Create dataframes for `call_info_file`**\n",
    "\n",
    "- Data for participants from the fidelity list\n",
    "- Does not contain any interview data\n",
    "- Does not contain info about the language of the participants\n",
    "- Need to cross-check for language with `background_info_file_lat`\n",
    "\n",
    "Contains:\n",
    "- participant IDs (sid)\n",
    "- interview_IDs in the form of URLs (needs conversion)\n",
    "- global_spirit_rating (modified, unlike MITI 3.0, it takes into account all 5 constructs)"
   ]
  },
  {
   "cell_type": "code",
   "execution_count": 10,
   "id": "77dedb00",
   "metadata": {},
   "outputs": [],
   "source": [
    "call_info_file = \"LIVES_Call-Level_Data_all_fidelity_scored_calls_n=323_trimmed.xlsx\""
   ]
  },
  {
   "cell_type": "code",
   "execution_count": 11,
   "id": "ca0ff5ad",
   "metadata": {},
   "outputs": [],
   "source": [
    "# global ratings, call IDs and participant IDs (Latinas and non-Latinas)\n",
    "\n",
    "call_info_df = pd.read_excel(input_suffix + call_info_file, index_col=0, header=0)\n",
    "\n",
    "# Create interview_IDs (Twilo hashes) from call URLs\n",
    "substr = r'.*/([^/]+)$'\n",
    "call_info_df['interview_ID'] = call_info_df['call_url'].map(lambda intid: re.sub(substr, r'\\g<1>', intid))\n",
    "\n",
    "# DF1: interview_IDs and participant IDs\n",
    "columns = [\"interview_ID\",\"sid\"]\n",
    "info_call_part_df = call_info_df.loc[1:,columns]\n",
    " \n",
    "# DF2: interview_IDs, participant IDs, and global ratings\n",
    "columns = [\"interview_ID\",\"sid\", \"global_spirit_rating\"]\n",
    "info_call_part_global_df = call_info_df.loc[1:,columns]"
   ]
  },
  {
   "cell_type": "markdown",
   "id": "bafb02ad",
   "metadata": {},
   "source": [
    "## III. Create and work with pilot interview dataframes\n",
    "\n",
    "The pilot files contain, ordered by interview:\n",
    "- interview_ID (as wav_file_name, we need to convert these)\n",
    "- variable_subtype, one for each MITI global construct\n",
    "- rating, MITI globla contructs ratings"
   ]
  },
  {
   "cell_type": "code",
   "execution_count": 12,
   "id": "0689660e",
   "metadata": {},
   "outputs": [],
   "source": [
    "# These are IDs (Twilo hashes) for all the pilot interviews. They were manually extracted from the LabelStudio pilot projects\n",
    "pilot_interviews_es = [\"RE52eab732878d5d9928f284a2e48dbff9\", \"RE0fb9df1929fea1d6cf799da7b0c8e75f\", \"RE2f7e16e1c93e2aaafa6f4428ab1ab3bc\"]\n",
    "pilot_interviews_en = [\"RE1f175cf47d8bc64eba9b21aaec028e44\", \"REad702d81cc4b7d93c14c6227373c3ca4\", \"RE2cddbcf83b4b27e538e185a04a18af2b\", \"RE13969403f5a37da7308bac270bd49939\", \"RE2b76dfe070a66d596af4667972c58d86\"]"
   ]
  },
  {
   "cell_type": "code",
   "execution_count": 13,
   "id": "75ad6764",
   "metadata": {},
   "outputs": [],
   "source": [
    "pilot_interview_ratings_en = \"pilot_interview_annotation_en.csv\"\n",
    "pilot_interview_ratings_es = \"pilot_interview_annotation_es.csv\""
   ]
  },
  {
   "cell_type": "code",
   "execution_count": 14,
   "id": "bc4b3f35",
   "metadata": {},
   "outputs": [],
   "source": [
    "# Create pilot interviews dataframes\n",
    "pilot_df_en = pd.read_csv(input_suffix + pilot_interview_ratings_en, index_col=None, header=0)\n",
    "pilot_df_es = pd.read_csv(input_suffix +pilot_interview_ratings_es, index_col=None, header=0)\n",
    "\n",
    "# Convert the wave file names into interview IDs, which are Twilo hashes\n",
    "pilot_df_en['wav_file_name'] = pilot_df_en['wav_file_name'].map(lambda wav_file_name: wav_file_name.removesuffix(\".wav\"))\n",
    "pilot_df_es['wav_file_name'] = pilot_df_es['wav_file_name'].map(lambda wav_file_name: re.sub(r\"_.+\", '', wav_file_name))\n",
    "\n",
    "# Make sure we actually have all interviews\n",
    "for interview in pilot_interviews_es:\n",
    "    assert interview in set(pilot_df_es['wav_file_name']), f\"Missing interview in df: {interview}\"\n",
    "for interview in pilot_interviews_en:\n",
    "    assert interview in set(pilot_df_en['wav_file_name']), f\"Missing interview in df: {interview}\""
   ]
  },
  {
   "cell_type": "markdown",
   "id": "ce7dd87c",
   "metadata": {},
   "source": [
    "**Calculation of Global Rating for pilot interviews**\n",
    "\n",
    "Notice that the global rating scores in the `LIVES_Call-Level_Data_all_fidelity_scored_calls_n=323_trimmed.xlsx` do not follow the MITI guidelines but calculate it based on all five global constructs. In this case, this will help us because we want to take into account all MITI construct ratings for sampling.\n",
    "\n",
    "We cannot use the calculated MITI global ratings from the stats notebooks. We will need to re-calculate the global ratings from the pilot interviews to take into account all MITI global constructs, not only `Evocation`, `Collaboration`, and `Autonomy/Support` as in MITI 3.0."
   ]
  },
  {
   "cell_type": "code",
   "execution_count": 15,
   "id": "ca5437ff",
   "metadata": {},
   "outputs": [],
   "source": [
    "# Get modified global scores by interview for pilot interviews\n",
    "\n",
    "# For English, average all available interview ratings by construct (Sarah's & Damian's)\n",
    "global_scores_pilot_en = pd.DataFrame(pilot_df_en.groupby([\"wav_file_name\"], sort=False)[\"rating\"].mean())\n",
    "\n",
    "pilot_global_scores_df_en = pd.DataFrame(data = {\"modified_global_score\":list(global_scores_pilot_en[\"rating\"]),\n",
    "             \"interview_ID\":list(global_scores_pilot_en.index)}, index=None)\n",
    "\n",
    "# For Spanish, there is only one available interview rating by construct (Damian's)\n",
    "global_scores_pilot_es = pd.DataFrame(pilot_df_es.groupby([\"wav_file_name\"], sort=False)[\"rating\"].mean())\n",
    "\n",
    "pilot_global_scores_df_es = pd.DataFrame(data = {\"modified_global_score\":list(global_scores_pilot_es[\"rating\"]),\n",
    "                                                 \"interview_ID\":list(global_scores_pilot_es.index),},\n",
    "                                         index=None)"
   ]
  },
  {
   "cell_type": "code",
   "execution_count": 16,
   "id": "eb4e5d8e",
   "metadata": {},
   "outputs": [
    {
     "data": {
      "image/png": "[encoded data removed]",
      "text/plain": [
       "<Figure size 432x288 with 1 Axes>"
      ]
     },
     "metadata": {
      "needs_background": "light"
     },
     "output_type": "display_data"
    },
    {
     "name": "stdout",
     "output_type": "stream",
     "text": [
      "   modified_global_score                        interview_ID\n",
      "0                    3.8  RE0fb9df1929fea1d6cf799da7b0c8e75f\n",
      "1                    4.4  RE52eab732878d5d9928f284a2e48dbff9\n",
      "2                    4.6  RE2f7e16e1c93e2aaafa6f4428ab1ab3bc\n"
     ]
    },
    {
     "data": {
      "text/plain": [
       "<Figure size 432x288 with 0 Axes>"
      ]
     },
     "metadata": {},
     "output_type": "display_data"
    },
    {
     "data": {
      "image/png": "[encoded data removed]",
      "text/plain": [
       "<Figure size 432x288 with 1 Axes>"
      ]
     },
     "metadata": {
      "needs_background": "light"
     },
     "output_type": "display_data"
    },
    {
     "name": "stdout",
     "output_type": "stream",
     "text": [
      "   modified_global_score                        interview_ID\n",
      "0                    2.6  RE1f175cf47d8bc64eba9b21aaec028e44\n",
      "1                    3.9  RE2cddbcf83b4b27e538e185a04a18af2b\n",
      "2                    4.2  RE13969403f5a37da7308bac270bd49939\n",
      "3                    4.3  REad702d81cc4b7d93c14c6227373c3ca4\n",
      "4                    4.7  RE2b76dfe070a66d596af4667972c58d86\n"
     ]
    },
    {
     "data": {
      "text/plain": [
       "<Figure size 432x288 with 0 Axes>"
      ]
     },
     "metadata": {},
     "output_type": "display_data"
    }
   ],
   "source": [
    "# Show distribution in Spanish and English pilot interviews\n",
    "\n",
    "_ = plt.figure(figsize=(6,4))\n",
    "_ = plt.bar(pilot_global_scores_df_es[\"interview_ID\"].map(lambda intid: intid[-6:]),\n",
    "            pilot_global_scores_df_es[\"modified_global_score\"])\n",
    "_ = plt.xlabel('Interview ID')\n",
    "_ = plt.ylabel('Modified Global score (max = 5)')\n",
    "_ = plt.title(f\"Distribution of pilot Spanish interviews by modified global scores\")\n",
    "plt.show()\n",
    "plt.clf()\n",
    "print(pilot_global_scores_df_es)\n",
    "\n",
    "\n",
    "_ = plt.figure(figsize=(6,4))\n",
    "_ = plt.bar(pilot_global_scores_df_en[\"interview_ID\"].map(lambda intid: intid[-6:]),\n",
    "            pilot_global_scores_df_en[\"modified_global_score\"])\n",
    "_ = plt.xlabel('Interview ID')\n",
    "_ = plt.ylabel('Modified Global score (max = 5)')\n",
    "_ = plt.title(f\"Distribution of pilot English interviews by modified global scores\")\n",
    "plt.show()\n",
    "plt.clf()\n",
    "print(pilot_global_scores_df_en)\n"
   ]
  },
  {
   "cell_type": "code",
   "execution_count": 17,
   "id": "05647dbc",
   "metadata": {},
   "outputs": [
    {
     "name": "stdout",
     "output_type": "stream",
     "text": [
      "*** Missing interview or participant ID in English df ***\n",
      "        modified_global_score             3.9\n",
      "sid                      039-0225-009\n",
      "Name: RE2cddbcf83b4b27e538e185a04a18af2b, dtype: object\n"
     ]
    },
    {
     "data": {
      "text/html": [
       "<div>\n",
       "<style scoped>\n",
       "    .dataframe tbody tr th:only-of-type {\n",
       "        vertical-align: middle;\n",
       "    }\n",
       "\n",
       "    .dataframe tbody tr th {\n",
       "        vertical-align: top;\n",
       "    }\n",
       "\n",
       "    .dataframe thead th {\n",
       "        text-align: right;\n",
       "    }\n",
       "</style>\n",
       "<table border=\"1\" class=\"dataframe\">\n",
       "  <thead>\n",
       "    <tr style=\"text-align: right;\">\n",
       "      <th></th>\n",
       "      <th>modified_global_score</th>\n",
       "      <th>interview_ID</th>\n",
       "      <th>sid</th>\n",
       "      <th>education</th>\n",
       "      <th>ethnicity</th>\n",
       "      <th>race</th>\n",
       "      <th>age</th>\n",
       "    </tr>\n",
       "  </thead>\n",
       "  <tbody>\n",
       "    <tr>\n",
       "      <th>0</th>\n",
       "      <td>2.6</td>\n",
       "      <td>RE1f175cf47d8bc64eba9b21aaec028e44</td>\n",
       "      <td>202-0225-001</td>\n",
       "      <td>6.0</td>\n",
       "      <td>2.0</td>\n",
       "      <td>5.0</td>\n",
       "      <td>49.905544</td>\n",
       "    </tr>\n",
       "    <tr>\n",
       "      <th>1</th>\n",
       "      <td>4.2</td>\n",
       "      <td>RE13969403f5a37da7308bac270bd49939</td>\n",
       "      <td>154-0225-006</td>\n",
       "      <td>6.0</td>\n",
       "      <td>1.0</td>\n",
       "      <td>5.0</td>\n",
       "      <td>65.859001</td>\n",
       "    </tr>\n",
       "    <tr>\n",
       "      <th>2</th>\n",
       "      <td>4.3</td>\n",
       "      <td>REad702d81cc4b7d93c14c6227373c3ca4</td>\n",
       "      <td>083-0225-064</td>\n",
       "      <td>6.0</td>\n",
       "      <td>1.0</td>\n",
       "      <td>5.0</td>\n",
       "      <td>57.691990</td>\n",
       "    </tr>\n",
       "    <tr>\n",
       "      <th>3</th>\n",
       "      <td>4.7</td>\n",
       "      <td>RE2b76dfe070a66d596af4667972c58d86</td>\n",
       "      <td>852-0225-005</td>\n",
       "      <td>5.0</td>\n",
       "      <td>2.0</td>\n",
       "      <td>5.0</td>\n",
       "      <td>71.162216</td>\n",
       "    </tr>\n",
       "  </tbody>\n",
       "</table>\n",
       "</div>"
      ],
      "text/plain": [
       "   modified_global_score                        interview_ID           sid  \\\n",
       "0                    2.6  RE1f175cf47d8bc64eba9b21aaec028e44  202-0225-001   \n",
       "1                    4.2  RE13969403f5a37da7308bac270bd49939  154-0225-006   \n",
       "2                    4.3  REad702d81cc4b7d93c14c6227373c3ca4  083-0225-064   \n",
       "3                    4.7  RE2b76dfe070a66d596af4667972c58d86  852-0225-005   \n",
       "\n",
       "   education  ethnicity  race        age  \n",
       "0        6.0        2.0   5.0  49.905544  \n",
       "1        6.0        1.0   5.0  65.859001  \n",
       "2        6.0        1.0   5.0  57.691990  \n",
       "3        5.0        2.0   5.0  71.162216  "
      ]
     },
     "execution_count": 17,
     "metadata": {},
     "output_type": "execute_result"
    }
   ],
   "source": [
    "# Add participant IDs and demographic background information to English calls\n",
    "\n",
    "# English pilot calls require two steps: 1 Add participant IDs ['sid'],\n",
    "pilot_merged_df_en = pd.merge(pilot_global_scores_df_en,\n",
    "                              info_call_part_df, how ='inner', on =['interview_ID'])\n",
    "\n",
    "# 2: Use participant IDs to add \"education\", \"ethnicity\", \"race\", \"age\" from background_info_df\n",
    "\n",
    "columns = [\"sid\", \"education\", \"ethnicity\", \"race\", \"age\"]\n",
    "background_part_edu_eth_race_age_df = background_info_df.loc[1:,columns]\n",
    "\n",
    "pilot_full_df_en = pd.merge(pilot_merged_df_en,\n",
    "                 background_part_edu_eth_race_age_df, how ='inner', on =['sid'])\n",
    "\n",
    "# Make sure we actually have all interviews\n",
    "for interview in pilot_interviews_en:\n",
    "    try:\n",
    "        assert interview in set(pilot_full_df_en['interview_ID'])\n",
    "    except AssertionError as e:\n",
    "        print(f\"*** Missing interview or participant ID in English df ***\\n\\\n",
    "        {pilot_merged_df_en.set_index('interview_ID', inplace = False).loc[interview]}\")\n",
    "\n",
    "pilot_full_df_en"
   ]
  },
  {
   "cell_type": "markdown",
   "id": "21b42bab",
   "metadata": {},
   "source": [
    "**Issue with interview ID RE2cddbcf83b4b27e538e185a04a18af2b**\n",
    "\n",
    "- I checked manually inside the `LIVES_Outcome_Data_BL-24M_ppts_from_fidelity_list_n=173_trimmed.xlsx` file and it seems that the participant ID for this interview (`039-0225-009`) is not there.\n",
    "- Sarah advised to check the `LIVES_BehaviorOutcomes_BL-24M_01062021_ALL PARTICIPANTS.xls` file, but there is also no information about this participant.\n",
    "- The decision between Sarah and myself is to discard this interview. Only 5 minutes of it had been annotated and diarized for the piot, so we thought it was fine."
   ]
  },
  {
   "cell_type": "code",
   "execution_count": 18,
   "id": "1736bef7",
   "metadata": {},
   "outputs": [
    {
     "data": {
      "text/html": [
       "<div>\n",
       "<style scoped>\n",
       "    .dataframe tbody tr th:only-of-type {\n",
       "        vertical-align: middle;\n",
       "    }\n",
       "\n",
       "    .dataframe tbody tr th {\n",
       "        vertical-align: top;\n",
       "    }\n",
       "\n",
       "    .dataframe thead th {\n",
       "        text-align: right;\n",
       "    }\n",
       "</style>\n",
       "<table border=\"1\" class=\"dataframe\">\n",
       "  <thead>\n",
       "    <tr style=\"text-align: right;\">\n",
       "      <th></th>\n",
       "      <th>modified_global_score</th>\n",
       "      <th>interview_ID</th>\n",
       "      <th>sid</th>\n",
       "      <th>education</th>\n",
       "      <th>ethnicity</th>\n",
       "      <th>race</th>\n",
       "      <th>age</th>\n",
       "    </tr>\n",
       "  </thead>\n",
       "  <tbody>\n",
       "    <tr>\n",
       "      <th>0</th>\n",
       "      <td>3.8</td>\n",
       "      <td>RE0fb9df1929fea1d6cf799da7b0c8e75f</td>\n",
       "      <td>177-0225-001</td>\n",
       "      <td>3</td>\n",
       "      <td>2</td>\n",
       "      <td>6.0</td>\n",
       "      <td>43.728954</td>\n",
       "    </tr>\n",
       "    <tr>\n",
       "      <th>1</th>\n",
       "      <td>4.4</td>\n",
       "      <td>RE52eab732878d5d9928f284a2e48dbff9</td>\n",
       "      <td>022-0225-015</td>\n",
       "      <td>4</td>\n",
       "      <td>2</td>\n",
       "      <td>NaN</td>\n",
       "      <td>68.490074</td>\n",
       "    </tr>\n",
       "    <tr>\n",
       "      <th>2</th>\n",
       "      <td>4.6</td>\n",
       "      <td>RE2f7e16e1c93e2aaafa6f4428ab1ab3bc</td>\n",
       "      <td>078-0225-004</td>\n",
       "      <td>5</td>\n",
       "      <td>2</td>\n",
       "      <td>6.0</td>\n",
       "      <td>51.676933</td>\n",
       "    </tr>\n",
       "  </tbody>\n",
       "</table>\n",
       "</div>"
      ],
      "text/plain": [
       "   modified_global_score                        interview_ID           sid  \\\n",
       "0                    3.8  RE0fb9df1929fea1d6cf799da7b0c8e75f  177-0225-001   \n",
       "1                    4.4  RE52eab732878d5d9928f284a2e48dbff9  022-0225-015   \n",
       "2                    4.6  RE2f7e16e1c93e2aaafa6f4428ab1ab3bc  078-0225-004   \n",
       "\n",
       "  education  ethnicity  race        age  \n",
       "0         3          2   6.0  43.728954  \n",
       "1         4          2   NaN  68.490074  \n",
       "2         5          2   6.0  51.676933  "
      ]
     },
     "execution_count": 18,
     "metadata": {},
     "output_type": "execute_result"
    }
   ],
   "source": [
    "# Add participant IDs and demographic background information to Spanish calls\n",
    "\n",
    "# Spanish pilot calls require only one step:\n",
    "# Use participant IDs to add \"education\", \"ethnicity\", \"race\", \"age\" from background_info_df\n",
    "columns = [\"sid\", \"education\", \"ethnicity\", \"race\", \"age\", \"interview_ID\"]\n",
    "background_part_edu_eth_race_age_df = background_info_df_lat.loc[1:,columns]\n",
    "\n",
    "pilot_full_df_es = pd.merge(pilot_global_scores_df_es,\n",
    "                              background_part_edu_eth_race_age_df, how ='inner', on =['interview_ID'])\n",
    "\n",
    "# Make sure we actually have all interviews\n",
    "for interview in pilot_interviews_es:\n",
    "    try:\n",
    "        assert interview in set(pilot_full_df_es['interview_ID'])\n",
    "    except AssertionError as e:\n",
    "        print(f\"*** Missing interview or participant ID in Spanish df ***\\n\\\n",
    "        {pilot_full_df_es.set_index('interview_ID', inplace = False).loc[interview]}\")\n",
    "\n",
    "pilot_full_df_es"
   ]
  },
  {
   "cell_type": "markdown",
   "id": "1bcdda90",
   "metadata": {},
   "source": [
    "## IV Create interview dataframes \n",
    "\n",
    "Create a data frame for each of the following:\n",
    "\n",
    "- non_latinas_interviews_df\n",
    "- latinas_en_interviews_df\n",
    "- latinas_es_interviews_df\n",
    "\n",
    "Steps:\n",
    "\n",
    "1. Subtract pilot interviews from `info_call_part_global_df`\n",
    "2. Add backgound info from:\n",
    "    - non_latinas_df\n",
    "    - latinas_en_df\n",
    "    - latinas_es_df\n"
   ]
  },
  {
   "cell_type": "code",
   "execution_count": 19,
   "id": "351afde3",
   "metadata": {},
   "outputs": [],
   "source": [
    "# Subtract pilot interviews\n",
    "difference = set(info_call_part_global_df['interview_ID']) - set(pilot_full_df_en['interview_ID'])\\\n",
    "             - set(pilot_full_df_es['interview_ID'])\n",
    "\n",
    "info_call_part_global_diff_df = info_call_part_global_df[pd.DataFrame(info_call_part_global_df.interview_ID.to_list())\\\n",
    "                                               .isin(difference).any(1).values]\n",
    "\n",
    "len(info_call_part_global_diff_df) # previous = 308, now = 316\n",
    "\n",
    "# Make sure the pilot interviews are not in the info_call_part_global_diff_df\n",
    "for interview in info_call_part_global_diff_df['interview_ID']:\n",
    "    try:\n",
    "        assert not interview in set(pilot_full_df_en['interview_ID'])\n",
    "    except AssertionError as e:\n",
    "        print(f\"interview {interview}\")"
   ]
  },
  {
   "cell_type": "code",
   "execution_count": 20,
   "id": "12c3b596",
   "metadata": {},
   "outputs": [],
   "source": [
    "# Add background info based on sid\n",
    "\n",
    "columns = [\"sid\", \"education\", \"ethnicity\", \"race\", \"age\"]\n",
    "\n",
    "non_latinas_interviews_df = pd.merge(info_call_part_global_diff_df,\n",
    "                              non_latinas_df.loc[1:,columns], how ='inner', on =['sid'])\n",
    "\n",
    "latinas_en_interviews_df = pd.merge(info_call_part_global_diff_df,\n",
    "                              latinas_en_df.loc[1:,columns], how ='inner', on =['sid'])\n",
    "\n",
    "latinas_es_interviews_df = pd.merge(latinas_es_df.loc[1:,columns],\n",
    "                                    pilot_full_df_es, how ='left', on =['sid'])\n",
    "\n",
    "difference = set(latinas_es_df.sid) - set(pilot_full_df_es.sid)\n",
    "latinas_es_interviews_df = latinas_es_df[pd.DataFrame(latinas_es_df.sid.to_list())\\\n",
    "                                               .isin(difference).any(1).values]"
   ]
  },
  {
   "cell_type": "markdown",
   "id": "c141a39c",
   "metadata": {},
   "source": [
    "**Resulting Dataframes**"
   ]
  },
  {
   "cell_type": "code",
   "execution_count": 21,
   "id": "94f33bad",
   "metadata": {},
   "outputs": [
    {
     "name": "stdout",
     "output_type": "stream",
     "text": [
      "\n",
      "\n",
      "***Non-Latina participant interviews with background information`:\n",
      "\n",
      "                          interview_ID           sid  global_spirit_rating  \\\n",
      "0  RE4956387b8e3f52203180d3d17d2ee61a  821-0225-009              3.666667   \n",
      "1  RE104522f119f340187cdb416bd2591a79  866-0225-015              4.333333   \n",
      "2  RE84ef2254720e73e42e84b5df692052f6  866-0225-015              4.000000   \n",
      "\n",
      "   education  ethnicity  race        age  \n",
      "0        6.0        1.0   5.0  70.579056  \n",
      "1        4.0        1.0   5.0  65.278580  \n",
      "2        4.0        1.0   5.0  65.278580  \n",
      "\n",
      "\n",
      "***English-speaking Latina participant interviews with background information`:\n",
      "\n",
      "                          interview_ID           sid  global_spirit_rating  \\\n",
      "0  RE6ab74e952649f2d6f54842e7b0d07929  854-0225-005              4.000000   \n",
      "1  REe9ea55afdc95f287bd95467f6f714935  854-0225-005              3.666667   \n",
      "2  REfaca85668e11be51c3208b68fcb98742  838-0225-001              4.333333   \n",
      "\n",
      "  education  ethnicity  race        age  \n",
      "0       6.0        2.0   4.0  58.124573  \n",
      "1       6.0        2.0   4.0  58.124573  \n",
      "2       6.0        2.0   5.0  45.237507  \n",
      "\n",
      "\n",
      "***Spanish-speaking Latina participant interviews with background information`:\n",
      "\n",
      "              sid education  ethnicity  race        age interview_ID  # calls\n",
      "1   011-0225-006         4          2   5.0  61.182751          NaN     20.0\n",
      "5   037-0225-003         2          2   5.0  41.040382          NaN     32.0\n",
      "19  141-0225-007         2          2   5.0  47.137577          NaN      3.0\n"
     ]
    }
   ],
   "source": [
    "print(\"\\n\\n***Non-Latina participant interviews with background information`:\\n\\n\",\n",
    "non_latinas_interviews_df.head(3))\n",
    "\n",
    "print(\"\\n\\n***English-speaking Latina participant interviews with background information`:\\n\\n\",\n",
    "latinas_en_interviews_df.head(3))\n",
    "\n",
    "print(\"\\n\\n***Spanish-speaking Latina participant interviews with background information`:\\n\\n\",\n",
    "latinas_es_interviews_df.head(3))\n"
   ]
  },
  {
   "cell_type": "markdown",
   "id": "b7555663",
   "metadata": {},
   "source": [
    "## V. Sampling the English dataset by global rating\n",
    "\n",
    "Total sampled English calls should be (n=30) plus the ones we already sampled from the pilot (4 or 5):\n",
    "- 35 interviews x 2 annotators | 1 week x annotator = 18 weeks: Nov - May (taking into account holidays etc)\n",
    "- Sample the first half with non-Latinas' interviews and second half with English-speaking Latinas' interviews"
   ]
  },
  {
   "cell_type": "code",
   "execution_count": 22,
   "id": "90fc6684",
   "metadata": {},
   "outputs": [],
   "source": [
    "# We'll use these for descriptions\n",
    "def print_description(pdf:pd.DataFrame,\n",
    "                      description: str,\n",
    "                      global_rates:bool = True,\n",
    "                      education:bool = True,\n",
    "                      age:bool = True,\n",
    "                      race:bool = True,\n",
    "                      test:bool = False,\n",
    "                      verbose: bool=False):\n",
    "\n",
    "    print(f\"\\n\\n*** {description} ***\")\n",
    "\n",
    "    if verbose:\n",
    "        print(f\"- Dataframe description:\\n\",\n",
    "              pdf.describe())\n",
    "\n",
    "    print(f\"\\n- No. of enries in your DataFrame: {len(pdf.index)}\")\n",
    "\n",
    "    if global_rates:\n",
    "        global_scores = [x for x in sorted(set(pdf['global_spirit_rating'])) if np.isnan(x) == False]\n",
    "        print(f\"- No. of different MITI modified scores: {pdf['global_spirit_rating'].nunique()}, \",\n",
    "              f\"Global scores: {global_scores}\")\n",
    "\n",
    "    if education:\n",
    "        education = [x for x in sorted(set(pdf['education'])) if np.isnan(x) == False]\n",
    "        print(f\"- No. of different education backgrounds: {pdf['education'].nunique()}, \",\n",
    "              f\"Education backgrounds: {education}\")\n",
    "\n",
    "    if age:\n",
    "        age = [x for x in sorted(set(pdf['age'])) if np.isnan(x) == False]\n",
    "        print(f\"- No. of different ages: {pdf['age'].nunique()}, \",\n",
    "              f\"Ages range: {age[0]}... {age[-1]}\")\n",
    "\n",
    "    if race:\n",
    "        race = [x for x in sorted(set(pdf['race'])) if np.isnan(x) == False]\n",
    "        print(f\"- No. of different races: {pdf['race'].nunique()}, \",\n",
    "              f\"Races: {race}\")\n",
    "\n",
    "    # Test for repeated participant IDs and interview IDs\n",
    "    if test:\n",
    "        sids = [x for x in sorted(set(pdf['sid']))]\n",
    "        interview_IDs = [x for x in sorted(set(pdf['interview_ID']))]\n",
    "        try:\n",
    "            assert len(sids) == pdf['sid'].count()\n",
    "        except:\n",
    "            print(f\"- >>> The following participant IDs repeat in your sample: ***\",\n",
    "                 [x for x in sorted(set(pdf['sid'])) if x in sids])\n",
    "        try:\n",
    "            assert len(interview_IDs) == pdf['interview_ID'].count()\n",
    "        except:\n",
    "            print(f\"- >>> The following interview IDs repeat in your sample: ***\",\n",
    "                 [x for x in sorted(set(pdf['interview_ID'])) if x in interview_IDs])"
   ]
  },
  {
   "cell_type": "code",
   "execution_count": 23,
   "id": "dce3ac85",
   "metadata": {},
   "outputs": [],
   "source": [
    "# Plots\n",
    "def plot_global_education_age(pdf: pd.DataFrame,\n",
    "                              description:str,\n",
    "                              global_rates:bool = True,\n",
    "                              education:bool = True,\n",
    "                              race:bool = True,\n",
    "                              age:bool = True):\n",
    "\n",
    "    if global_rates:\n",
    "        sorted_pdf = pdf.sort_values('global_spirit_rating')\n",
    "        _ = plt.figure(figsize=(8,4))\n",
    "        _ = plt.hist(sorted_pdf['global_spirit_rating'])\n",
    "        _ = plt.xlabel('modified global score (max = 5)')\n",
    "        _ = plt.ylabel('number of interviews')\n",
    "        _ = plt.title(f\"{description} by modified global scores\")\n",
    "        plt.show()\n",
    "\n",
    "    if education:\n",
    "        sorted_pdf = pdf.sort_values('education')\n",
    "        _ = plt.figure(figsize=(8,4))\n",
    "        _ = plt.hist([str(int(x)) for x in sorted_pdf['education']])\n",
    "        _ = plt.xlabel('modified global score (max = 5)')\n",
    "        _ = plt.ylabel('number of interviews')\n",
    "        _ = plt.title(f\"{description} by education\")\n",
    "        plt.show()\n",
    "\n",
    "    if age:\n",
    "        sorted_pdf = pdf.sort_values('age')\n",
    "        _ = plt.figure(figsize=(8,4))\n",
    "        _ = plt.hist([str(int(x)) for x in sorted_pdf['age']])\n",
    "        _ = plt.xlabel('modified global score (max = 5)')\n",
    "        _ = plt.ylabel('number of interviews')\n",
    "        _ = plt.title(f\"{description} by age\")\n",
    "        plt.show()\n",
    "        \n",
    "    if race:\n",
    "        sorted_pdf = pdf.sort_values('race')\n",
    "        _ = plt.figure(figsize=(8,4))\n",
    "        _ = plt.hist([str(int(x)) for x in sorted_pdf['race']])\n",
    "        _ = plt.xlabel('modified global score (max = 5)')\n",
    "        _ = plt.ylabel('number of interviews')\n",
    "        _ = plt.title(f\"{description} by race\")\n",
    "        plt.show()"
   ]
  },
  {
   "cell_type": "markdown",
   "id": "3627db63",
   "metadata": {},
   "source": [
    "**Non-Latina pool of interviews: plots and sampling by global rating**"
   ]
  },
  {
   "cell_type": "code",
   "execution_count": 24,
   "id": "5e16b2e2",
   "metadata": {},
   "outputs": [
    {
     "name": "stdout",
     "output_type": "stream",
     "text": [
      "\n",
      "\n",
      "*** Pool of non-Latina interviews ***\n",
      "- Dataframe description:\n",
      "        global_spirit_rating   education  ethnicity        race         age\n",
      "count            282.000000  273.000000      273.0  273.000000  277.000000\n",
      "mean               4.147754    5.527473        1.0    4.750916   59.420099\n",
      "std                0.260480    0.696747        0.0    0.740286   14.038237\n",
      "min                3.000000    3.000000        1.0    2.000000   33.051334\n",
      "25%                4.000000    5.000000        1.0    5.000000   51.348392\n",
      "50%                4.000000    6.000000        1.0    5.000000   58.151951\n",
      "75%                4.333333    6.000000        1.0    5.000000   65.278580\n",
      "max                5.000000    6.000000        1.0    5.000000  148.900757\n",
      "\n",
      "- No. of enries in your DataFrame: 282\n",
      "- No. of different MITI modified scores: 7,  Global scores: [3.0, 3.3333332538604736, 3.6666667461395264, 4.0, 4.333333492279053, 4.666666507720947, 5.0]\n",
      "- No. of different education backgrounds: 4,  Education backgrounds: [3.0, 4.0, 5.0, 6.0]\n",
      "- No. of different ages: 142,  Ages range: 33.051334381103516... 74.56810760498047\n",
      "- No. of different races: 3,  Races: [2.0, 3.0, 5.0]\n"
     ]
    },
    {
     "data": {
      "image/png": "[encoded data removed]",
      "text/plain": [
       "<Figure size 576x288 with 1 Axes>"
      ]
     },
     "metadata": {
      "needs_background": "light"
     },
     "output_type": "display_data"
    }
   ],
   "source": [
    "# Let's look at the full set of interviews. \n",
    "\n",
    "print_description(non_latinas_interviews_df, \"Pool of non-Latina interviews\", verbose=True)\n",
    "\n",
    "non_latinas_interviews_df_sorted = non_latinas_interviews_df.sort_values('global_spirit_rating')\n",
    "_ = plt.figure(figsize=(8,4))\n",
    "_ = plt.hist(non_latinas_interviews_df_sorted['global_spirit_rating'])\n",
    "_ = plt.xlabel('modified global score (max = 5)')\n",
    "_ = plt.ylabel('number of interviews')\n",
    "_ = plt.title(f\"Pool of non-Latina interviews by modified global scores\")\n",
    "plt.show()"
   ]
  },
  {
   "cell_type": "code",
   "execution_count": 25,
   "id": "646f54a5",
   "metadata": {},
   "outputs": [],
   "source": [
    "# Get the lowes and highest global spirit ratings based on mean and standard dev\n",
    "global_rating_mean = non_latinas_interviews_df_sorted['global_spirit_rating'].mean()\n",
    "global_rating_std = non_latinas_interviews_df_sorted['global_spirit_rating'].std()\n",
    "\n",
    "high_scores = non_latinas_interviews_df[non_latinas_interviews_df[\"global_spirit_rating\"]\\\n",
    "                              > (global_rating_mean + global_rating_std)]\n",
    "\n",
    "\n",
    "low_scores = non_latinas_interviews_df[non_latinas_interviews_df[\"global_spirit_rating\"]\\\n",
    "                              < (global_rating_mean - global_rating_std)]\n",
    "\n",
    "\n",
    "intermediate_scores = pd.concat([non_latinas_interviews_df,\n",
    "                                 high_scores,\n",
    "                                 low_scores]).drop_duplicates(keep=False)\n",
    "\n",
    "\n",
    "# Check that we're not oversampling or undersampling\n",
    "assert len(pd.concat([non_latinas_interviews_df,\n",
    "                      high_scores,\n",
    "                      low_scores,\n",
    "                      intermediate_scores]).drop_duplicates(keep=False)) == 0\n"
   ]
  },
  {
   "cell_type": "code",
   "execution_count": 26,
   "id": "f11075dc",
   "metadata": {},
   "outputs": [
    {
     "name": "stdout",
     "output_type": "stream",
     "text": [
      "\n",
      "\n",
      "*** High-scored non_Latina interviews ***\n",
      "\n",
      "- No. of enries in your DataFrame: 14\n",
      "- No. of different MITI modified scores: 2,  Global scores: [4.666666507720947, 5.0]\n",
      "- No. of different education backgrounds: 3,  Education backgrounds: [4.0, 5.0, 6.0]\n",
      "- No. of different ages: 14,  Ages range: 34.26420211791992... 85.9822006225586\n",
      "- No. of different races: 1,  Races: [5.0]\n",
      "\n",
      "\n",
      "*** Intermediate-scored non_Latina interviews ***\n",
      "\n",
      "- No. of enries in your DataFrame: 256\n",
      "- No. of different MITI modified scores: 2,  Global scores: [4.0, 4.333333492279053]\n",
      "- No. of different education backgrounds: 4,  Education backgrounds: [3.0, 4.0, 5.0, 6.0]\n",
      "- No. of different ages: 133,  Ages range: 33.051334381103516... 74.56810760498047\n",
      "- No. of different races: 3,  Races: [2.0, 3.0, 5.0]\n",
      "\n",
      "\n",
      "*** Low-scored non_Latina interviews ***\n",
      "\n",
      "- No. of enries in your DataFrame: 12\n",
      "- No. of different MITI modified scores: 3,  Global scores: [3.0, 3.3333332538604736, 3.6666667461395264]\n",
      "- No. of different education backgrounds: 3,  Education backgrounds: [4.0, 5.0, 6.0]\n",
      "- No. of different ages: 11,  Ages range: 47.049964904785156... 78.70225524902344\n",
      "- No. of different races: 2,  Races: [3.0, 5.0]\n"
     ]
    }
   ],
   "source": [
    "# Describe the datasets\n",
    "print_description(high_scores, \"High-scored non_Latina interviews\")\n",
    "print_description(intermediate_scores, \"Intermediate-scored non_Latina interviews\")\n",
    "print_description(low_scores, \"Low-scored non_Latina interviews\")"
   ]
  },
  {
   "cell_type": "code",
   "execution_count": 27,
   "id": "b5e7098b",
   "metadata": {},
   "outputs": [
    {
     "name": "stdout",
     "output_type": "stream",
     "text": [
      "\n",
      "\n",
      "*** stratified_high_scores ***\n",
      "\n",
      "- No. of enries in your DataFrame: 5\n",
      "- No. of different MITI modified scores: 2,  Global scores: [4.666666507720947, 5.0]\n",
      "- No. of different education backgrounds: 3,  Education backgrounds: [4.0, 5.0, 6.0]\n",
      "- No. of different ages: 5,  Ages range: 45.122520446777344... 63.18138122558594\n",
      "- No. of different races: 1,  Races: [5.0]\n",
      "\n",
      "\n",
      "*** stratified_intermediate_scores ***\n",
      "\n",
      "- No. of enries in your DataFrame: 4\n",
      "- No. of different MITI modified scores: 2,  Global scores: [4.0, 4.333333492279053]\n",
      "- No. of different education backgrounds: 2,  Education backgrounds: [5.0, 6.0]\n",
      "- No. of different ages: 4,  Ages range: 51.233402252197266... 70.9979476928711\n",
      "- No. of different races: 1,  Races: [5.0]\n",
      "\n",
      "\n",
      "*** stratified_low_scores ***\n",
      "\n",
      "- No. of enries in your DataFrame: 4\n",
      "- No. of different MITI modified scores: 2,  Global scores: [3.3333332538604736, 3.6666667461395264]\n",
      "- No. of different education backgrounds: 2,  Education backgrounds: [4.0, 6.0]\n",
      "- No. of different ages: 4,  Ages range: 52.64613342285156... 78.28337097167969\n",
      "- No. of different races: 2,  Races: [3.0, 5.0]\n"
     ]
    }
   ],
   "source": [
    "# Get ~5 stratified samples of interviews from each batch of scores taking into account education and race\n",
    "\n",
    "# I am not sure how to apply the new seeding method so I have this\n",
    "np.random.seed(35)\n",
    "\n",
    "# Stratified random sampling based on https://www.statology.org/stratified-sampling-pandas/\n",
    "sample_size = 5\n",
    "\n",
    "stratified_high_scores = high_scores.groupby(['education','race'], group_keys=False)\\\n",
    ".apply(lambda x: x.sample(int(np.rint(sample_size*len(x)/len(high_scores)))))\\\n",
    ".sample(frac=1).reset_index(drop=True)\n",
    "\n",
    "stratified_intermediate_scores = intermediate_scores.groupby(['education','race'], group_keys=False)\\\n",
    ".apply(lambda x: x.sample(int(np.rint(sample_size*len(x)/len(intermediate_scores)))))\\\n",
    ".sample(frac=1).reset_index(drop=True)\n",
    "\n",
    "stratified_low_scores = low_scores.groupby(['education','race'], group_keys=False)\\\n",
    ".apply(lambda x: x.sample(int(np.rint(sample_size*len(x)/len(low_scores)))))\\\n",
    ".sample(frac=1).reset_index(drop=True)\n",
    "\n",
    "print_description(stratified_high_scores, \"stratified_high_scores\")\n",
    "print_description(stratified_intermediate_scores, \"stratified_intermediate_scores\")\n",
    "print_description(stratified_low_scores, \"stratified_low_scores\")"
   ]
  },
  {
   "cell_type": "code",
   "execution_count": 28,
   "id": "321dce79",
   "metadata": {},
   "outputs": [
    {
     "name": "stdout",
     "output_type": "stream",
     "text": [
      "\n",
      "\n",
      "*** non-Latina interviews in pilot ***\n",
      "    global_spirit_rating                        interview_ID           sid  \\\n",
      "1                   4.2  RE13969403f5a37da7308bac270bd49939  154-0225-006   \n",
      "2                   4.3  REad702d81cc4b7d93c14c6227373c3ca4  083-0225-064   \n",
      "\n",
      "   education  ethnicity  race        age  \n",
      "1        6.0        1.0   5.0  65.859001  \n",
      "2        6.0        1.0   5.0  57.691990  \n"
     ]
    }
   ],
   "source": [
    "# Look at the non-Latina interviews we have in the pilot so that we can balance the sample\n",
    "std_pilot_columns = ['global_spirit_rating', 'interview_ID', 'sid', 'education', 'ethnicity', 'race', 'age']\n",
    "non_Latinas_in_pilot = pilot_full_df_en[pilot_full_df_en['ethnicity'] == 1]\n",
    "\n",
    "# Rename colums to match our other other dataframes\n",
    "non_Latinas_in_pilot.columns = std_pilot_columns\n",
    "\n",
    "print(\"\\n\\n*** non-Latina interviews in pilot ***\\n\",\n",
    "      non_Latinas_in_pilot)  # education 6 and race 5, scores [4.2, 4.3]"
   ]
  },
  {
   "cell_type": "code",
   "execution_count": 29,
   "id": "b73e91c7",
   "metadata": {},
   "outputs": [
    {
     "name": "stdout",
     "output_type": "stream",
     "text": [
      "\n",
      "\n",
      "*** stratified_low_scores ***\n",
      "\n",
      "- No. of enries in your DataFrame: 6\n",
      "- No. of different MITI modified scores: 3,  Global scores: [3.0, 3.3333332538604736, 3.6666667461395264]\n",
      "- No. of different education backgrounds: 2,  Education backgrounds: [4.0, 6.0]\n",
      "- No. of different ages: 6,  Ages range: 48.84599685668945... 78.28337097167969\n",
      "- No. of different races: 2,  Races: [3.0, 5.0]\n"
     ]
    }
   ],
   "source": [
    "# It seems like we have two with an intermediate global score already\n",
    "# Let's add to our sample interviews from the lowest category to try and balance the sample.\n",
    "# We always want more low-scred interviews because the sample is skewed towards \"good\" interviews\n",
    "\n",
    "sample_size = 6\n",
    "stratified_low_scores = low_scores.groupby(['education','race'], group_keys=False)\\\n",
    ".apply(lambda x: x.sample(int(np.rint(sample_size*len(x)/len(low_scores)))))\\\n",
    ".sample(frac=1).reset_index(drop=True)\n",
    "\n",
    "print_description(stratified_low_scores, \"stratified_low_scores\")"
   ]
  },
  {
   "cell_type": "code",
   "execution_count": 30,
   "id": "78064e3b",
   "metadata": {},
   "outputs": [
    {
     "name": "stdout",
     "output_type": "stream",
     "text": [
      "\n",
      "\n",
      "*** sampled_non_latinas_interviews_full ***\n",
      "- Dataframe description:\n",
      "        global_spirit_rating  education  ethnicity       race        age\n",
      "count             17.000000  17.000000       17.0  17.000000  17.000000\n",
      "mean               4.127451   5.529412        1.0   4.764706  60.075372\n",
      "std                0.599101   0.799816        0.0   0.664211   9.334002\n",
      "min                3.000000   4.000000        1.0   3.000000  45.122520\n",
      "25%                3.666667   5.000000        1.0   5.000000  52.136894\n",
      "50%                4.000000   6.000000        1.0   5.000000  62.861053\n",
      "75%                4.666667   6.000000        1.0   5.000000  65.859001\n",
      "max                5.000000   6.000000        1.0   5.000000  78.283371\n",
      "\n",
      "- No. of enries in your DataFrame: 17\n",
      "- No. of different MITI modified scores: 9,  Global scores: [3.0, 3.3333332538604736, 3.6666667461395264, 4.0, 4.2, 4.3, 4.333333492279053, 4.666666507720947, 5.0]\n",
      "- No. of different education backgrounds: 3,  Education backgrounds: [4.0, 5.0, 6.0]\n",
      "- No. of different ages: 17,  Ages range: 45.122520446777344... 78.28337097167969\n",
      "- No. of different races: 2,  Races: [3.0, 5.0]\n"
     ]
    }
   ],
   "source": [
    "# Put everything together\n",
    "sampled_non_latinas_interviews_no_pilot = pd.concat([stratified_high_scores, stratified_low_scores,\n",
    "                                             stratified_intermediate_scores]).drop_duplicates(keep='first')\n",
    "\n",
    "\n",
    "sampled_non_latinas_interviews_full = pd.concat([sampled_non_latinas_interviews_no_pilot,\n",
    "                                                 non_Latinas_in_pilot]).drop_duplicates(keep='first')\n",
    "\n",
    "\n",
    "print_description(sampled_non_latinas_interviews_full, \"sampled_non_latinas_interviews_full\",\n",
    "                  verbose=True,\n",
    "                  test=True)"
   ]
  },
  {
   "cell_type": "code",
   "execution_count": 31,
   "id": "4ec5c303",
   "metadata": {},
   "outputs": [
    {
     "data": {
      "image/png": "[encoded data removed]",
      "text/plain": [
       "<Figure size 576x288 with 1 Axes>"
      ]
     },
     "metadata": {
      "needs_background": "light"
     },
     "output_type": "display_data"
    },
    {
     "data": {
      "image/png": "[encoded data removed]",
      "text/plain": [
       "<Figure size 576x288 with 1 Axes>"
      ]
     },
     "metadata": {
      "needs_background": "light"
     },
     "output_type": "display_data"
    },
    {
     "data": {
      "image/png": "[encoded data removed]",
      "text/plain": [
       "<Figure size 576x288 with 1 Axes>"
      ]
     },
     "metadata": {
      "needs_background": "light"
     },
     "output_type": "display_data"
    },
    {
     "data": {
      "image/png": "[encoded data removed]",
      "text/plain": [
       "<Figure size 576x288 with 1 Axes>"
      ]
     },
     "metadata": {
      "needs_background": "light"
     },
     "output_type": "display_data"
    }
   ],
   "source": [
    "plot_global_education_age(sampled_non_latinas_interviews_full, \"Sampled non-Latina interviews\")"
   ]
  },
  {
   "cell_type": "markdown",
   "id": "7c75eabb",
   "metadata": {},
   "source": [
    "**English-speaking Latina pool of interviews: plots and sampling by global rating**"
   ]
  },
  {
   "cell_type": "code",
   "execution_count": 32,
   "id": "89e622b4",
   "metadata": {},
   "outputs": [
    {
     "name": "stdout",
     "output_type": "stream",
     "text": [
      "\n",
      "\n",
      "*** Pool of English-speaking Latina interviews ***\n",
      "- Dataframe description:\n",
      "        global_spirit_rating   education  ethnicity        race         age\n",
      "count            282.000000  273.000000      273.0  273.000000  277.000000\n",
      "mean               4.147754    5.527473        1.0    4.750916   59.420099\n",
      "std                0.260480    0.696747        0.0    0.740286   14.038237\n",
      "min                3.000000    3.000000        1.0    2.000000   33.051334\n",
      "25%                4.000000    5.000000        1.0    5.000000   51.348392\n",
      "50%                4.000000    6.000000        1.0    5.000000   58.151951\n",
      "75%                4.333333    6.000000        1.0    5.000000   65.278580\n",
      "max                5.000000    6.000000        1.0    5.000000  148.900757\n",
      "\n",
      "- No. of enries in your DataFrame: 282\n",
      "- No. of different MITI modified scores: 7,  Global scores: [3.0, 3.3333332538604736, 3.6666667461395264, 4.0, 4.333333492279053, 4.666666507720947, 5.0]\n",
      "- No. of different education backgrounds: 4,  Education backgrounds: [3.0, 4.0, 5.0, 6.0]\n",
      "- No. of different ages: 142,  Ages range: 33.051334381103516... 74.56810760498047\n",
      "- No. of different races: 3,  Races: [2.0, 3.0, 5.0]\n"
     ]
    },
    {
     "data": {
      "image/png": "[encoded data removed]",
      "text/plain": [
       "<Figure size 576x288 with 1 Axes>"
      ]
     },
     "metadata": {
      "needs_background": "light"
     },
     "output_type": "display_data"
    }
   ],
   "source": [
    "# Let's look at the full set of interviews. \n",
    "\n",
    "print_description(non_latinas_interviews_df, \"Pool of English-speaking Latina interviews\", verbose=True)\n",
    "# print(f\"The English-speaking Latinas pool contains n={len(latinas_en_interviews_df)} interviews. This is the description:\\n\")\n",
    "\n",
    "latinas_en_interviews_df_sorted = latinas_en_interviews_df.sort_values('global_spirit_rating')\n",
    "_ = plt.figure(figsize=(8,4))\n",
    "_ = plt.hist(latinas_en_interviews_df_sorted['global_spirit_rating'])\n",
    "_ = plt.xlabel('modified global score (max = 5)')\n",
    "_ = plt.ylabel('number of interviews')\n",
    "_ = plt.title(f\"Pool of English-speaking Latina interviews by modified global scores\")\n",
    "plt.show()"
   ]
  },
  {
   "cell_type": "code",
   "execution_count": 33,
   "id": "9ef2c9fa",
   "metadata": {},
   "outputs": [],
   "source": [
    "# Get the lowest and highest global spirit ratings based on mean and standard dev\n",
    "global_rating_mean = latinas_en_interviews_df['global_spirit_rating'].mean()\n",
    "global_rating_std = latinas_en_interviews_df['global_spirit_rating'].std()\n",
    "\n",
    "high_scores = latinas_en_interviews_df[latinas_en_interviews_df[\"global_spirit_rating\"]\\\n",
    "                              > (global_rating_mean + global_rating_std)]\n",
    "\n",
    "\n",
    "low_scores = latinas_en_interviews_df[latinas_en_interviews_df[\"global_spirit_rating\"]\\\n",
    "                              < (global_rating_mean - global_rating_std)]\n",
    "\n",
    "\n",
    "intermediate_scores = pd.concat([latinas_en_interviews_df,\n",
    "                                 high_scores,\n",
    "                                 low_scores]).drop_duplicates(keep=False)\n",
    "\n",
    "# Check that we're not oversampling or undersampling\n",
    "assert len(pd.concat([latinas_en_interviews_df,\n",
    "                      high_scores,\n",
    "                      low_scores,\n",
    "                      intermediate_scores]).drop_duplicates(keep=False)) == 0"
   ]
  },
  {
   "cell_type": "code",
   "execution_count": 34,
   "id": "72f45aba",
   "metadata": {},
   "outputs": [
    {
     "name": "stdout",
     "output_type": "stream",
     "text": [
      "\n",
      "\n",
      "*** High-scored non_Latina interviews ***\n",
      "\n",
      "- No. of enries in your DataFrame: 3\n",
      "- No. of different MITI modified scores: 1,  Global scores: [4.333333492279053]\n",
      "- No. of different education backgrounds: 2,  Education backgrounds: [5.0, 6.0]\n",
      "- No. of different ages: 3,  Ages range: 42.877479553222656... 59.81930160522461\n",
      "- No. of different races: 1,  Races: [5.0]\n",
      "\n",
      "\n",
      "*** Intermediate-scored non_Latina interviews ***\n",
      "\n",
      "- No. of enries in your DataFrame: 17\n",
      "- No. of different MITI modified scores: 1,  Global scores: [4.0]\n",
      "- No. of different education backgrounds: 3,  Education backgrounds: [4.0, 5.0, 6.0]\n",
      "- No. of different ages: 15,  Ages range: 33.15263366699219... 67.32101440429688\n",
      "- No. of different races: 4,  Races: [3.0, 4.0, 5.0, 6.0]\n",
      "\n",
      "\n",
      "*** Low-scored non_Latina interviews ***\n",
      "\n",
      "- No. of enries in your DataFrame: 2\n",
      "- No. of different MITI modified scores: 1,  Global scores: [3.6666667461395264]\n",
      "- No. of different education backgrounds: 2,  Education backgrounds: [5.0, 6.0]\n",
      "- No. of different ages: 2,  Ages range: 42.877479553222656... 58.12457275390625\n",
      "- No. of different races: 2,  Races: [4.0, 5.0]\n"
     ]
    }
   ],
   "source": [
    "# Describe the datasets\n",
    "print_description(high_scores, \"High-scored non_Latina interviews\")\n",
    "print_description(intermediate_scores, \"Intermediate-scored non_Latina interviews\")\n",
    "print_description(low_scores, \"Low-scored non_Latina interviews\")"
   ]
  },
  {
   "cell_type": "code",
   "execution_count": 35,
   "id": "c632d04c",
   "metadata": {},
   "outputs": [
    {
     "name": "stdout",
     "output_type": "stream",
     "text": [
      "\n",
      "\n",
      "*** English-speaking Latinas' interviews in pilot ***\n",
      "    global_spirit_rating                        interview_ID           sid  \\\n",
      "0                   2.6  RE1f175cf47d8bc64eba9b21aaec028e44  202-0225-001   \n",
      "3                   4.7  RE2b76dfe070a66d596af4667972c58d86  852-0225-005   \n",
      "\n",
      "   education  ethnicity  race        age  \n",
      "0        6.0        2.0   5.0  49.905544  \n",
      "3        5.0        2.0   5.0  71.162216  \n"
     ]
    }
   ],
   "source": [
    "# Since there are so few interviews, we can get away with only stratified random sampling for intermediate scores.\n",
    "# Let's first try and see what we had from the pilot:\n",
    "\n",
    "# Look at the English-speaking Latina interviews we have in the pilot so that we can balance the sample\n",
    "std_pilot_columns = ['global_spirit_rating', 'interview_ID', 'sid', 'education', 'ethnicity', 'race', 'age']\n",
    "en_speaking_Latinas_in_pilot = pilot_full_df_en[pilot_full_df_en['ethnicity'] == 2]\n",
    "\n",
    "# Rename colums to match our other other dataframes\n",
    "en_speaking_Latinas_in_pilot.columns = std_pilot_columns\n",
    "\n",
    "print(\"\\n\\n*** English-speaking Latinas' interviews in pilot ***\\n\",\n",
    "      en_speaking_Latinas_in_pilot)  # education 6 and race 5, scores [4.2, 4.3]"
   ]
  },
  {
   "cell_type": "code",
   "execution_count": 36,
   "id": "3e256cef",
   "metadata": {},
   "outputs": [
    {
     "name": "stdout",
     "output_type": "stream",
     "text": [
      "\n",
      "\n",
      "*** Intermediate-scored non_Latina interviews ***\n",
      "\n",
      "- No. of enries in your DataFrame: 11\n",
      "- No. of different MITI modified scores: 1,  Global scores: [4.0]\n",
      "- No. of different education backgrounds: 3,  Education backgrounds: [4.0, 5.0, 6.0]\n",
      "- No. of different ages: 11,  Ages range: 33.15263366699219... 67.32101440429688\n",
      "- No. of different races: 4,  Races: [3.0, 4.0, 5.0, 6.0]\n"
     ]
    }
   ],
   "source": [
    "# So this is what we have so far:\n",
    "# 3 High-scored from the interview pool\n",
    "# 2 Low-scored from the interview pool\n",
    "# 1 Low-scored from the pilot\n",
    "# 1 Intermediate-scored from the pilot\n",
    "# We'll need 10 more interviews to match the 17 non-Latina interviews for the English interview pool\n",
    "\n",
    "# Stratified random sampling based on https://www.statology.org/stratified-sampling-pandas/\n",
    "sample_size = 10\n",
    "\n",
    "# I am not sure how to apply the new seeding method so I have this\n",
    "np.random.seed(35)\n",
    "\n",
    "stratified_intermediate_scores = intermediate_scores.groupby(['global_spirit_rating','education','race'], group_keys=False)\\\n",
    ".apply(lambda x: x.sample(int(np.rint(sample_size*len(x)/len(intermediate_scores)))))\\\n",
    ".sample(frac=1).reset_index(drop=True)\n",
    "\n",
    "print_description(stratified_intermediate_scores, \"Intermediate-scored non_Latina interviews\")"
   ]
  },
  {
   "cell_type": "code",
   "execution_count": 37,
   "id": "52c55206",
   "metadata": {},
   "outputs": [
    {
     "name": "stdout",
     "output_type": "stream",
     "text": [
      "\n",
      "\n",
      "*** sampled_en_latinas_interviews_no_pilot ***\n",
      "- Dataframe description:\n",
      "        global_spirit_rating  ethnicity       race        age\n",
      "count              18.00000       18.0  18.000000  18.000000\n",
      "mean                3.97963        2.0   4.944444  52.368545\n",
      "std                 0.41995        0.0   0.725358   9.728300\n",
      "min                 2.60000        2.0   3.000000  33.152634\n",
      "25%                 4.00000        2.0   5.000000  45.394249\n",
      "50%                 4.00000        2.0   5.000000  50.372349\n",
      "75%                 4.00000        2.0   5.000000  58.124573\n",
      "max                 4.70000        2.0   6.000000  71.162216\n",
      "\n",
      "- No. of enries in your DataFrame: 18\n",
      "- No. of different MITI modified scores: 5,  Global scores: [2.6, 3.6666667461395264, 4.0, 4.333333492279053, 4.7]\n",
      "- No. of different education backgrounds: 3,  Education backgrounds: [4.0, 5.0, 6.0]\n",
      "- No. of different ages: 16,  Ages range: 33.15263366699219... 71.16221618652344\n",
      "- No. of different races: 4,  Races: [3.0, 4.0, 5.0, 6.0]\n",
      "- >>> The following participant IDs repeat in your sample: *** ['022-0225-002', '022-0225-006', '078-0225-002', '080-0225-002', '107-0225-012', '124-0225-001', '141-0225-009', '156-0225-003', '202-0225-001', '259-0225-013', '811-0225-011', '814-0225-014', '834-0225-001', '838-0225-001', '852-0225-005', '854-0225-005']\n"
     ]
    }
   ],
   "source": [
    "# Put everything together\n",
    "sampled_en_latinas_interviews_no_pilot = pd.concat([high_scores, low_scores,\n",
    "                                             stratified_intermediate_scores]).drop_duplicates(keep='first')\n",
    "\n",
    "\n",
    "sampled_en_latinas_interviews_full = pd.concat([sampled_en_latinas_interviews_no_pilot,\n",
    "                                                 en_speaking_Latinas_in_pilot]).drop_duplicates(keep='first')\n",
    "\n",
    "\n",
    "print_description(sampled_en_latinas_interviews_full, \"sampled_en_latinas_interviews_no_pilot\",\n",
    "                  verbose=True,\n",
    "                  test=True)"
   ]
  },
  {
   "cell_type": "code",
   "execution_count": 38,
   "id": "2b277461",
   "metadata": {},
   "outputs": [
    {
     "data": {
      "image/png": "[encoded data removed]",
      "text/plain": [
       "<Figure size 576x288 with 1 Axes>"
      ]
     },
     "metadata": {
      "needs_background": "light"
     },
     "output_type": "display_data"
    },
    {
     "data": {
      "image/png": "[encoded data removed]",
      "text/plain": [
       "<Figure size 576x288 with 1 Axes>"
      ]
     },
     "metadata": {
      "needs_background": "light"
     },
     "output_type": "display_data"
    },
    {
     "data": {
      "image/png": "[encoded data removed]",
      "text/plain": [
       "<Figure size 576x288 with 1 Axes>"
      ]
     },
     "metadata": {
      "needs_background": "light"
     },
     "output_type": "display_data"
    },
    {
     "data": {
      "image/png": "[encoded data removed]",
      "text/plain": [
       "<Figure size 576x288 with 1 Axes>"
      ]
     },
     "metadata": {
      "needs_background": "light"
     },
     "output_type": "display_data"
    }
   ],
   "source": [
    "plot_global_education_age(sampled_en_latinas_interviews_full, \"Sampled English-speaking Latina interviews\")"
   ]
  },
  {
   "cell_type": "markdown",
   "id": "285ed979",
   "metadata": {},
   "source": [
    "**Create English-speaking interview sample for annotation**"
   ]
  },
  {
   "cell_type": "code",
   "execution_count": 39,
   "id": "9f6a4911",
   "metadata": {},
   "outputs": [
    {
     "name": "stdout",
     "output_type": "stream",
     "text": [
      "\n",
      "*** Number of sampled English (Lat and non-Lat) interviews: 35 ***\n",
      "\n",
      "\n",
      "*** Full English interview sample for annotation ***\n",
      "- Dataframe description:\n",
      "        global_spirit_rating  ethnicity       race        age\n",
      "count             35.000000  35.000000  35.000000  35.000000\n",
      "mean               4.051429   1.514286   4.857143  56.111861\n",
      "std                0.512545   0.507093   0.692092  10.178030\n",
      "min                2.600000   1.000000   3.000000  33.152634\n",
      "25%                3.833333   1.000000   5.000000  49.375771\n",
      "50%                4.000000   2.000000   5.000000  54.576317\n",
      "75%                4.333333   2.000000   5.000000  63.693359\n",
      "max                5.000000   2.000000   6.000000  78.283371\n",
      "\n",
      "- No. of enries in your DataFrame: 35\n",
      "- No. of different MITI modified scores: 11,  Global scores: [2.6, 3.0, 3.3333332538604736, 3.6666667461395264, 4.0, 4.2, 4.3, 4.333333492279053, 4.666666507720947, 4.7, 5.0]\n",
      "- No. of different education backgrounds: 3,  Education backgrounds: [4.0, 5.0, 6.0]\n",
      "- No. of different ages: 33,  Ages range: 33.15263366699219... 78.28337097167969\n",
      "- No. of different races: 4,  Races: [3.0, 4.0, 5.0, 6.0]\n",
      "- >>> The following participant IDs repeat in your sample: *** ['022-0225-002', '022-0225-006', '023-0225-009', '060-0225-004', '076-0225-038', '078-0225-002', '080-0225-002', '083-0225-064', '084-0225-023', '107-0225-012', '107-0225-031', '122-0225-002', '124-0225-001', '141-0225-009', '154-0225-006', '156-0225-003', '174-0225-010', '193-0225-007', '202-0225-001', '259-0225-011', '259-0225-013', '811-0225-011', '814-0225-014', '816-0225-005', '821-0225-009', '834-0225-001', '838-0225-001', '838-0225-008', '852-0225-005', '853-0225-014', '854-0225-004', '854-0225-005', '866-0225-015']\n"
     ]
    }
   ],
   "source": [
    "# Concatenate English-speaking Latinas and non-Latina participants and show distributions\n",
    "english_interview_sample_for_annotation = pd.concat([sampled_non_latinas_interviews_full,\n",
    "                                                    sampled_en_latinas_interviews_full,])\n",
    "\n",
    "print(f\"\\n*** Number of sampled English (Lat and non-Lat) interviews: {len(english_interview_sample_for_annotation)} ***\")\n",
    "\n",
    "print_description(english_interview_sample_for_annotation, \"Full English interview sample for annotation\",\n",
    "                  verbose=True,\n",
    "                  test=True)"
   ]
  },
  {
   "cell_type": "code",
   "execution_count": 40,
   "id": "61c4e805",
   "metadata": {},
   "outputs": [
    {
     "data": {
      "image/png": "[encoded data removed]",
      "text/plain": [
       "<Figure size 576x288 with 1 Axes>"
      ]
     },
     "metadata": {
      "needs_background": "light"
     },
     "output_type": "display_data"
    },
    {
     "data": {
      "image/png": "[encoded data removed]",
      "text/plain": [
       "<Figure size 576x288 with 1 Axes>"
      ]
     },
     "metadata": {
      "needs_background": "light"
     },
     "output_type": "display_data"
    },
    {
     "data": {
      "image/png": "[encoded data removed]",
      "text/plain": [
       "<Figure size 576x288 with 1 Axes>"
      ]
     },
     "metadata": {
      "needs_background": "light"
     },
     "output_type": "display_data"
    },
    {
     "data": {
      "image/png": "[encoded data removed]",
      "text/plain": [
       "<Figure size 576x288 with 1 Axes>"
      ]
     },
     "metadata": {
      "needs_background": "light"
     },
     "output_type": "display_data"
    }
   ],
   "source": [
    "plot_global_education_age(english_interview_sample_for_annotation, \"Full English interview sample for annotation\")"
   ]
  },
  {
   "cell_type": "code",
   "execution_count": 41,
   "id": "565d6675",
   "metadata": {},
   "outputs": [
    {
     "data": {
      "image/png": "[encoded data removed]",
      "text/plain": [
       "<Figure size 576x288 with 1 Axes>"
      ]
     },
     "metadata": {
      "needs_background": "light"
     },
     "output_type": "display_data"
    }
   ],
   "source": [
    "english_interview_sample_for_annotation_sorted = english_interview_sample_for_annotation.sort_values('global_spirit_rating')\n",
    "\n",
    "# Distribution of Latinas and non-Latinas in the sampled dataset\n",
    "lat = english_interview_sample_for_annotation_sorted\\\n",
    "      [english_interview_sample_for_annotation_sorted['ethnicity'] == 2]\n",
    "\n",
    "non_lat = english_interview_sample_for_annotation_sorted\\\n",
    "          [english_interview_sample_for_annotation_sorted['ethnicity'] == 1]\n",
    "\n",
    "_ = plt.figure(figsize=(8,4))\n",
    "_ = plt.hist(lat['global_spirit_rating'], alpha=0.4, color='red')\n",
    "_ = plt.hist(non_lat['global_spirit_rating'], alpha=0.4)\n",
    "_ = plt.xlabel('modified global score (max = 5)')\n",
    "_ = plt.ylabel('number of interviews')\n",
    "_ = plt.title(f\"Sampled English-speaking participants by modified global scores\")\n",
    "plt.legend([f\"Latinas (n={len(lat.index)})\", f\"Non-Latinas (n={len(non_lat.index)})\"])\n",
    "plt.show()"
   ]
  },
  {
   "cell_type": "markdown",
   "id": "4b2f9a61",
   "metadata": {},
   "source": [
    "## VI. Sampling the Spanish dataset by global rating\n",
    "\n",
    "Total sampled English calls should be (n=30) plus the ones we already sampled from the pilot (3):\n",
    "- We want at least 5 to be from the same participant for a case study (Alexandra still needs to tell me who this is)\n",
    "- 35 interviews x 2 annotators | 1 week x annotator = 18 weeks: Nov - May (taking into account holidays etc)\n",
    "- Sample the first half with non-Latinas' interviews and second half with English-speaking Latinas' interviews"
   ]
  },
  {
   "cell_type": "code",
   "execution_count": 42,
   "id": "34b78d77",
   "metadata": {},
   "outputs": [
    {
     "name": "stdout",
     "output_type": "stream",
     "text": [
      "\n",
      "\n",
      "*** Spanish-speaking Latina participant pool ***\n",
      "- Dataframe description:\n",
      "        education  ethnicity      race        age    # calls\n",
      "count  10.000000       10.0  10.00000  10.000000  10.000000\n",
      "mean    2.600000        2.0   4.80000  54.436140  18.200000\n",
      "std     1.712698        0.0   1.75119   9.426445  12.299955\n",
      "min     0.000000        2.0   0.00000  41.040382   3.000000\n",
      "25%     2.000000        2.0   5.00000  47.988364   6.000000\n",
      "50%     2.500000        2.0   5.00000  52.391512  18.000000\n",
      "75%     4.000000        2.0   5.75000  61.250514  30.500000\n",
      "max     5.000000        2.0   6.00000  68.490074  33.000000\n",
      "\n",
      "- No. of enries in your DataFrame: 10\n",
      "- No. of different education backgrounds: 5,  Education backgrounds: [0, 2, 3, 4, 5]\n",
      "- No. of different ages: 10,  Ages range: 41.040382385253906... 68.49007415771484\n",
      "- No. of different races: 3,  Races: [0.0, 5.0, 6.0]\n"
     ]
    }
   ],
   "source": [
    "# Let's look at the full set of participants \n",
    "# Remember this time we won't have interview information\n",
    "\n",
    "# The education column is a mix of types. We need to change that\n",
    "education_replace = []\n",
    "for x in list(latinas_es_df['education']):\n",
    "    if isinstance(x, str):\n",
    "        education_replace.append(0) # Zero will mean \"no education background\"\n",
    "    elif isinstance(x, int):\n",
    "        education_replace.append(x)\n",
    "\n",
    "latinas_es_df['education'] = education_replace\n",
    "\n",
    "race_replace = []\n",
    "\n",
    "# The race column contains NaN values. We need to change that\n",
    "import math\n",
    "race_replace = []\n",
    "for x in list(latinas_es_df['race']):\n",
    "    if math.isnan(x):\n",
    "        race_replace.append(0) # Zero will mean \"no education background\"\n",
    "    else:\n",
    "        race_replace.append(x)\n",
    "\n",
    "latinas_es_df['race'] = race_replace\n",
    "\n",
    "\n",
    "# latinas_es_df['education'] = [str(x) for x in list(latinas_es_df['education'])]\n",
    "print_description(latinas_es_df, \"Spanish-speaking Latina participant pool\", verbose=True, global_rates=False)"
   ]
  },
  {
   "cell_type": "code",
   "execution_count": 43,
   "id": "b7823b83",
   "metadata": {},
   "outputs": [
    {
     "data": {
      "image/png": "[encoded data removed]",
      "text/plain": [
       "<Figure size 576x288 with 1 Axes>"
      ]
     },
     "metadata": {
      "needs_background": "light"
     },
     "output_type": "display_data"
    },
    {
     "data": {
      "image/png": "[encoded data removed]",
      "text/plain": [
       "<Figure size 576x288 with 1 Axes>"
      ]
     },
     "metadata": {
      "needs_background": "light"
     },
     "output_type": "display_data"
    },
    {
     "data": {
      "image/png": "[encoded data removed]",
      "text/plain": [
       "<Figure size 576x288 with 1 Axes>"
      ]
     },
     "metadata": {
      "needs_background": "light"
     },
     "output_type": "display_data"
    }
   ],
   "source": [
    "plot_global_education_age(latinas_es_df, \"Spanish-speaking Latina participant pool\", global_rates=False)"
   ]
  },
  {
   "cell_type": "code",
   "execution_count": 44,
   "id": "3255c1e2",
   "metadata": {},
   "outputs": [],
   "source": [
    "# In order to sample calls from this participant pool, we'll extend this dataframe\n",
    "# Using the '# calls' column, then randomize from there based on call number SID_callNo\n",
    "\n",
    "sid = latinas_es_df['sid']\n",
    "edu = latinas_es_df['education']\n",
    "age = latinas_es_df['age']\n",
    "ethnicity = latinas_es_df['ethnicity']\n",
    "race = latinas_es_df['race']\n",
    "age = latinas_es_df['age']\n",
    "\n",
    "my_dict = {'sid':[],'education':[],'age':[], 'interview_ID':[],\n",
    "           'ethnicity':[],'race':[]}\n",
    "\n",
    "for i,j in enumerate(latinas_es_df['# calls']):\n",
    "    for n in range(int(j)):\n",
    "        # print(sid.iloc[i], f\"call_no_{n+1}\", edu.iloc[i], age.iloc[i])\n",
    "\n",
    "        my_dict['sid'].append(sid.iloc[i])\n",
    "        my_dict['education'].append(edu.iloc[i])\n",
    "        my_dict['interview_ID'].append(f\"call_no_{n+1}\") # We made these up to extend the dataset\n",
    "        my_dict['ethnicity'].append(ethnicity.iloc[i])\n",
    "        my_dict['race'].append(race.iloc[i])\n",
    "        my_dict['age'].append(age.iloc[i])\n",
    "\n",
    "# latinas_es_df.groupby(['# calls','sid']).count()\n",
    "extended_latinas_es_df = pd.DataFrame(my_dict)"
   ]
  },
  {
   "cell_type": "code",
   "execution_count": 45,
   "id": "e75ca466",
   "metadata": {},
   "outputs": [
    {
     "name": "stdout",
     "output_type": "stream",
     "text": [
      "\n",
      "\n",
      "*** Full Spanish interview sample for annotation ***\n",
      "- Dataframe description:\n",
      "         education         age  ethnicity        race\n",
      "count  182.000000  182.000000      182.0  182.000000\n",
      "mean     2.230769   54.766463        2.0    5.082418\n",
      "std      1.615374    9.148686        0.0    0.951195\n",
      "min      0.000000   41.040382        2.0    0.000000\n",
      "25%      0.000000   50.540726        2.0    5.000000\n",
      "50%      2.000000   53.106091        2.0    5.000000\n",
      "75%      4.000000   61.273102        2.0    5.000000\n",
      "max      5.000000   68.490074        2.0    6.000000\n",
      "\n",
      "- No. of enries in your DataFrame: 182\n",
      "- No. of different education backgrounds: 5,  Education backgrounds: [0, 2, 3, 4, 5]\n",
      "- No. of different ages: 10,  Ages range: 41.040382385253906... 68.49007415771484\n",
      "- No. of different races: 3,  Races: [0.0, 5.0, 6.0]\n"
     ]
    }
   ],
   "source": [
    "print_description(extended_latinas_es_df, \"Full Spanish interview sample for annotation\",\n",
    "                  verbose=True, global_rates=False)"
   ]
  },
  {
   "cell_type": "code",
   "execution_count": 46,
   "id": "a4887dd9",
   "metadata": {},
   "outputs": [
    {
     "name": "stdout",
     "output_type": "stream",
     "text": [
      "\n",
      "\n",
      "*** Full Spanish interview sample for annotation ***\n",
      "- Dataframe description:\n",
      "        education        age  ethnicity       race\n",
      "count  30.000000  30.000000       30.0  30.000000\n",
      "mean    2.600000  54.436140        2.0   4.800000\n",
      "std     1.652584   9.095588        0.0   1.689726\n",
      "min     0.000000  41.040382        2.0   0.000000\n",
      "25%     2.000000  47.137577        2.0   5.000000\n",
      "50%     2.500000  52.391512        2.0   5.000000\n",
      "75%     4.000000  61.273102        2.0   6.000000\n",
      "max     5.000000  68.490074        2.0   6.000000\n",
      "\n",
      "- No. of enries in your DataFrame: 30\n",
      "- No. of different education backgrounds: 5,  Education backgrounds: [0, 2, 3, 4, 5]\n",
      "- No. of different ages: 10,  Ages range: 41.040382385253906... 68.49007415771484\n",
      "- No. of different races: 3,  Races: [0.0, 5.0, 6.0]\n"
     ]
    }
   ],
   "source": [
    "# Now we can perform stratified random sampling by education, race, and age.\n",
    "# We'll eave it at 30 to later add the extra interviews for the case study\n",
    "\n",
    "# Stratified random sampling based on https://www.statology.org/stratified-sampling-pandas/\n",
    "sample_size = 30\n",
    "\n",
    "# I am not sure how to apply the new seeding method so I have this\n",
    "np.random.seed(35)\n",
    "\n",
    "stratified_latinas_es_df = extended_latinas_es_df.groupby(['education','race', 'age'],\n",
    "                                                          group_keys=False).apply(lambda x: x.sample(3))\n",
    "\n",
    "\n",
    "print_description(stratified_latinas_es_df, \"Full Spanish interview sample for annotation\",\n",
    "                  verbose=True, global_rates=False)"
   ]
  },
  {
   "cell_type": "code",
   "execution_count": 47,
   "id": "e583ff83",
   "metadata": {},
   "outputs": [
    {
     "name": "stdout",
     "output_type": "stream",
     "text": [
      "nan\n",
      "\n",
      "\n",
      "*** Full Spanish interview sample for annotation ***\n",
      "- Dataframe description:\n",
      "        ethnicity       race        age\n",
      "count       33.0  33.000000  33.000000\n",
      "mean         2.0   4.727273  54.453944\n",
      "std          0.0   1.841751   9.217717\n",
      "min          2.0   0.000000  41.040382\n",
      "25%          2.0   5.000000  47.137577\n",
      "50%          2.0   5.000000  51.676933\n",
      "75%          2.0   6.000000  61.273102\n",
      "max          2.0   6.000000  68.490074\n",
      "\n",
      "- No. of enries in your DataFrame: 33\n",
      "- No. of different education backgrounds: 5,  Education backgrounds: [0, 2, 3, 4, 5]\n",
      "- No. of different ages: 10,  Ages range: 41.040382385253906... 68.49007415771484\n",
      "- No. of different races: 3,  Races: [0.0, 5.0, 6.0]\n"
     ]
    }
   ],
   "source": [
    "# Concatenate this with the Spanish pilot interviews\n",
    "stratified_latinas_es_df\n",
    "\n",
    "\n",
    "# Drop the global score column\n",
    "spanish_interview_sample_for_annotation = pd.concat([pilot_full_df_es.drop(['modified_global_score'], axis=1),\n",
    "                                           stratified_latinas_es_df])#.loc[1:,columns]\n",
    "\n",
    "\n",
    "# The race column contains NaN values. We need to change that\n",
    "import math\n",
    "race_replace = []\n",
    "for x in list(spanish_interview_sample_for_annotation['race']):\n",
    "    if math.isnan(x):\n",
    "        print (x)\n",
    "        race_replace.append(0) # Zero will mean \"no education background\"\n",
    "    else:\n",
    "        race_replace.append(x)\n",
    "\n",
    "spanish_interview_sample_for_annotation['race'] = race_replace\n",
    "\n",
    "\n",
    "print_description(spanish_interview_sample_for_annotation, \n",
    "                  \"Full Spanish interview sample for annotation\", verbose=True, global_rates=False)"
   ]
  },
  {
   "cell_type": "code",
   "execution_count": 48,
   "id": "44c292b6",
   "metadata": {},
   "outputs": [
    {
     "name": "stdout",
     "output_type": "stream",
     "text": [
      "Repetition check of Spanish-speaking latnas:\n",
      "177-0225-001    4\n",
      "022-0225-015    4\n",
      "078-0225-004    4\n",
      "177-0225-007    3\n",
      "817-0225-002    3\n",
      "037-0225-003    3\n",
      "141-0225-007    3\n",
      "259-0225-016    3\n",
      "177-0225-002    3\n",
      "011-0225-006    3\n",
      "Name: sid, dtype: int64\n"
     ]
    }
   ],
   "source": [
    "# There are several participant IDs repeated (as expected)\n",
    "# Check that there are not too many of one single participant.\n",
    "sanity_check_spanish_ids = spanish_interview_sample_for_annotation['sid'].value_counts()\n",
    "\n",
    "print(f\"Repetition check of Spanish-speaking latnas:\\n{sanity_check_spanish_ids}\")"
   ]
  },
  {
   "cell_type": "code",
   "execution_count": 49,
   "id": "6d62fa60",
   "metadata": {},
   "outputs": [
    {
     "data": {
      "image/png": "[encoded data removed]",
      "text/plain": [
       "<Figure size 576x288 with 1 Axes>"
      ]
     },
     "metadata": {
      "needs_background": "light"
     },
     "output_type": "display_data"
    },
    {
     "data": {
      "image/png": "[encoded data removed]",
      "text/plain": [
       "<Figure size 576x288 with 1 Axes>"
      ]
     },
     "metadata": {
      "needs_background": "light"
     },
     "output_type": "display_data"
    },
    {
     "data": {
      "image/png": "[encoded data removed]",
      "text/plain": [
       "<Figure size 576x288 with 1 Axes>"
      ]
     },
     "metadata": {
      "needs_background": "light"
     },
     "output_type": "display_data"
    }
   ],
   "source": [
    "plot_global_education_age(spanish_interview_sample_for_annotation,\n",
    "                          \"Full Spanish interview sample for annotation\", global_rates=False)"
   ]
  },
  {
   "cell_type": "markdown",
   "id": "41d1f461",
   "metadata": {},
   "source": [
    "## VI. Compare each sample with the general distribution (by ethnicity)"
   ]
  },
  {
   "cell_type": "code",
   "execution_count": 50,
   "id": "445d0c01",
   "metadata": {},
   "outputs": [],
   "source": [
    "# TODO, if/when needed"
   ]
  },
  {
   "cell_type": "markdown",
   "id": "8643b450",
   "metadata": {},
   "source": [
    "## Outputs"
   ]
  },
  {
   "cell_type": "code",
   "execution_count": 51,
   "id": "60f1b495",
   "metadata": {},
   "outputs": [],
   "source": [
    "spanish_interview_sample_for_annotation.to_csv('./output/spanish_interview_sample_for_annotation.csv', index=False)\n",
    "english_interview_sample_for_annotation.to_csv('./output/english_interview_sample_for_annotation.csv', index=False)  "
   ]
  }
 ],
 "metadata": {
  "kernelspec": {
   "display_name": "Python 3 (ipykernel)",
   "language": "python",
   "name": "python3"
  },
  "language_info": {
   "codemirror_mode": {
    "name": "ipython",
    "version": 3
   },
   "file_extension": ".py",
   "mimetype": "text/x-python",
   "name": "python",
   "nbconvert_exporter": "python",
   "pygments_lexer": "ipython3",
   "version": "3.10.0"
  }
 },
 "nbformat": 4,
 "nbformat_minor": 5
}
