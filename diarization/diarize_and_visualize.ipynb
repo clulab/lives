{
 "cells": [
  {
   "cell_type": "code",
   "execution_count": 3,
   "metadata": {},
   "outputs": [],
   "source": [
    "from pyannote.core import notebook, Segment\n",
    "from pyannote.database.util import load_rttm\n",
    "from pyannote.audio import Model, Inference\n",
    "from pyannote.audio.pipelines.speaker_diarization import SpeakerDiarization\n",
    "from pyannote.metrics.diarization import DiarizationErrorRate\n",
    "from pyannote.audio import Pipeline"
   ]
  },
  {
   "cell_type": "code",
   "execution_count": 4,
   "metadata": {},
   "outputs": [],
   "source": [
    "from tqdm import tqdm as tqdm\n",
    "\n",
    "import pandas as pd\n",
    "import os, sys\n",
    "from pathlib import Path\n",
    "import logging"
   ]
  },
  {
   "cell_type": "markdown",
   "metadata": {},
   "source": [
    "## get rttm file with 'difference'"
   ]
  },
  {
   "cell_type": "code",
   "execution_count": 5,
   "metadata": {},
   "outputs": [],
   "source": [
    "FILENAME_DIR = \"/media/jculnan/backup/From LIVES folder/diarized_files/difference_rttms\"\n",
    "comparison = f\"{FILENAME_DIR}/RE2ae3a8526e6b62f71edfca298403456c_difference.rttm\""
   ]
  },
  {
   "cell_type": "code",
   "execution_count": 10,
   "metadata": {},
   "outputs": [
    {
     "data": {
      "text/html": [
       "<div>\n",
       "<style scoped>\n",
       "    .dataframe tbody tr th:only-of-type {\n",
       "        vertical-align: middle;\n",
       "    }\n",
       "\n",
       "    .dataframe tbody tr th {\n",
       "        vertical-align: top;\n",
       "    }\n",
       "\n",
       "    .dataframe thead th {\n",
       "        text-align: right;\n",
       "    }\n",
       "</style>\n",
       "<table border=\"1\" class=\"dataframe\">\n",
       "  <thead>\n",
       "    <tr style=\"text-align: right;\">\n",
       "      <th></th>\n",
       "      <th></th>\n",
       "      <th></th>\n",
       "      <th>ignore</th>\n",
       "      <th>file</th>\n",
       "      <th>na1</th>\n",
       "      <th>start_time</th>\n",
       "      <th>duration</th>\n",
       "      <th>na2</th>\n",
       "      <th>na3</th>\n",
       "      <th>key_info</th>\n",
       "      <th>na4</th>\n",
       "      <th>na5</th>\n",
       "    </tr>\n",
       "  </thead>\n",
       "  <tbody>\n",
       "    <tr>\n",
       "      <th rowspan=\"11\" valign=\"top\">SPEAKER</th>\n",
       "      <th rowspan=\"11\" valign=\"top\">RE2ae3a8526e6b62f71edfca298403456c</th>\n",
       "      <th>1</th>\n",
       "      <td>1.236</td>\n",
       "      <td>0.021</td>\n",
       "      <td>&lt;NA&gt;</td>\n",
       "      <td>&lt;NA&gt;</td>\n",
       "      <td>('missed</td>\n",
       "      <td>detection',</td>\n",
       "      <td>'SPEAKER_00',</td>\n",
       "      <td>None)</td>\n",
       "      <td>&lt;NA&gt;</td>\n",
       "      <td>&lt;NA&gt;</td>\n",
       "    </tr>\n",
       "    <tr>\n",
       "      <th>1</th>\n",
       "      <td>1.257</td>\n",
       "      <td>1.181</td>\n",
       "      <td>&lt;NA&gt;</td>\n",
       "      <td>&lt;NA&gt;</td>\n",
       "      <td>('correct',</td>\n",
       "      <td>'SPEAKER_00',</td>\n",
       "      <td>'SPEAKER_00')</td>\n",
       "      <td>&lt;NA&gt;</td>\n",
       "      <td>&lt;NA&gt;</td>\n",
       "      <td>NaN</td>\n",
       "    </tr>\n",
       "    <tr>\n",
       "      <th>1</th>\n",
       "      <td>2.438</td>\n",
       "      <td>0.026</td>\n",
       "      <td>&lt;NA&gt;</td>\n",
       "      <td>&lt;NA&gt;</td>\n",
       "      <td>('missed</td>\n",
       "      <td>detection',</td>\n",
       "      <td>'SPEAKER_00',</td>\n",
       "      <td>None)</td>\n",
       "      <td>&lt;NA&gt;</td>\n",
       "      <td>&lt;NA&gt;</td>\n",
       "    </tr>\n",
       "    <tr>\n",
       "      <th>1</th>\n",
       "      <td>2.964</td>\n",
       "      <td>0.149</td>\n",
       "      <td>&lt;NA&gt;</td>\n",
       "      <td>&lt;NA&gt;</td>\n",
       "      <td>('missed</td>\n",
       "      <td>detection',</td>\n",
       "      <td>'SPEAKER_01',</td>\n",
       "      <td>None)</td>\n",
       "      <td>&lt;NA&gt;</td>\n",
       "      <td>&lt;NA&gt;</td>\n",
       "    </tr>\n",
       "    <tr>\n",
       "      <th>1</th>\n",
       "      <td>3.113</td>\n",
       "      <td>2.076</td>\n",
       "      <td>&lt;NA&gt;</td>\n",
       "      <td>&lt;NA&gt;</td>\n",
       "      <td>('correct',</td>\n",
       "      <td>'SPEAKER_01',</td>\n",
       "      <td>'SPEAKER_01')</td>\n",
       "      <td>&lt;NA&gt;</td>\n",
       "      <td>&lt;NA&gt;</td>\n",
       "      <td>NaN</td>\n",
       "    </tr>\n",
       "    <tr>\n",
       "      <th>...</th>\n",
       "      <td>...</td>\n",
       "      <td>...</td>\n",
       "      <td>...</td>\n",
       "      <td>...</td>\n",
       "      <td>...</td>\n",
       "      <td>...</td>\n",
       "      <td>...</td>\n",
       "      <td>...</td>\n",
       "      <td>...</td>\n",
       "      <td>...</td>\n",
       "    </tr>\n",
       "    <tr>\n",
       "      <th>1</th>\n",
       "      <td>910.482</td>\n",
       "      <td>1.198</td>\n",
       "      <td>&lt;NA&gt;</td>\n",
       "      <td>&lt;NA&gt;</td>\n",
       "      <td>('false</td>\n",
       "      <td>alarm',</td>\n",
       "      <td>None,</td>\n",
       "      <td>'SPEAKER_00')</td>\n",
       "      <td>&lt;NA&gt;</td>\n",
       "      <td>&lt;NA&gt;</td>\n",
       "    </tr>\n",
       "    <tr>\n",
       "      <th>1</th>\n",
       "      <td>911.680</td>\n",
       "      <td>0.034</td>\n",
       "      <td>&lt;NA&gt;</td>\n",
       "      <td>&lt;NA&gt;</td>\n",
       "      <td>('false</td>\n",
       "      <td>alarm',</td>\n",
       "      <td>None,</td>\n",
       "      <td>'SPEAKER_00')</td>\n",
       "      <td>&lt;NA&gt;</td>\n",
       "      <td>&lt;NA&gt;</td>\n",
       "    </tr>\n",
       "    <tr>\n",
       "      <th>1</th>\n",
       "      <td>911.680</td>\n",
       "      <td>0.034</td>\n",
       "      <td>&lt;NA&gt;</td>\n",
       "      <td>&lt;NA&gt;</td>\n",
       "      <td>('false</td>\n",
       "      <td>alarm',</td>\n",
       "      <td>None,</td>\n",
       "      <td>'SPEAKER_01')</td>\n",
       "      <td>&lt;NA&gt;</td>\n",
       "      <td>&lt;NA&gt;</td>\n",
       "    </tr>\n",
       "    <tr>\n",
       "      <th>1</th>\n",
       "      <td>911.714</td>\n",
       "      <td>0.624</td>\n",
       "      <td>&lt;NA&gt;</td>\n",
       "      <td>&lt;NA&gt;</td>\n",
       "      <td>('false</td>\n",
       "      <td>alarm',</td>\n",
       "      <td>None,</td>\n",
       "      <td>'SPEAKER_01')</td>\n",
       "      <td>&lt;NA&gt;</td>\n",
       "      <td>&lt;NA&gt;</td>\n",
       "    </tr>\n",
       "    <tr>\n",
       "      <th>1</th>\n",
       "      <td>912.507</td>\n",
       "      <td>0.624</td>\n",
       "      <td>&lt;NA&gt;</td>\n",
       "      <td>&lt;NA&gt;</td>\n",
       "      <td>('false</td>\n",
       "      <td>alarm',</td>\n",
       "      <td>None,</td>\n",
       "      <td>'SPEAKER_00')</td>\n",
       "      <td>&lt;NA&gt;</td>\n",
       "      <td>&lt;NA&gt;</td>\n",
       "    </tr>\n",
       "  </tbody>\n",
       "</table>\n",
       "<p>656 rows × 10 columns</p>\n",
       "</div>"
      ],
      "text/plain": [
       "                                               ignore   file   na1 start_time  \\\n",
       "SPEAKER RE2ae3a8526e6b62f71edfca298403456c 1    1.236  0.021  <NA>       <NA>   \n",
       "                                           1    1.257  1.181  <NA>       <NA>   \n",
       "                                           1    2.438  0.026  <NA>       <NA>   \n",
       "                                           1    2.964  0.149  <NA>       <NA>   \n",
       "                                           1    3.113  2.076  <NA>       <NA>   \n",
       "...                                               ...    ...   ...        ...   \n",
       "                                           1  910.482  1.198  <NA>       <NA>   \n",
       "                                           1  911.680  0.034  <NA>       <NA>   \n",
       "                                           1  911.680  0.034  <NA>       <NA>   \n",
       "                                           1  911.714  0.624  <NA>       <NA>   \n",
       "                                           1  912.507  0.624  <NA>       <NA>   \n",
       "\n",
       "                                                 duration            na2  \\\n",
       "SPEAKER RE2ae3a8526e6b62f71edfca298403456c 1     ('missed    detection',   \n",
       "                                           1  ('correct',  'SPEAKER_00',   \n",
       "                                           1     ('missed    detection',   \n",
       "                                           1     ('missed    detection',   \n",
       "                                           1  ('correct',  'SPEAKER_01',   \n",
       "...                                                   ...            ...   \n",
       "                                           1      ('false        alarm',   \n",
       "                                           1      ('false        alarm',   \n",
       "                                           1      ('false        alarm',   \n",
       "                                           1      ('false        alarm',   \n",
       "                                           1      ('false        alarm',   \n",
       "\n",
       "                                                        na3       key_info  \\\n",
       "SPEAKER RE2ae3a8526e6b62f71edfca298403456c 1  'SPEAKER_00',          None)   \n",
       "                                           1  'SPEAKER_00')           <NA>   \n",
       "                                           1  'SPEAKER_00',          None)   \n",
       "                                           1  'SPEAKER_01',          None)   \n",
       "                                           1  'SPEAKER_01')           <NA>   \n",
       "...                                                     ...            ...   \n",
       "                                           1          None,  'SPEAKER_00')   \n",
       "                                           1          None,  'SPEAKER_00')   \n",
       "                                           1          None,  'SPEAKER_01')   \n",
       "                                           1          None,  'SPEAKER_01')   \n",
       "                                           1          None,  'SPEAKER_00')   \n",
       "\n",
       "                                               na4   na5  \n",
       "SPEAKER RE2ae3a8526e6b62f71edfca298403456c 1  <NA>  <NA>  \n",
       "                                           1  <NA>   NaN  \n",
       "                                           1  <NA>  <NA>  \n",
       "                                           1  <NA>  <NA>  \n",
       "                                           1  <NA>   NaN  \n",
       "...                                            ...   ...  \n",
       "                                           1  <NA>  <NA>  \n",
       "                                           1  <NA>  <NA>  \n",
       "                                           1  <NA>  <NA>  \n",
       "                                           1  <NA>  <NA>  \n",
       "                                           1  <NA>  <NA>  \n",
       "\n",
       "[656 rows x 10 columns]"
      ]
     },
     "execution_count": 10,
     "metadata": {},
     "output_type": "execute_result"
    }
   ],
   "source": [
    "# cannot load this using load_rttm for some reason -- try pandas read_csv\n",
    "pred = pd.read_csv(comparison, \n",
    "                   sep=\" \", \n",
    "                   header=None, \n",
    "                   names=[\"ignore\", \n",
    "                          \"file\", \n",
    "                          \"na1\", \n",
    "                          \"start_time\", \n",
    "                          \"duration\", \n",
    "                          \"na2\", \n",
    "                          \"na3\", \n",
    "                          \"na4\", \n",
    "                          \"na5\"])\n",
    "pred"
   ]
  },
  {
   "cell_type": "code",
   "execution_count": 7,
   "metadata": {},
   "outputs": [
    {
     "ename": "ValueError",
     "evalue": "could not convert string to float: '<NA>'",
     "output_type": "error",
     "traceback": [
      "\u001b[0;31m---------------------------------------------------------------------------\u001b[0m",
      "\u001b[0;31mTypeError\u001b[0m                                 Traceback (most recent call last)",
      "\u001b[0;32mpandas/_libs/parsers.pyx\u001b[0m in \u001b[0;36mpandas._libs.parsers.TextReader._convert_tokens\u001b[0;34m()\u001b[0m\n",
      "\u001b[0;31mTypeError\u001b[0m: Cannot cast array data from dtype('O') to dtype('float64') according to the rule 'safe'",
      "\nDuring handling of the above exception, another exception occurred:\n",
      "\u001b[0;31mValueError\u001b[0m                                Traceback (most recent call last)",
      "\u001b[0;32m<ipython-input-7-58baea0de4d4>\u001b[0m in \u001b[0;36m<module>\u001b[0;34m\u001b[0m\n\u001b[0;32m----> 1\u001b[0;31m \u001b[0mpred\u001b[0m \u001b[0;34m=\u001b[0m \u001b[0mload_rttm\u001b[0m\u001b[0;34m(\u001b[0m\u001b[0mcomparison\u001b[0m\u001b[0;34m)\u001b[0m\u001b[0;34m\u001b[0m\u001b[0;34m\u001b[0m\u001b[0m\n\u001b[0m",
      "\u001b[0;32m~/.local/lib/python3.8/site-packages/pyannote/database/util.py\u001b[0m in \u001b[0;36mload_rttm\u001b[0;34m(file_rttm)\u001b[0m\n\u001b[1;32m    304\u001b[0m     ]\n\u001b[1;32m    305\u001b[0m     \u001b[0mdtype\u001b[0m \u001b[0;34m=\u001b[0m \u001b[0;34m{\u001b[0m\u001b[0;34m\"uri\"\u001b[0m\u001b[0;34m:\u001b[0m \u001b[0mstr\u001b[0m\u001b[0;34m,\u001b[0m \u001b[0;34m\"start\"\u001b[0m\u001b[0;34m:\u001b[0m \u001b[0mfloat\u001b[0m\u001b[0;34m,\u001b[0m \u001b[0;34m\"duration\"\u001b[0m\u001b[0;34m:\u001b[0m \u001b[0mfloat\u001b[0m\u001b[0;34m,\u001b[0m \u001b[0;34m\"speaker\"\u001b[0m\u001b[0;34m:\u001b[0m \u001b[0mstr\u001b[0m\u001b[0;34m}\u001b[0m\u001b[0;34m\u001b[0m\u001b[0;34m\u001b[0m\u001b[0m\n\u001b[0;32m--> 306\u001b[0;31m     data = pd.read_csv(\n\u001b[0m\u001b[1;32m    307\u001b[0m         \u001b[0mfile_rttm\u001b[0m\u001b[0;34m,\u001b[0m\u001b[0;34m\u001b[0m\u001b[0;34m\u001b[0m\u001b[0m\n\u001b[1;32m    308\u001b[0m         \u001b[0mnames\u001b[0m\u001b[0;34m=\u001b[0m\u001b[0mnames\u001b[0m\u001b[0;34m,\u001b[0m\u001b[0;34m\u001b[0m\u001b[0;34m\u001b[0m\u001b[0m\n",
      "\u001b[0;32m/usr/lib/python3/dist-packages/pandas/io/parsers.py\u001b[0m in \u001b[0;36mparser_f\u001b[0;34m(filepath_or_buffer, sep, delimiter, header, names, index_col, usecols, squeeze, prefix, mangle_dupe_cols, dtype, engine, converters, true_values, false_values, skipinitialspace, skiprows, skipfooter, nrows, na_values, keep_default_na, na_filter, verbose, skip_blank_lines, parse_dates, infer_datetime_format, keep_date_col, date_parser, dayfirst, cache_dates, iterator, chunksize, compression, thousands, decimal, lineterminator, quotechar, quoting, doublequote, escapechar, comment, encoding, dialect, error_bad_lines, warn_bad_lines, delim_whitespace, low_memory, memory_map, float_precision)\u001b[0m\n\u001b[1;32m    683\u001b[0m         )\n\u001b[1;32m    684\u001b[0m \u001b[0;34m\u001b[0m\u001b[0m\n\u001b[0;32m--> 685\u001b[0;31m         \u001b[0;32mreturn\u001b[0m \u001b[0m_read\u001b[0m\u001b[0;34m(\u001b[0m\u001b[0mfilepath_or_buffer\u001b[0m\u001b[0;34m,\u001b[0m \u001b[0mkwds\u001b[0m\u001b[0;34m)\u001b[0m\u001b[0;34m\u001b[0m\u001b[0;34m\u001b[0m\u001b[0m\n\u001b[0m\u001b[1;32m    686\u001b[0m \u001b[0;34m\u001b[0m\u001b[0m\n\u001b[1;32m    687\u001b[0m     \u001b[0mparser_f\u001b[0m\u001b[0;34m.\u001b[0m\u001b[0m__name__\u001b[0m \u001b[0;34m=\u001b[0m \u001b[0mname\u001b[0m\u001b[0;34m\u001b[0m\u001b[0;34m\u001b[0m\u001b[0m\n",
      "\u001b[0;32m/usr/lib/python3/dist-packages/pandas/io/parsers.py\u001b[0m in \u001b[0;36m_read\u001b[0;34m(filepath_or_buffer, kwds)\u001b[0m\n\u001b[1;32m    461\u001b[0m \u001b[0;34m\u001b[0m\u001b[0m\n\u001b[1;32m    462\u001b[0m     \u001b[0;32mtry\u001b[0m\u001b[0;34m:\u001b[0m\u001b[0;34m\u001b[0m\u001b[0;34m\u001b[0m\u001b[0m\n\u001b[0;32m--> 463\u001b[0;31m         \u001b[0mdata\u001b[0m \u001b[0;34m=\u001b[0m \u001b[0mparser\u001b[0m\u001b[0;34m.\u001b[0m\u001b[0mread\u001b[0m\u001b[0;34m(\u001b[0m\u001b[0mnrows\u001b[0m\u001b[0;34m)\u001b[0m\u001b[0;34m\u001b[0m\u001b[0;34m\u001b[0m\u001b[0m\n\u001b[0m\u001b[1;32m    464\u001b[0m     \u001b[0;32mfinally\u001b[0m\u001b[0;34m:\u001b[0m\u001b[0;34m\u001b[0m\u001b[0;34m\u001b[0m\u001b[0m\n\u001b[1;32m    465\u001b[0m         \u001b[0mparser\u001b[0m\u001b[0;34m.\u001b[0m\u001b[0mclose\u001b[0m\u001b[0;34m(\u001b[0m\u001b[0;34m)\u001b[0m\u001b[0;34m\u001b[0m\u001b[0;34m\u001b[0m\u001b[0m\n",
      "\u001b[0;32m/usr/lib/python3/dist-packages/pandas/io/parsers.py\u001b[0m in \u001b[0;36mread\u001b[0;34m(self, nrows)\u001b[0m\n\u001b[1;32m   1152\u001b[0m     \u001b[0;32mdef\u001b[0m \u001b[0mread\u001b[0m\u001b[0;34m(\u001b[0m\u001b[0mself\u001b[0m\u001b[0;34m,\u001b[0m \u001b[0mnrows\u001b[0m\u001b[0;34m=\u001b[0m\u001b[0;32mNone\u001b[0m\u001b[0;34m)\u001b[0m\u001b[0;34m:\u001b[0m\u001b[0;34m\u001b[0m\u001b[0;34m\u001b[0m\u001b[0m\n\u001b[1;32m   1153\u001b[0m         \u001b[0mnrows\u001b[0m \u001b[0;34m=\u001b[0m \u001b[0m_validate_integer\u001b[0m\u001b[0;34m(\u001b[0m\u001b[0;34m\"nrows\"\u001b[0m\u001b[0;34m,\u001b[0m \u001b[0mnrows\u001b[0m\u001b[0;34m)\u001b[0m\u001b[0;34m\u001b[0m\u001b[0;34m\u001b[0m\u001b[0m\n\u001b[0;32m-> 1154\u001b[0;31m         \u001b[0mret\u001b[0m \u001b[0;34m=\u001b[0m \u001b[0mself\u001b[0m\u001b[0;34m.\u001b[0m\u001b[0m_engine\u001b[0m\u001b[0;34m.\u001b[0m\u001b[0mread\u001b[0m\u001b[0;34m(\u001b[0m\u001b[0mnrows\u001b[0m\u001b[0;34m)\u001b[0m\u001b[0;34m\u001b[0m\u001b[0;34m\u001b[0m\u001b[0m\n\u001b[0m\u001b[1;32m   1155\u001b[0m \u001b[0;34m\u001b[0m\u001b[0m\n\u001b[1;32m   1156\u001b[0m         \u001b[0;31m# May alter columns / col_dict\u001b[0m\u001b[0;34m\u001b[0m\u001b[0;34m\u001b[0m\u001b[0;34m\u001b[0m\u001b[0m\n",
      "\u001b[0;32m/usr/lib/python3/dist-packages/pandas/io/parsers.py\u001b[0m in \u001b[0;36mread\u001b[0;34m(self, nrows)\u001b[0m\n\u001b[1;32m   2057\u001b[0m     \u001b[0;32mdef\u001b[0m \u001b[0mread\u001b[0m\u001b[0;34m(\u001b[0m\u001b[0mself\u001b[0m\u001b[0;34m,\u001b[0m \u001b[0mnrows\u001b[0m\u001b[0;34m=\u001b[0m\u001b[0;32mNone\u001b[0m\u001b[0;34m)\u001b[0m\u001b[0;34m:\u001b[0m\u001b[0;34m\u001b[0m\u001b[0;34m\u001b[0m\u001b[0m\n\u001b[1;32m   2058\u001b[0m         \u001b[0;32mtry\u001b[0m\u001b[0;34m:\u001b[0m\u001b[0;34m\u001b[0m\u001b[0;34m\u001b[0m\u001b[0m\n\u001b[0;32m-> 2059\u001b[0;31m             \u001b[0mdata\u001b[0m \u001b[0;34m=\u001b[0m \u001b[0mself\u001b[0m\u001b[0;34m.\u001b[0m\u001b[0m_reader\u001b[0m\u001b[0;34m.\u001b[0m\u001b[0mread\u001b[0m\u001b[0;34m(\u001b[0m\u001b[0mnrows\u001b[0m\u001b[0;34m)\u001b[0m\u001b[0;34m\u001b[0m\u001b[0;34m\u001b[0m\u001b[0m\n\u001b[0m\u001b[1;32m   2060\u001b[0m         \u001b[0;32mexcept\u001b[0m \u001b[0mStopIteration\u001b[0m\u001b[0;34m:\u001b[0m\u001b[0;34m\u001b[0m\u001b[0;34m\u001b[0m\u001b[0m\n\u001b[1;32m   2061\u001b[0m             \u001b[0;32mif\u001b[0m \u001b[0mself\u001b[0m\u001b[0;34m.\u001b[0m\u001b[0m_first_chunk\u001b[0m\u001b[0;34m:\u001b[0m\u001b[0;34m\u001b[0m\u001b[0;34m\u001b[0m\u001b[0m\n",
      "\u001b[0;32mpandas/_libs/parsers.pyx\u001b[0m in \u001b[0;36mpandas._libs.parsers.TextReader.read\u001b[0;34m()\u001b[0m\n",
      "\u001b[0;32mpandas/_libs/parsers.pyx\u001b[0m in \u001b[0;36mpandas._libs.parsers.TextReader._read_low_memory\u001b[0;34m()\u001b[0m\n",
      "\u001b[0;32mpandas/_libs/parsers.pyx\u001b[0m in \u001b[0;36mpandas._libs.parsers.TextReader._read_rows\u001b[0;34m()\u001b[0m\n",
      "\u001b[0;32mpandas/_libs/parsers.pyx\u001b[0m in \u001b[0;36mpandas._libs.parsers.TextReader._convert_column_data\u001b[0;34m()\u001b[0m\n",
      "\u001b[0;32mpandas/_libs/parsers.pyx\u001b[0m in \u001b[0;36mpandas._libs.parsers.TextReader._convert_tokens\u001b[0;34m()\u001b[0m\n",
      "\u001b[0;31mValueError\u001b[0m: could not convert string to float: '<NA>'"
     ]
    }
   ],
   "source": [
    "pred = load_rttm(comparison)[\"RE2ae3a8526e6b62f71edfca298403456c_difference\"]"
   ]
  },
  {
   "cell_type": "code",
   "execution_count": 4,
   "metadata": {},
   "outputs": [],
   "source": [
    "ROOT_DIR = \"/media/jculnan/backup/pull-twilio-recording-script-data\"\n",
    "FILENAME_DIR = \"/media/jculnan/backup/From LIVES folder\"\n",
    "TEST_PRED = f\"{FILENAME_DIR}/diarized_files\"\n",
    "TEST_GOLD = f\"{FILENAME_DIR}/diarization_effort/manually_annotated/test_all\""
   ]
  },
  {
   "cell_type": "code",
   "execution_count": 5,
   "metadata": {},
   "outputs": [],
   "source": [
    "pred_path = Path(TEST_PRED)\n",
    "gold_path = Path(TEST_GOLD)\n",
    "gold_files = [f.name for f in gold_path.iterdir()]"
   ]
  },
  {
   "cell_type": "code",
   "execution_count": 18,
   "metadata": {},
   "outputs": [
    {
     "name": "stdout",
     "output_type": "stream",
     "text": [
      "NOW SHOWING COMPARISON FOR RE03d2270a7c67f2b3bb55edf7dfc7901a from 0 to 50\n",
      "NOW SHOWING COMPARISON FOR RE03d2270a7c67f2b3bb55edf7dfc7901a from 100 to 150\n",
      "NOW SHOWING COMPARISON FOR RE03d2270a7c67f2b3bb55edf7dfc7901a from 200 to 250\n",
      "NOW SHOWING COMPARISON FOR RE03d2270a7c67f2b3bb55edf7dfc7901a from 300 to 350\n",
      "NOW SHOWING COMPARISON FOR RE03d2270a7c67f2b3bb55edf7dfc7901a from 400 to 450\n",
      "NOW SHOWING COMPARISON FOR RE03d2270a7c67f2b3bb55edf7dfc7901a from 500 to 550\n",
      "NOW SHOWING COMPARISON FOR RE03d2270a7c67f2b3bb55edf7dfc7901a from 600 to 650\n"
     ]
    }
   ],
   "source": [
    "for f in pred_path.iterdir():\n",
    "    if f.suffix == \".rttm\":\n",
    "        if f.name in gold_files:\n",
    "            pred = load_rttm(f)[f.stem]\n",
    "            gold = load_rttm(gold_path / f.name)[f.stem]\n",
    "            \n",
    "            # get gold info \n",
    "            gold_info = pd.read_csv(gold_path / f.name,\n",
    "                                    header=None,\n",
    "                                    names=[\"na0\",\n",
    "                                           \"file\",\n",
    "                                           \"num\",\n",
    "                                           \"start_time\",\n",
    "                                           \"dur\",\n",
    "                                           \"na1\",\n",
    "                                           \"na2\",\n",
    "                                           \"speaker\",\n",
    "                                           \"na3\",\n",
    "                                           \"na4\"],\n",
    "                                    sep=\" \")\n",
    "            gold_info['end_time'] = gold_info['start_time'] + gold_info['dur']\n",
    "            \n",
    "            x_max = gold_info['end_time'].iloc[-1]\n",
    "            \n",
    "            x = 0\n",
    "            while x < x_max:\n",
    "                EXCERPT = Segment(x, x+100)\n",
    "                notebook.crop = EXCERPT\n",
    "                \n",
    "                print(f\"NOW SHOWING COMPARISON FOR {f.stem} from {x} to {x+50}\")\n",
    "#                 gold.discretize()\n",
    "#                 print(gold.get_timeline())\n",
    "                pred\n",
    "                \n",
    "                x += 100\n",
    "            break\n",
    "                "
   ]
  },
  {
   "cell_type": "code",
   "execution_count": 13,
   "metadata": {},
   "outputs": [
    {
     "name": "stdout",
     "output_type": "stream",
     "text": [
      "<class 'pyannote.core.annotation.Annotation'>\n"
     ]
    }
   ],
   "source": [
    "print(type(gold))"
   ]
  },
  {
   "cell_type": "code",
   "execution_count": 14,
   "metadata": {},
   "outputs": [
    {
     "data": {
      "image/png": "[encoded data removed]",
      "text/plain": [
       "<Timeline(uri=RE03d2270a7c67f2b3bb55edf7dfc7901a, segments=[<Segment(1.18571, 2.06428)>, <Segment(3.10242, 5.09544)>, <Segment(5.98271, 6.64846)>, <Segment(7.16058, 19.3603)>, <Segment(20.2214, 20.696)>, <Segment(21.2812, 29.384)>, <Segment(28.7383, 29.2927)>, <Segment(29.7636, 33.8318)>, <Segment(35.0866, 54.0612)>, <Segment(55.8951, 59.3186)>, <Segment(60.1629, 80.4284)>, <Segment(81.4158, 86.9301)>, <Segment(87.7952, 88.3128)>, <Segment(89.9288, 101.206)>, <Segment(102.531, 112.882)>, <Segment(111.973, 114.441)>, <Segment(113.314, 142.914)>, <Segment(144.443, 150.338)>, <Segment(151.175, 151.506)>, <Segment(152.75, 154.646)>, <Segment(153.619, 168.23)>, <Segment(168.852, 176.545)>, <Segment(177.328, 237.079)>, <Segment(237.93, 242.968)>, <Segment(243.504, 269.843)>, <Segment(270.381, 287.604)>, <Segment(288.705, 318.107)>, <Segment(318.768, 326.066)>, <Segment(324.798, 326.574)>, <Segment(327.159, 328.75)>, <Segment(328.027, 328.52)>, <Segment(329.001, 340.171)>, <Segment(339.227, 342.523)>, <Segment(341.477, 342.291)>, <Segment(343.17, 354.597)>, <Segment(353.972, 367.103)>, <Segment(368.15, 368.504)>, <Segment(368.818, 380.263)>, <Segment(381.616, 381.911)>, <Segment(383.027, 399.809)>, <Segment(398.771, 423.965)>, <Segment(399.418, 399.654)>, <Segment(423.659, 424.009)>, <Segment(424.926, 435.536)>, <Segment(436.567, 445.042)>, <Segment(445.604, 450.4)>, <Segment(450.595, 450.882)>, <Segment(452.733, 469.41)>, <Segment(470.223, 478.376)>, <Segment(478.9, 479.309)>, <Segment(479.932, 490.297)>, <Segment(490.469, 490.824)>, <Segment(491.927, 503.276)>, <Segment(503.519, 503.91)>, <Segment(504.646, 522.542)>, <Segment(523.273, 544.246)>, <Segment(533.867, 534.116)>, <Segment(545.018, 545.272)>, <Segment(546.168, 550.681)>, <Segment(551.655, 552.898)>, <Segment(554.447, 568.332)>, <Segment(569.552, 574.841)>, <Segment(575.299, 590.485)>, <Segment(591.914, 592.13)>, <Segment(592.658, 607.214)>, <Segment(608.271, 621.388)>, <Segment(622.455, 634.782)>, <Segment(633.168, 644.577)>, <Segment(634.772, 635.05)>, <Segment(642.636, 657.656)>, <Segment(654.937, 655.982)>, <Segment(658.062, 661.527)>, <Segment(660.913, 669.562)>, <Segment(670.568, 677.709)>, <Segment(677.177, 677.545)>, <Segment(678, 679.222)>, <Segment(680, 680.195)>, <Segment(682.146, 691.566)>, <Segment(692.494, 717.139)>, <Segment(718.023, 722.864)>, <Segment(723.741, 747.934)>, <Segment(748.679, 751.948)>, <Segment(753.087, 766.009)>, <Segment(762.854, 764.224)>, <Segment(766.078, 774.031)>, <Segment(774.205, 848.168)>])>"
      ]
     },
     "execution_count": 14,
     "metadata": {},
     "output_type": "execute_result"
    }
   ],
   "source": [
    "gold.get_timeline()"
   ]
  },
  {
   "cell_type": "code",
   "execution_count": 11,
   "metadata": {},
   "outputs": [
    {
     "data": {
      "image/png": "[encoded data removed]",
      "text/plain": [
       "<pyannote.core.annotation.Annotation at 0x7f9b9ef1d4f0>"
      ]
     },
     "execution_count": 11,
     "metadata": {},
     "output_type": "execute_result"
    }
   ],
   "source": [
    "pred"
   ]
  },
  {
   "cell_type": "code",
   "execution_count": 12,
   "metadata": {},
   "outputs": [
    {
     "data": {
      "image/png": "[encoded data removed]",
      "text/plain": [
       "<pyannote.core.annotation.Annotation at 0x7f9b9e6f42e0>"
      ]
     },
     "execution_count": 12,
     "metadata": {},
     "output_type": "execute_result"
    }
   ],
   "source": [
    "gold"
   ]
  },
  {
   "cell_type": "code",
   "execution_count": 28,
   "metadata": {},
   "outputs": [],
   "source": [
    "EXCERPT = Segment(50,100)"
   ]
  },
  {
   "cell_type": "code",
   "execution_count": 29,
   "metadata": {},
   "outputs": [],
   "source": [
    "notebook.crop = EXCERPT"
   ]
  },
  {
   "cell_type": "code",
   "execution_count": 30,
   "metadata": {},
   "outputs": [
    {
     "data": {
      "image/png": "[encoded data removed]",
      "text/plain": [
       "<pyannote.core.feature.SlidingWindowFeature at 0x7f9b9a001b50>"
      ]
     },
     "execution_count": 30,
     "metadata": {},
     "output_type": "execute_result"
    }
   ],
   "source": [
    "gold.discretize()"
   ]
  },
  {
   "cell_type": "code",
   "execution_count": null,
   "metadata": {},
   "outputs": [],
   "source": []
  }
 ],
 "metadata": {
  "kernelspec": {
   "display_name": "Python 3",
   "language": "python",
   "name": "python3"
  },
  "language_info": {
   "codemirror_mode": {
    "name": "ipython",
    "version": 3
   },
   "file_extension": ".py",
   "mimetype": "text/x-python",
   "name": "python",
   "nbconvert_exporter": "python",
   "pygments_lexer": "ipython3",
   "version": "3.8.10"
  }
 },
 "nbformat": 4,
 "nbformat_minor": 4
}
